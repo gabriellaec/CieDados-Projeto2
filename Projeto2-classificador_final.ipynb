{
 "cells": [
  {
   "cell_type": "markdown",
   "metadata": {},
   "source": [
    "# Projeto 2 - Ciência dos Dados"
   ]
  },
  {
   "cell_type": "markdown",
   "metadata": {},
   "source": [
    "Nome: Gabriela Yukari Mitu\n",
    "\n",
    "Nome: Gabriella Escobar Cukier"
   ]
  },
  {
   "cell_type": "markdown",
   "metadata": {},
   "source": [
    "___\n",
    "# Classificador automático de sentimento\n"
   ]
  },
  {
   "cell_type": "markdown",
   "metadata": {},
   "source": [
    "## Preparando o ambiente no jupyter:"
   ]
  },
  {
   "cell_type": "code",
   "execution_count": 1,
   "metadata": {},
   "outputs": [],
   "source": [
    "%%capture\n",
    "\n",
    "#Instalando o tweepy\n",
    "!pip install tweepy"
   ]
  },
  {
   "cell_type": "code",
   "execution_count": 2,
   "metadata": {
    "jupyter": {
     "outputs_hidden": true
    }
   },
   "outputs": [],
   "source": [
    "import tweepy\n",
    "import math\n",
    "import os.path\n",
    "import pandas as pd\n",
    "import json\n",
    "from random import shuffle\n",
    "import nltk\n",
    "from nltk.corpus import stopwords"
   ]
  },
  {
   "cell_type": "markdown",
   "metadata": {},
   "source": [
    "___\n",
    "### Montando o Classificador Naive-Bayes\n",
    "\n",
    "Considerando apenas as mensagens da planilha Treinamento, ensine  seu classificador."
   ]
  },
  {
   "cell_type": "markdown",
   "metadata": {},
   "source": [
    "### Planilha de dados"
   ]
  },
  {
   "cell_type": "markdown",
   "metadata": {},
   "source": [
    "Para criar o classificador Naive Bayes, os seguintes passos foram seguidos:\n",
    "- Elaboração deplanilhas do excel de treinamento e teste com dados do Twitter sobre o produto \"Android\"\n",
    "- Classificação manual dos dados da planilha (ver: Projeto2-excel.ipynb).\n",
    "Na coluna de Categoria, foram separados 4 tipos de classificação: Irrelevante, Pouco relevante, Relevante e Muito Relevante. Como critério para identificar cada tipo foi utilizada a definição a seguir:\n",
    "\n",
    "**Irrelevante**:\n",
    "- Situações pessoais\n",
    "- Comentários aleatórios não referenciais ao sistema Android\n",
    "- Anúncio de aplicativos/ferramenta/atualizações para usuários.\n",
    "\n",
    "**Pouco relevante**:\n",
    "\n",
    "- Crítica incompleta, isto é, não é compreensível apenas visualizando o tweet, há necessidade de pesquisar mais a fundo sobre o contexto - menos prático que apenas receber a crítica, mas pode ser relevante.\n",
    "\n",
    "\n",
    "**Relevante**:\n",
    "- Tweets que comparam características do Android com produtos similares de marcas concorrentes\n",
    "\n",
    "**Muito Relevante**: \n",
    "- Críticas mais construtivas/Sugestão – aborda ao menos um problema/qualidade\n"
   ]
  },
  {
   "cell_type": "code",
   "execution_count": 3,
   "metadata": {},
   "outputs": [
    {
     "data": {
      "text/html": [
       "<div>\n",
       "<style scoped>\n",
       "    .dataframe tbody tr th:only-of-type {\n",
       "        vertical-align: middle;\n",
       "    }\n",
       "\n",
       "    .dataframe tbody tr th {\n",
       "        vertical-align: top;\n",
       "    }\n",
       "\n",
       "    .dataframe thead th {\n",
       "        text-align: right;\n",
       "    }\n",
       "</style>\n",
       "<table border=\"1\" class=\"dataframe\">\n",
       "  <thead>\n",
       "    <tr style=\"text-align: right;\">\n",
       "      <th></th>\n",
       "      <th>Treinamento</th>\n",
       "      <th>Relevância</th>\n",
       "      <th>Categoria</th>\n",
       "    </tr>\n",
       "  </thead>\n",
       "  <tbody>\n",
       "    <tr>\n",
       "      <th>645</th>\n",
       "      <td>android 10 acabou silenciosamente com uma func...</td>\n",
       "      <td>Relevante</td>\n",
       "      <td>Muito relevante</td>\n",
       "    </tr>\n",
       "    <tr>\n",
       "      <th>646</th>\n",
       "      <td>@toodivaforyou abo twitter for android sai só,...</td>\n",
       "      <td>Irrelevante</td>\n",
       "      <td>Irrelevante</td>\n",
       "    </tr>\n",
       "    <tr>\n",
       "      <th>647</th>\n",
       "      <td>vir pra casa da mazao e deixar o carregador em...</td>\n",
       "      <td>Irrelevante</td>\n",
       "      <td>Irrelevante</td>\n",
       "    </tr>\n",
       "    <tr>\n",
       "      <th>648</th>\n",
       "      <td>@dmpedrovieira @diogoafsimoes @androidgeekpt @...</td>\n",
       "      <td>Irrelevante</td>\n",
       "      <td>Irrelevante</td>\n",
       "    </tr>\n",
       "    <tr>\n",
       "      <th>649</th>\n",
       "      <td>@tunaosabesnd o android será sempre melhor só ...</td>\n",
       "      <td>Relevante</td>\n",
       "      <td>Muito relevante</td>\n",
       "    </tr>\n",
       "  </tbody>\n",
       "</table>\n",
       "</div>"
      ],
      "text/plain": [
       "                                           Treinamento   Relevância  \\\n",
       "645  android 10 acabou silenciosamente com uma func...    Relevante   \n",
       "646  @toodivaforyou abo twitter for android sai só,...  Irrelevante   \n",
       "647  vir pra casa da mazao e deixar o carregador em...  Irrelevante   \n",
       "648  @dmpedrovieira @diogoafsimoes @androidgeekpt @...  Irrelevante   \n",
       "649  @tunaosabesnd o android será sempre melhor só ...    Relevante   \n",
       "\n",
       "           Categoria  \n",
       "645  Muito relevante  \n",
       "646      Irrelevante  \n",
       "647      Irrelevante  \n",
       "648      Irrelevante  \n",
       "649  Muito relevante  "
      ]
     },
     "execution_count": 3,
     "metadata": {},
     "output_type": "execute_result"
    }
   ],
   "source": [
    "tweets_treinamento = pd.read_excel('Android.xlsx',sheet_name=0)\n",
    "tweets_treinamento[\"Categoria\"] = tweets_treinamento[\"Categoria\"].replace(0,\"Irrelevante\")\n",
    "tweets_treinamento[\"Categoria\"] = tweets_treinamento[\"Categoria\"].replace(1,\"Pouco relevante\")\n",
    "tweets_treinamento[\"Categoria\"] = tweets_treinamento[\"Categoria\"].replace(2,\"Relevante\")\n",
    "tweets_treinamento[\"Categoria\"] = tweets_treinamento[\"Categoria\"].replace(3,\"Muito relevante\")\n",
    "\n",
    "\n",
    "tweets_treinamento[\"Relevância\"] = tweets_treinamento[\"Relevância\"].replace(0,\"Irrelevante\")\n",
    "tweets_treinamento[\"Relevância\"] = tweets_treinamento[\"Relevância\"].replace(1,\"Relevante\")\n",
    "\n",
    "\n",
    "tweets_treinamento.tail()"
   ]
  },
  {
   "cell_type": "code",
   "execution_count": 4,
   "metadata": {},
   "outputs": [
    {
     "data": {
      "text/html": [
       "<div>\n",
       "<style scoped>\n",
       "    .dataframe tbody tr th:only-of-type {\n",
       "        vertical-align: middle;\n",
       "    }\n",
       "\n",
       "    .dataframe tbody tr th {\n",
       "        vertical-align: top;\n",
       "    }\n",
       "\n",
       "    .dataframe thead th {\n",
       "        text-align: right;\n",
       "    }\n",
       "</style>\n",
       "<table border=\"1\" class=\"dataframe\">\n",
       "  <thead>\n",
       "    <tr style=\"text-align: right;\">\n",
       "      <th></th>\n",
       "      <th>Teste</th>\n",
       "      <th>Relevância</th>\n",
       "      <th>Categoria</th>\n",
       "    </tr>\n",
       "  </thead>\n",
       "  <tbody>\n",
       "    <tr>\n",
       "      <th>0</th>\n",
       "      <td>@caldasm16 nao tanto quanto android pode ter ctz</td>\n",
       "      <td>Irrelevante</td>\n",
       "      <td>Irrelevante</td>\n",
       "    </tr>\n",
       "    <tr>\n",
       "      <th>1</th>\n",
       "      <td>libertei-me do iphone. agora, tenho bateria du...</td>\n",
       "      <td>Relevante</td>\n",
       "      <td>Relevante</td>\n",
       "    </tr>\n",
       "    <tr>\n",
       "      <th>2</th>\n",
       "      <td>responda a breves pesquisas e seja recompensad...</td>\n",
       "      <td>Irrelevante</td>\n",
       "      <td>Irrelevante</td>\n",
       "    </tr>\n",
       "    <tr>\n",
       "      <th>3</th>\n",
       "      <td>uber e lyft são acusados de cobrança de taxa a...</td>\n",
       "      <td>Irrelevante</td>\n",
       "      <td>Irrelevante</td>\n",
       "    </tr>\n",
       "    <tr>\n",
       "      <th>4</th>\n",
       "      <td>@luisscp_1906 sim para android, em qualidade e...</td>\n",
       "      <td>Relevante</td>\n",
       "      <td>Pouco relevante</td>\n",
       "    </tr>\n",
       "  </tbody>\n",
       "</table>\n",
       "</div>"
      ],
      "text/plain": [
       "                                               Teste   Relevância  \\\n",
       "0   @caldasm16 nao tanto quanto android pode ter ctz  Irrelevante   \n",
       "1  libertei-me do iphone. agora, tenho bateria du...    Relevante   \n",
       "2  responda a breves pesquisas e seja recompensad...  Irrelevante   \n",
       "3  uber e lyft são acusados de cobrança de taxa a...  Irrelevante   \n",
       "4  @luisscp_1906 sim para android, em qualidade e...    Relevante   \n",
       "\n",
       "         Categoria  \n",
       "0      Irrelevante  \n",
       "1        Relevante  \n",
       "2      Irrelevante  \n",
       "3      Irrelevante  \n",
       "4  Pouco relevante  "
      ]
     },
     "execution_count": 4,
     "metadata": {},
     "output_type": "execute_result"
    }
   ],
   "source": [
    "tweets_teste= pd.read_excel(\"Android.xlsx\",sheet_name=1) \n",
    "tweets_teste[\"Categoria\"] = tweets_teste[\"Categoria\"].replace(0,\"Irrelevante\")\n",
    "tweets_teste[\"Categoria\"] = tweets_teste[\"Categoria\"].replace(1,\"Pouco relevante\")\n",
    "tweets_teste[\"Categoria\"] = tweets_teste[\"Categoria\"].replace(2,\"Relevante\")\n",
    "tweets_teste[\"Categoria\"] = tweets_teste[\"Categoria\"].replace(3,\"Muito relevante\")\n",
    "\n",
    "tweets_teste[\"Relevância\"] = tweets_teste[\"Relevância\"].replace(0,\"Irrelevante\")\n",
    "tweets_teste[\"Relevância\"] = tweets_teste[\"Relevância\"].replace(1,\"Relevante\")\n",
    "\n",
    "tweets_teste.head()"
   ]
  },
  {
   "cell_type": "markdown",
   "metadata": {},
   "source": [
    "## Limpeza das bases"
   ]
  },
  {
   "cell_type": "markdown",
   "metadata": {},
   "source": [
    "Para a obtenção de melhores resultados, uma limpeza de bases foi feita. Esta consistia na remoção de caracteres que não interferiam no significado dos comentários, mas poderiam dificultar a classificação. Sem a limpeza, o classificador poderia carecterizar dados semelhantes como distintos."
   ]
  },
  {
   "cell_type": "code",
   "execution_count": 5,
   "metadata": {},
   "outputs": [],
   "source": [
    "def limpeza(tweets, coluna):\n",
    "    tweets[coluna] = tweets[coluna].apply(lambda x: x.lower())\n",
    "\n",
    "    for frase in tweets[coluna]:\n",
    "        frase_split = frase.split(\" \")\n",
    "        for palavra in frase_split:\n",
    "            if len(palavra) == 1:\n",
    "                frase_split.remove(palavra)\n",
    "\n",
    "\n",
    "\n",
    "    nltk.download('stopwords')\n",
    "    stop = stopwords.words('portuguese')\n",
    "    stop_list = [\"?\", \"de\", \"é\", \"á\", \"à\", \"ao\", \"a\", \"o\", \"é\", \"rt\", '\"', \"“\", \"'\", \",\", \":\", \".\", \"(\", \")\", \"!\", \"$\", \"%\", \"*\", \"&\", \"-\", \"+\", \"=\", \"/\"]\n",
    "    stop.extend(stop_list)\n",
    "    tweets[coluna] = [' '.join([w for w in x.lower().split() if w not in stop]) \n",
    "        for x in tweets[coluna].tolist()]\n",
    "    \n",
    "    \n",
    "        \n",
    "\n",
    "    tweets[coluna] = tweets[coluna].str.replace(\"  \",\" \")\n",
    "    tweets[coluna] = tweets[coluna].str.replace(\",\",\"\")\n",
    "    tweets[coluna] = tweets[coluna].str.replace(\"?\",\"\")\n",
    "    tweets[coluna] = tweets[coluna].str.replace(\"'\",\"\")\n",
    "    tweets[coluna] = tweets[coluna].str.replace('\"',\"\")\n",
    "    tweets[coluna] = tweets[coluna].str.replace(\"“\",\"\")\n",
    "    tweets[coluna] = tweets[coluna].str.replace(\":\",\"\")\n",
    "    tweets[coluna] = tweets[coluna].str.replace(\".\",\"\")\n",
    "    tweets[coluna] = tweets[coluna].str.replace(\")\",\"\")\n",
    "    tweets[coluna] = tweets[coluna].str.replace(\"(\",\"\")\n",
    "    tweets[coluna] = tweets[coluna].str.replace(\"!\",\"\")\n",
    "    tweets[coluna] = tweets[coluna].str.replace(\"$\",\"\")\n",
    "    tweets[coluna] = tweets[coluna].str.replace(\"%\",\"\")\n",
    "    tweets[coluna] = tweets[coluna].str.replace(\"*\",\"\")\n",
    "    tweets[coluna] = tweets[coluna].str.replace(\"&\",\"\")\n",
    "    tweets[coluna] = tweets[coluna].str.replace(\"-\",\"\")\n",
    "    tweets[coluna] = tweets[coluna].str.replace(\"+\",\"\")\n",
    "    tweets[coluna] = tweets[coluna].str.replace(\"=\",\"\")\n",
    "    tweets[coluna] = tweets[coluna].str.replace(\"/\",\"\")\n",
    "    tweets[coluna] = tweets[coluna].str.replace(\"@\",\"\")\n",
    "    tweets[coluna] = tweets[coluna].str.replace(\"|\",\"\")\n",
    "\n",
    "    return pd.DataFrame(tweets)"
   ]
  },
  {
   "cell_type": "markdown",
   "metadata": {},
   "source": [
    "## Implementação do classificador"
   ]
  },
  {
   "cell_type": "markdown",
   "metadata": {},
   "source": [
    "### Classificador Naive Bayes"
   ]
  },
  {
   "cell_type": "markdown",
   "metadata": {},
   "source": [
    "O algoritmo “Naive Bayes” é um classificador probabilístico criado com base no “Teorema de Bayes”. A denominação \"naive\"  se baseia no fato de que o classificador considera as variáveis estudadas como independentes. O algoritmo consegue encontrar uma probabilidade a posteriori a partir da probabilidade a priori a partir da seguinte relação:"
   ]
  },
  {
   "attachments": {
    "image.png": {
     "image/png": "[encoded data removed]"
    }
   },
   "cell_type": "markdown",
   "metadata": {},
   "source": [
    "![image.png](attachment:image.png)"
   ]
  },
  {
   "cell_type": "markdown",
   "metadata": {},
   "source": [
    "- P(B|A): probabilidade de B acontecer dado que A ocorreu \n",
    "- P(A): probabilidade de A ocorrer \n",
    "- P(B): probabilidade de B ocorrer"
   ]
  },
  {
   "cell_type": "markdown",
   "metadata": {},
   "source": [
    "### Suavização de Laplace"
   ]
  },
  {
   "cell_type": "markdown",
   "metadata": {},
   "source": [
    "Como algumas palavras não existem nos tweets irrelevantes, se o Teorema de Bayes fosse seguido normalmente, haveria uma multiplicação de probabilidades por zero. Para evitar tal problema, foi utilizada a técnica de suavização de Laplace. Ela consiste no seguinte procedimento:\n"
   ]
  },
  {
   "attachments": {
    "image.png": {
     "image/png": "[encoded data removed]"
    }
   },
   "cell_type": "markdown",
   "metadata": {},
   "source": [
    "![image.png](attachment:image.png)"
   ]
  },
  {
   "cell_type": "markdown",
   "metadata": {},
   "source": [
    "Na imagem, m é a frequência absoluta (no caso da palavra), n é o numero de termos no documento (quantidade de palavras e k é o número de termos da categoria a ser estudada.\n"
   ]
  },
  {
   "cell_type": "markdown",
   "metadata": {},
   "source": [
    "Para realizar a suavização, foi criado um dicionário para cada categoria. Todas as palavras do conjunto foram adicionadas nesses dicionários, com valor inicial igual a um. Depois, o número de vezes que uma palavra aparece foi acrescentado ao valor da palavra correspondente"
   ]
  },
  {
   "cell_type": "code",
   "execution_count": 41,
   "metadata": {},
   "outputs": [
    {
     "name": "stderr",
     "output_type": "stream",
     "text": [
      "[nltk_data] Downloading package stopwords to\n",
      "[nltk_data]     C:\\Users\\gabic\\AppData\\Roaming\\nltk_data...\n",
      "[nltk_data]   Package stopwords is already up-to-date!\n"
     ]
    }
   ],
   "source": [
    "tweets = limpeza(tweets_treinamento, \"Treinamento\")\n",
    "\n",
    "irrel=tweets['Treinamento'][tweets['Relevância'] == \"Irrelevante\"]\n",
    "rele=tweets['Treinamento'][tweets['Relevância'] == \"Relevante\"]\n"
   ]
  },
  {
   "cell_type": "markdown",
   "metadata": {},
   "source": [
    "### Frequência absoluta - relevante e irrelevante"
   ]
  },
  {
   "cell_type": "code",
   "execution_count": 42,
   "metadata": {},
   "outputs": [
    {
     "name": "stdout",
     "output_type": "stream",
     "text": [
      "Frequência absoluta (relevante e irrelevante):  7472\n"
     ]
    }
   ],
   "source": [
    "conteudo = []\n",
    "for t in tweets[\"Treinamento\"]: \n",
    "    pal = t.split()\n",
    "    for p in pal:\n",
    "            conteudo.append(p)\n",
    "            \n",
    "texto=\" \".join(conteudo)\n",
    "series= pd.Series(texto.split())\n",
    "freq = series.value_counts()\n",
    "totalt=freq.sum()\n",
    "print(\"Frequência absoluta (relevante e irrelevante): \", totalt)\n",
    "dict_tot =freq.to_dict()\n"
   ]
  },
  {
   "cell_type": "markdown",
   "metadata": {},
   "source": [
    "## Dicionário da categoria relevante, frequência absoluta e relativa"
   ]
  },
  {
   "cell_type": "code",
   "execution_count": 43,
   "metadata": {},
   "outputs": [
    {
     "name": "stdout",
     "output_type": "stream",
     "text": [
      "Frequência absoluta:  868\n",
      "Frequência relativa:  0.11616702355460386\n"
     ]
    }
   ],
   "source": [
    "conteudo = []\n",
    "for t in rele: \n",
    "    pal = t.split()\n",
    "    for p in pal:\n",
    "            conteudo.append(p)\n",
    "texto=\" \".join(conteudo)\n",
    "series= pd.Series(texto.split())\n",
    "freq = series.value_counts()\n",
    "totrele=freq.sum()\n",
    "print(\"Frequência absoluta: \",totrele)\n",
    "di_rele=freq.to_dict()\n",
    "frele=totrele/totalt\n",
    "print(\"Frequência relativa: \",frele)"
   ]
  },
  {
   "cell_type": "code",
   "execution_count": 44,
   "metadata": {},
   "outputs": [
    {
     "name": "stdout",
     "output_type": "stream",
     "text": [
      "Dicionário - categoria relevante:\n",
      "Termo mais utilizado do dicionário:  android: 79 vezes\n"
     ]
    }
   ],
   "source": [
    "dicionario_relevante={}\n",
    "for p in dict_tot.keys():\n",
    "    dicionario_relevante[p]=1\n",
    "for palavra in di_rele:\n",
    "    dicionario_relevante[palavra]+=di_rele[palavra]\n",
    "print(\"Dicionário - categoria relevante:\")\n",
    "\n",
    "m=0\n",
    "for k in dicionario_relevante:\n",
    "    while m<1:\n",
    "        print (\"Termo mais utilizado do dicionário: \",k + \": \" + str(dicionario_relevante[k]) + \" vezes\")\n",
    "        m+=1\n",
    "        \n",
    "#dicionario_relevante"
   ]
  },
  {
   "cell_type": "markdown",
   "metadata": {},
   "source": [
    "## Dicionário da categoria irrelevante, frequência absoluta e relativa"
   ]
  },
  {
   "cell_type": "code",
   "execution_count": 45,
   "metadata": {},
   "outputs": [
    {
     "name": "stdout",
     "output_type": "stream",
     "text": [
      "Frequência absoluta:  6604\n",
      "Frequência relativa:  0.8838329764453962\n"
     ]
    }
   ],
   "source": [
    "conteudo = []\n",
    "for t in irrel: \n",
    "    pal = t.split()\n",
    "    for p in pal:\n",
    "            conteudo.append(p)\n",
    "texto=\" \".join(conteudo)\n",
    "series= pd.Series(texto.split())\n",
    "freq = series.value_counts()\n",
    "totirr=freq.sum()\n",
    "print(\"Frequência absoluta: \",totirr)\n",
    "di_irr=freq.to_dict()\n",
    "firr=totirr/totalt\n",
    "print(\"Frequência relativa: \",firr)"
   ]
  },
  {
   "cell_type": "code",
   "execution_count": 46,
   "metadata": {},
   "outputs": [
    {
     "name": "stdout",
     "output_type": "stream",
     "text": [
      "Dicionário - categoria irrelevante\n",
      "Termo mais utilizado dicionário:  android: 494 vezes\n"
     ]
    }
   ],
   "source": [
    "dicionario_irrelevante={}\n",
    "for p in dict_tot.keys():\n",
    "    dicionario_irrelevante[p]=1\n",
    "for palavra in di_irr:\n",
    "    dicionario_irrelevante[palavra]+=di_irr[palavra]\n",
    "print(\"Dicionário - categoria irrelevante\")\n",
    "\n",
    "m=0\n",
    "for k in dicionario_irrelevante:\n",
    "    while m<1:\n",
    "        print (\"Termo mais utilizado dicionário: \", k + \": \" + str(dicionario_irrelevante[k]) + \" vezes\")\n",
    "        m+=1\n",
    "\n",
    "#dicionario_irrelevante"
   ]
  },
  {
   "cell_type": "markdown",
   "metadata": {},
   "source": [
    "## Verificação da performance"
   ]
  },
  {
   "cell_type": "code",
   "execution_count": 47,
   "metadata": {},
   "outputs": [],
   "source": [
    "irrel ={}\n",
    "rel ={}\n",
    "\n",
    "todas_palavras=dict_tot.keys()\n",
    "for palavra in todas_palavras:\n",
    "    irrel[palavra]= dicionario_irrelevante[palavra]/(len(todas_palavras)+(totirr))#suavização de Laplace\n",
    "    rel[palavra]= dicionario_relevante[palavra]/(len(todas_palavras)+(totrele))\n"
   ]
  },
  {
   "cell_type": "code",
   "execution_count": 48,
   "metadata": {},
   "outputs": [
    {
     "name": "stderr",
     "output_type": "stream",
     "text": [
      "[nltk_data] Downloading package stopwords to\n",
      "[nltk_data]     C:\\Users\\gabic\\AppData\\Roaming\\nltk_data...\n",
      "[nltk_data]   Package stopwords is already up-to-date!\n"
     ]
    },
    {
     "data": {
      "text/html": [
       "<div>\n",
       "<style scoped>\n",
       "    .dataframe tbody tr th:only-of-type {\n",
       "        vertical-align: middle;\n",
       "    }\n",
       "\n",
       "    .dataframe tbody tr th {\n",
       "        vertical-align: top;\n",
       "    }\n",
       "\n",
       "    .dataframe thead th {\n",
       "        text-align: right;\n",
       "    }\n",
       "</style>\n",
       "<table border=\"1\" class=\"dataframe\">\n",
       "  <thead>\n",
       "    <tr style=\"text-align: right;\">\n",
       "      <th></th>\n",
       "      <th>Teste</th>\n",
       "      <th>Relevância</th>\n",
       "      <th>Categoria</th>\n",
       "      <th>Chute</th>\n",
       "    </tr>\n",
       "  </thead>\n",
       "  <tbody>\n",
       "    <tr>\n",
       "      <th>0</th>\n",
       "      <td>caldasm16 nao tanto quanto android pode ter ctz</td>\n",
       "      <td>Irrelevante</td>\n",
       "      <td>Irrelevante</td>\n",
       "      <td>Irrelevante</td>\n",
       "    </tr>\n",
       "    <tr>\n",
       "      <th>1</th>\n",
       "      <td>liberteime iphone agora bateria durante dia me...</td>\n",
       "      <td>Relevante</td>\n",
       "      <td>Relevante</td>\n",
       "      <td>Irrelevante</td>\n",
       "    </tr>\n",
       "    <tr>\n",
       "      <th>2</th>\n",
       "      <td>responda breves pesquisas recompensado faça do...</td>\n",
       "      <td>Irrelevante</td>\n",
       "      <td>Irrelevante</td>\n",
       "      <td>Irrelevante</td>\n",
       "    </tr>\n",
       "    <tr>\n",
       "      <th>3</th>\n",
       "      <td>uber lyft acusados cobrança taxa acima prometi...</td>\n",
       "      <td>Irrelevante</td>\n",
       "      <td>Irrelevante</td>\n",
       "      <td>Irrelevante</td>\n",
       "    </tr>\n",
       "    <tr>\n",
       "      <th>4</th>\n",
       "      <td>luisscp_1906 sim android qualidade melhor dois...</td>\n",
       "      <td>Relevante</td>\n",
       "      <td>Pouco relevante</td>\n",
       "      <td>Irrelevante</td>\n",
       "    </tr>\n",
       "  </tbody>\n",
       "</table>\n",
       "</div>"
      ],
      "text/plain": [
       "                                               Teste   Relevância  \\\n",
       "0    caldasm16 nao tanto quanto android pode ter ctz  Irrelevante   \n",
       "1  liberteime iphone agora bateria durante dia me...    Relevante   \n",
       "2  responda breves pesquisas recompensado faça do...  Irrelevante   \n",
       "3  uber lyft acusados cobrança taxa acima prometi...  Irrelevante   \n",
       "4  luisscp_1906 sim android qualidade melhor dois...    Relevante   \n",
       "\n",
       "         Categoria        Chute  \n",
       "0      Irrelevante  Irrelevante  \n",
       "1        Relevante  Irrelevante  \n",
       "2      Irrelevante  Irrelevante  \n",
       "3      Irrelevante  Irrelevante  \n",
       "4  Pouco relevante  Irrelevante  "
      ]
     },
     "execution_count": 48,
     "metadata": {},
     "output_type": "execute_result"
    }
   ],
   "source": [
    "dftw = limpeza(tweets_teste,\"Teste\")\n",
    "tweets=dftw[\"Teste\"]\n",
    "chute = []\n",
    "\n",
    "for frase in tweets:\n",
    "    prob_irrel=1\n",
    "    prob_rel=1\n",
    "    y = frase.split(\" \")\n",
    "    for palavra in y: \n",
    "        if palavra in irrel:\n",
    "            prob_irrel *= irrel[palavra]\n",
    "        else:\n",
    "            prob_irrel *= 1/ (len(todas_palavras)+(totirr))\n",
    "        \n",
    "        if palavra in rel:\n",
    "            prob_rel *= rel[palavra]\n",
    "        else:\n",
    "            prob_rel *= 1/ (len(todas_palavras)+(totrele))\n",
    "       \n",
    "    PI= (firr*prob_irrel)\n",
    "    PR = (frele*prob_rel)\n",
    "\n",
    "    if PR>=PI:\n",
    "        chute.append(\"Relevante\")\n",
    "    else:\n",
    "        chute.append(\"Irrelevante\")\n",
    "\n",
    "\n",
    "dftw[\"Chute\"]=chute\n",
    "dftw.head()"
   ]
  },
  {
   "cell_type": "markdown",
   "metadata": {},
   "source": [
    "## Análise do desempenho"
   ]
  },
  {
   "cell_type": "markdown",
   "metadata": {},
   "source": [
    "### Tabela de distribuição conjunta - previsão do programa e classificação real"
   ]
  },
  {
   "cell_type": "code",
   "execution_count": 49,
   "metadata": {},
   "outputs": [
    {
     "data": {
      "text/html": [
       "<div>\n",
       "<style scoped>\n",
       "    .dataframe tbody tr th:only-of-type {\n",
       "        vertical-align: middle;\n",
       "    }\n",
       "\n",
       "    .dataframe tbody tr th {\n",
       "        vertical-align: top;\n",
       "    }\n",
       "\n",
       "    .dataframe thead th {\n",
       "        text-align: right;\n",
       "    }\n",
       "</style>\n",
       "<table border=\"1\" class=\"dataframe\">\n",
       "  <thead>\n",
       "    <tr style=\"text-align: right;\">\n",
       "      <th>Predito</th>\n",
       "      <th>Irrelevante</th>\n",
       "      <th>Relevante</th>\n",
       "      <th>All</th>\n",
       "    </tr>\n",
       "    <tr>\n",
       "      <th>Real</th>\n",
       "      <th></th>\n",
       "      <th></th>\n",
       "      <th></th>\n",
       "    </tr>\n",
       "  </thead>\n",
       "  <tbody>\n",
       "    <tr>\n",
       "      <th>Irrelevante</th>\n",
       "      <td>0.668889</td>\n",
       "      <td>0.215556</td>\n",
       "      <td>0.884444</td>\n",
       "    </tr>\n",
       "    <tr>\n",
       "      <th>Relevante</th>\n",
       "      <td>0.091111</td>\n",
       "      <td>0.024444</td>\n",
       "      <td>0.115556</td>\n",
       "    </tr>\n",
       "    <tr>\n",
       "      <th>All</th>\n",
       "      <td>0.760000</td>\n",
       "      <td>0.240000</td>\n",
       "      <td>1.000000</td>\n",
       "    </tr>\n",
       "  </tbody>\n",
       "</table>\n",
       "</div>"
      ],
      "text/plain": [
       "Predito      Irrelevante  Relevante       All\n",
       "Real                                         \n",
       "Irrelevante     0.668889   0.215556  0.884444\n",
       "Relevante       0.091111   0.024444  0.115556\n",
       "All             0.760000   0.240000  1.000000"
      ]
     },
     "execution_count": 49,
     "metadata": {},
     "output_type": "execute_result"
    }
   ],
   "source": [
    "matriz = pd.crosstab(dftw[\"Relevância\"], dftw[\"Chute\"], margins=True, normalize=True, rownames=[\"Real\"], colnames=[\"Predito\"])\n",
    "matriz"
   ]
  },
  {
   "cell_type": "markdown",
   "metadata": {},
   "source": [
    "### Previsão:"
   ]
  },
  {
   "cell_type": "code",
   "execution_count": 50,
   "metadata": {},
   "outputs": [
    {
     "name": "stdout",
     "output_type": "stream",
     "text": [
      "O classificador acertou as previsões em 69.33333333333334 dos casos\n"
     ]
    }
   ],
   "source": [
    "numero_acerto = (dftw[\"Relevância\"] == dftw[\"Chute\"]).value_counts()\n",
    "eficiencia=numero_acerto[True]/len(dftw)\n",
    "print(\"O classificador acertou as previsões em {} dos casos\".format(eficiencia*100))\n"
   ]
  },
  {
   "cell_type": "markdown",
   "metadata": {},
   "source": [
    "### Heatmap"
   ]
  },
  {
   "cell_type": "code",
   "execution_count": 51,
   "metadata": {},
   "outputs": [
    {
     "data": {
      "text/plain": [
       "<matplotlib.axes._subplots.AxesSubplot at 0x1fe527de898>"
      ]
     },
     "execution_count": 51,
     "metadata": {},
     "output_type": "execute_result"
    },
    {
     "data": {
      "image/png": "[encoded data removed]",
      "text/plain": [
       "<Figure size 432x288 with 2 Axes>"
      ]
     },
     "metadata": {
      "needs_background": "light"
     },
     "output_type": "display_data"
    }
   ],
   "source": [
    "import pandas as pd\n",
    "import seaborn as sn\n",
    "\n",
    "sn.heatmap(matriz, annot=True)"
   ]
  },
  {
   "cell_type": "markdown",
   "metadata": {},
   "source": [
    "A fim de melhorar a visualização de dados, foi criado um heatmap com as informações adquiridas com os códigos anteriores. Desta forma, há a presença de todo um data set com ambas as variáveis instantaneamente, ou seja, há melhor visualização da correlação da matriz (tabela de distribuição conjunta).\n",
    "\n",
    "Como resposta do classficador, houve cerca de 69,3% de acertos. Entretanto, para melhorar o desempenho dele, foi feito um outro teste, porém, desta vez, acrescentando uma nova variável categórica, assim determinadas palavras se tornariam mais específicas para cada categoria definida."
   ]
  },
  {
   "cell_type": "markdown",
   "metadata": {},
   "source": [
    "## Categoria Naive-Bayes com 4 categorias"
   ]
  },
  {
   "cell_type": "code",
   "execution_count": 21,
   "metadata": {},
   "outputs": [
    {
     "name": "stderr",
     "output_type": "stream",
     "text": [
      "[nltk_data] Downloading package stopwords to\n",
      "[nltk_data]     C:\\Users\\gabic\\AppData\\Roaming\\nltk_data...\n",
      "[nltk_data]   Package stopwords is already up-to-date!\n"
     ]
    }
   ],
   "source": [
    "tweets = limpeza(tweets_treinamento, \"Treinamento\")\n",
    "\n",
    "tweets_irrel=tweets['Treinamento'][tweets['Categoria'] == \"Irrelevante\"]\n",
    "tweets_rel=tweets['Treinamento'][tweets['Categoria'] == \"Relevante\"]\n",
    "tweets_prel=tweets['Treinamento'][tweets['Categoria'] == \"Pouco relevante\"]\n",
    "tweets_mrel=tweets['Treinamento'][tweets['Categoria'] == \"Muito relevante\"]\n",
    "\n"
   ]
  },
  {
   "cell_type": "markdown",
   "metadata": {},
   "source": [
    "## Frequência absoluta"
   ]
  },
  {
   "cell_type": "code",
   "execution_count": 22,
   "metadata": {},
   "outputs": [
    {
     "name": "stdout",
     "output_type": "stream",
     "text": [
      "Frequência absoluta (Irrelevante, Relevante, Pouco Relevante, Muito Relevante):  7472\n"
     ]
    }
   ],
   "source": [
    "conteudo = []\n",
    "for t in tweets[\"Treinamento\"]: \n",
    "    pal = t.split()\n",
    "    for p in pal:\n",
    "            conteudo.append(p)\n",
    "            \n",
    "texto=\" \".join(conteudo)\n",
    "series= pd.Series(texto.split())\n",
    "freq = series.value_counts()\n",
    "totalt=freq.sum()\n",
    "print(\"Frequência absoluta (Irrelevante, Relevante, Pouco Relevante, Muito Relevante): \",totalt)\n",
    "dict_tot =freq.to_dict()\n"
   ]
  },
  {
   "cell_type": "markdown",
   "metadata": {},
   "source": [
    "## Frequências absoluta e relativa \"irrelevante\""
   ]
  },
  {
   "cell_type": "code",
   "execution_count": 23,
   "metadata": {},
   "outputs": [
    {
     "name": "stdout",
     "output_type": "stream",
     "text": [
      "Frequência absoluta (Irrelevante):  6604\n",
      "Frequência relativa (Irrelevante):  0.8838329764453962\n"
     ]
    }
   ],
   "source": [
    "conteudo = []\n",
    "for t in tweets_irrel: \n",
    "    pal = t.split()\n",
    "    for p in pal:\n",
    "            conteudo.append(p)\n",
    "texto=\" \".join(conteudo)\n",
    "series= pd.Series(texto.split())\n",
    "freq = series.value_counts()\n",
    "totalir=freq.sum()\n",
    "print(\"Frequência absoluta (Irrelevante): \",totalir)\n",
    "dict_irrel=freq.to_dict()\n",
    "freq_rel_irr=totalir/totalt\n",
    "print(\"Frequência relativa (Irrelevante): \",freq_rel_irr)\n"
   ]
  },
  {
   "cell_type": "code",
   "execution_count": 24,
   "metadata": {},
   "outputs": [
    {
     "name": "stdout",
     "output_type": "stream",
     "text": [
      "Dicionário - categoria irrelevante\n",
      "Termo mais utilizado dicionário:  android: 494 vezes\n"
     ]
    }
   ],
   "source": [
    "dicionario_irrel={}\n",
    "for p in dict_tot.keys():\n",
    "    dicionario_irrel[p]=1\n",
    "for palavra in dict_irrel:\n",
    "    dicionario_irrel[palavra]+=dict_irrel[palavra]\n",
    "\n",
    "print(\"Dicionário - categoria irrelevante\")\n",
    "m=0\n",
    "for k in dicionario_irrel:\n",
    "    while m<1:\n",
    "        print (\"Termo mais utilizado dicionário: \", k + \": \" + str(dicionario_irrel[k]) + \" vezes\")\n",
    "        m+=1"
   ]
  },
  {
   "cell_type": "markdown",
   "metadata": {},
   "source": [
    "## Palavras na categoria \"pouco relevantes\""
   ]
  },
  {
   "cell_type": "code",
   "execution_count": 25,
   "metadata": {},
   "outputs": [
    {
     "name": "stdout",
     "output_type": "stream",
     "text": [
      "Frequência absoluta (Pouco Relevante):  258\n",
      "Frequência relativa (Pouco Relevante):  0.0345289079229122\n"
     ]
    }
   ],
   "source": [
    "conteudo = []\n",
    "for t in tweets_prel: \n",
    "    pal = t.split()\n",
    "    for p in pal:\n",
    "            conteudo.append(p)\n",
    "texto=\" \".join(conteudo)\n",
    "series= pd.Series(texto.split())\n",
    "freq = series.value_counts()\n",
    "totalpr=freq.sum()\n",
    "print(\"Frequência absoluta (Pouco Relevante): \",totalpr)\n",
    "dict_prel=freq.to_dict()\n",
    "freq_rel_pr=totalpr/totalt\n",
    "print(\"Frequência relativa (Pouco Relevante): \",freq_rel_pr)\n",
    "\n"
   ]
  },
  {
   "cell_type": "code",
   "execution_count": 26,
   "metadata": {},
   "outputs": [
    {
     "name": "stdout",
     "output_type": "stream",
     "text": [
      "Dicionário - categoria pouco relevante\n",
      "Termo mais utilizado dicionário:  android: 494 vezes\n"
     ]
    }
   ],
   "source": [
    "dicionario_prel={}\n",
    "for p in dict_tot.keys():\n",
    "    dicionario_prel[p]=1\n",
    "for palavra in dict_prel:\n",
    "    dicionario_prel[palavra]+=dict_prel[palavra]\n",
    "dicionario_prel\n",
    "\n",
    "print(\"Dicionário - categoria pouco relevante\")\n",
    "\n",
    "m=0\n",
    "for k in dicionario_irrelevante:\n",
    "    while m<1:\n",
    "        print (\"Termo mais utilizado dicionário: \", k + \": \" + str(dicionario_irrelevante[k]) + \" vezes\")\n",
    "        m+=1"
   ]
  },
  {
   "cell_type": "markdown",
   "metadata": {},
   "source": [
    "## Palavras na categoria \"relevante\""
   ]
  },
  {
   "cell_type": "code",
   "execution_count": 27,
   "metadata": {},
   "outputs": [
    {
     "name": "stdout",
     "output_type": "stream",
     "text": [
      "Frequência absoluta (Relevante):  373\n",
      "Frequência relativa (Relevante):  0.049919700214132764\n"
     ]
    }
   ],
   "source": [
    "conteudo = []\n",
    "for t in tweets_rel: \n",
    "    pal = t.split()\n",
    "    for p in pal:\n",
    "            conteudo.append(p)\n",
    "texto=\" \".join(conteudo)\n",
    "series= pd.Series(texto.split())\n",
    "freq = series.value_counts()\n",
    "totalr=freq.sum()\n",
    "print(\"Frequência absoluta (Relevante): \",totalr)\n",
    "dict_rel=freq.to_dict()\n",
    "freq_rel_r=totalr/totalt\n",
    "print(\"Frequência relativa (Relevante): \",freq_rel_r)\n"
   ]
  },
  {
   "cell_type": "code",
   "execution_count": 28,
   "metadata": {},
   "outputs": [
    {
     "name": "stdout",
     "output_type": "stream",
     "text": [
      "Dicionário - categoria relevante\n",
      "Termo mais utilizado dicionário:  android: 27 vezes\n"
     ]
    }
   ],
   "source": [
    "dicionario_rel={}\n",
    "for p in dict_tot.keys():\n",
    "    dicionario_rel[p]=1\n",
    "for palavra in dict_rel:\n",
    "    dicionario_rel[palavra]+=dict_rel[palavra]\n",
    "print(\"Dicionário - categoria relevante\")\n",
    "\n",
    "m=0\n",
    "for k in dicionario_rel:\n",
    "    while m<1:\n",
    "        print (\"Termo mais utilizado dicionário: \", k + \": \" + str(dicionario_rel[k]) + \" vezes\")\n",
    "        m+=1"
   ]
  },
  {
   "cell_type": "markdown",
   "metadata": {},
   "source": [
    "## Palavras na categoria \"muito relevantes\""
   ]
  },
  {
   "cell_type": "code",
   "execution_count": 29,
   "metadata": {},
   "outputs": [
    {
     "name": "stdout",
     "output_type": "stream",
     "text": [
      "Frequência relativa (Muito Relevante):  0.05661134903640257\n"
     ]
    }
   ],
   "source": [
    "conteudo = []\n",
    "for t in tweets_mrel: \n",
    "    pal = t.split()\n",
    "    for p in pal:\n",
    "            conteudo.append(p)\n",
    "texto=\" \".join(conteudo)\n",
    "series= pd.Series(texto.split())\n",
    "freq = series.value_counts()+1\n",
    "totalmr=freq.sum()\n",
    "dict_mrel=freq.to_dict()\n",
    "freq_rel_mr=totalmr/totalt\n",
    "print(\"Frequência relativa (Muito Relevante): \",freq_rel_mr)\n"
   ]
  },
  {
   "cell_type": "code",
   "execution_count": 30,
   "metadata": {},
   "outputs": [
    {
     "name": "stdout",
     "output_type": "stream",
     "text": [
      "Dicionário - categoria muito relevante:\n",
      "Termo mais utilizado do dicionário:  android: 20 vezes\n"
     ]
    }
   ],
   "source": [
    "dicionario_mrel={}\n",
    "for p in dict_tot.keys():\n",
    "    dicionario_mrel[p]=1\n",
    "for palavra in dict_mrel:\n",
    "    dicionario_mrel[palavra]+=dict_mrel[palavra]\n",
    "print(\"Dicionário - categoria muito relevante:\")\n",
    "\n",
    "m=0\n",
    "for k in dicionario_mrel:\n",
    "    while m<1:\n",
    "        print (\"Termo mais utilizado do dicionário: \",k + \": \" + str(dicionario_mrel[k]) + \" vezes\")\n",
    "        m+=1"
   ]
  },
  {
   "cell_type": "markdown",
   "metadata": {},
   "source": [
    "## Implementação do classificador Naive Bayes"
   ]
  },
  {
   "cell_type": "code",
   "execution_count": 31,
   "metadata": {},
   "outputs": [],
   "source": [
    "irrel ={}\n",
    "pourel ={}\n",
    "rel ={}\n",
    "muirel = {}\n",
    "\n",
    "todas_palavras=dict_tot.keys()\n",
    "for palavra in todas_palavras:\n",
    "    irrel[palavra]= dicionario_irrel[palavra]/(len(todas_palavras)+(totalir))\n",
    "    pourel[palavra]= dicionario_prel[palavra]/(len(todas_palavras)+(totalpr))\n",
    "    rel[palavra]= dicionario_rel[palavra]/(len(todas_palavras)+(totalr))\n",
    "    muirel[palavra]= dicionario_mrel[palavra]/(len(todas_palavras)+(totalmr))\n",
    "\n"
   ]
  },
  {
   "cell_type": "code",
   "execution_count": 32,
   "metadata": {},
   "outputs": [
    {
     "name": "stderr",
     "output_type": "stream",
     "text": [
      "[nltk_data] Downloading package stopwords to\n",
      "[nltk_data]     C:\\Users\\gabic\\AppData\\Roaming\\nltk_data...\n",
      "[nltk_data]   Package stopwords is already up-to-date!\n"
     ]
    },
    {
     "data": {
      "text/html": [
       "<div>\n",
       "<style scoped>\n",
       "    .dataframe tbody tr th:only-of-type {\n",
       "        vertical-align: middle;\n",
       "    }\n",
       "\n",
       "    .dataframe tbody tr th {\n",
       "        vertical-align: top;\n",
       "    }\n",
       "\n",
       "    .dataframe thead th {\n",
       "        text-align: right;\n",
       "    }\n",
       "</style>\n",
       "<table border=\"1\" class=\"dataframe\">\n",
       "  <thead>\n",
       "    <tr style=\"text-align: right;\">\n",
       "      <th></th>\n",
       "      <th>Teste</th>\n",
       "      <th>Relevância</th>\n",
       "      <th>Categoria</th>\n",
       "      <th>Chute</th>\n",
       "    </tr>\n",
       "  </thead>\n",
       "  <tbody>\n",
       "    <tr>\n",
       "      <th>0</th>\n",
       "      <td>caldasm16 nao tanto quanto android pode ter ctz</td>\n",
       "      <td>Irrelevante</td>\n",
       "      <td>Irrelevante</td>\n",
       "      <td>Irrelevante</td>\n",
       "    </tr>\n",
       "    <tr>\n",
       "      <th>1</th>\n",
       "      <td>liberteime iphone agora bateria durante dia me...</td>\n",
       "      <td>Relevante</td>\n",
       "      <td>Relevante</td>\n",
       "      <td>Irrelevante</td>\n",
       "    </tr>\n",
       "    <tr>\n",
       "      <th>2</th>\n",
       "      <td>responda breves pesquisas recompensado faça do...</td>\n",
       "      <td>Irrelevante</td>\n",
       "      <td>Irrelevante</td>\n",
       "      <td>Irrelevante</td>\n",
       "    </tr>\n",
       "    <tr>\n",
       "      <th>3</th>\n",
       "      <td>uber lyft acusados cobrança taxa acima prometi...</td>\n",
       "      <td>Irrelevante</td>\n",
       "      <td>Irrelevante</td>\n",
       "      <td>Relevante</td>\n",
       "    </tr>\n",
       "    <tr>\n",
       "      <th>4</th>\n",
       "      <td>luisscp_1906 sim android qualidade melhor dois...</td>\n",
       "      <td>Relevante</td>\n",
       "      <td>Pouco relevante</td>\n",
       "      <td>Irrelevante</td>\n",
       "    </tr>\n",
       "  </tbody>\n",
       "</table>\n",
       "</div>"
      ],
      "text/plain": [
       "                                               Teste   Relevância  \\\n",
       "0    caldasm16 nao tanto quanto android pode ter ctz  Irrelevante   \n",
       "1  liberteime iphone agora bateria durante dia me...    Relevante   \n",
       "2  responda breves pesquisas recompensado faça do...  Irrelevante   \n",
       "3  uber lyft acusados cobrança taxa acima prometi...  Irrelevante   \n",
       "4  luisscp_1906 sim android qualidade melhor dois...    Relevante   \n",
       "\n",
       "         Categoria        Chute  \n",
       "0      Irrelevante  Irrelevante  \n",
       "1        Relevante  Irrelevante  \n",
       "2      Irrelevante  Irrelevante  \n",
       "3      Irrelevante    Relevante  \n",
       "4  Pouco relevante  Irrelevante  "
      ]
     },
     "execution_count": 32,
     "metadata": {},
     "output_type": "execute_result"
    }
   ],
   "source": [
    "dftw = limpeza(tweets_teste,\"Teste\")\n",
    "tweets=dftw[\"Teste\"]\n",
    "chute = []\n",
    "\n",
    "for frase in tweets:\n",
    "    prob_irrel=1\n",
    "    prob_prel=1\n",
    "    prob_rel=1\n",
    "    prob_mrel=1\n",
    "    y = frase.split(\" \")\n",
    "    for palavra in y: \n",
    "        if palavra in irrel:\n",
    "            prob_irrel *= irrel[palavra]\n",
    "        else:\n",
    "            prob_irrel *= 1/ (len(todas_palavras)+(totalir))\n",
    "        \n",
    "        if palavra in pourel:\n",
    "            prob_prel *= pourel[palavra]\n",
    "        else:\n",
    "            prob_prel *= 1/ (len(todas_palavras)+(totalpr))\n",
    "            \n",
    "        if palavra in rel:\n",
    "            prob_rel *= rel[palavra]\n",
    "        else:\n",
    "            prob_rel *= 1/ (len(todas_palavras)+(totalr))\n",
    "            \n",
    "        if palavra in muirel:\n",
    "            prob_mrel*= muirel[palavra]\n",
    "        else:\n",
    "            prob_mrel *= 1/(len(todas_palavras)+(totalmr))\n",
    "         \n",
    "    PI= (freq_rel_irr*prob_irrel)\n",
    "    PPR =(freq_rel_pr*prob_prel)\n",
    "    PR = (freq_rel_r*prob_rel)\n",
    "    PMR=( freq_rel_mr*prob_mrel)\n",
    "\n",
    "    if PMR >= PR and PMR>=PPR and PMR>=PI:\n",
    "        chute.append(\"Muito relevante\")\n",
    "\n",
    "    elif PR>=PI and PR>=PPR:\n",
    "        chute.append(\"Relevante\")\n",
    "\n",
    "    elif PPR>=PI:\n",
    "        chute.append(\"Pouco relevante\")\n",
    "    else:\n",
    "        chute.append(\"Irrelevante\")\n",
    "\n",
    "\n",
    "dftw[\"Chute\"]=chute\n",
    "dftw.head()"
   ]
  },
  {
   "cell_type": "code",
   "execution_count": 33,
   "metadata": {},
   "outputs": [
    {
     "data": {
      "text/html": [
       "<div>\n",
       "<style scoped>\n",
       "    .dataframe tbody tr th:only-of-type {\n",
       "        vertical-align: middle;\n",
       "    }\n",
       "\n",
       "    .dataframe tbody tr th {\n",
       "        vertical-align: top;\n",
       "    }\n",
       "\n",
       "    .dataframe thead th {\n",
       "        text-align: right;\n",
       "    }\n",
       "</style>\n",
       "<table border=\"1\" class=\"dataframe\">\n",
       "  <thead>\n",
       "    <tr style=\"text-align: right;\">\n",
       "      <th></th>\n",
       "      <th>Teste</th>\n",
       "      <th>Relevância</th>\n",
       "      <th>Categoria</th>\n",
       "      <th>Chute</th>\n",
       "    </tr>\n",
       "  </thead>\n",
       "  <tbody>\n",
       "    <tr>\n",
       "      <th>0</th>\n",
       "      <td>caldasm16 nao tanto quanto android pode ter ctz</td>\n",
       "      <td>Irrelevante</td>\n",
       "      <td>Irrelevante</td>\n",
       "      <td>Irrelevante</td>\n",
       "    </tr>\n",
       "    <tr>\n",
       "      <th>1</th>\n",
       "      <td>liberteime iphone agora bateria durante dia me...</td>\n",
       "      <td>Relevante</td>\n",
       "      <td>Relevante</td>\n",
       "      <td>Irrelevante</td>\n",
       "    </tr>\n",
       "    <tr>\n",
       "      <th>2</th>\n",
       "      <td>responda breves pesquisas recompensado faça do...</td>\n",
       "      <td>Irrelevante</td>\n",
       "      <td>Irrelevante</td>\n",
       "      <td>Irrelevante</td>\n",
       "    </tr>\n",
       "    <tr>\n",
       "      <th>3</th>\n",
       "      <td>uber lyft acusados cobrança taxa acima prometi...</td>\n",
       "      <td>Irrelevante</td>\n",
       "      <td>Irrelevante</td>\n",
       "      <td>Relevante</td>\n",
       "    </tr>\n",
       "    <tr>\n",
       "      <th>4</th>\n",
       "      <td>luisscp_1906 sim android qualidade melhor dois...</td>\n",
       "      <td>Relevante</td>\n",
       "      <td>Pouco relevante</td>\n",
       "      <td>Irrelevante</td>\n",
       "    </tr>\n",
       "  </tbody>\n",
       "</table>\n",
       "</div>"
      ],
      "text/plain": [
       "                                               Teste   Relevância  \\\n",
       "0    caldasm16 nao tanto quanto android pode ter ctz  Irrelevante   \n",
       "1  liberteime iphone agora bateria durante dia me...    Relevante   \n",
       "2  responda breves pesquisas recompensado faça do...  Irrelevante   \n",
       "3  uber lyft acusados cobrança taxa acima prometi...  Irrelevante   \n",
       "4  luisscp_1906 sim android qualidade melhor dois...    Relevante   \n",
       "\n",
       "         Categoria        Chute  \n",
       "0      Irrelevante  Irrelevante  \n",
       "1        Relevante  Irrelevante  \n",
       "2      Irrelevante  Irrelevante  \n",
       "3      Irrelevante    Relevante  \n",
       "4  Pouco relevante  Irrelevante  "
      ]
     },
     "execution_count": 33,
     "metadata": {},
     "output_type": "execute_result"
    }
   ],
   "source": [
    "dftw.head()"
   ]
  },
  {
   "cell_type": "markdown",
   "metadata": {},
   "source": [
    "## Resultados do teste e verificação de performance"
   ]
  },
  {
   "cell_type": "code",
   "execution_count": 34,
   "metadata": {},
   "outputs": [
    {
     "name": "stdout",
     "output_type": "stream",
     "text": [
      "O classificador acertou as previsões em 74.66666666666667 dos casos\n"
     ]
    }
   ],
   "source": [
    "\n",
    "numero_acerto = (dftw[\"Categoria\"] == dftw[\"Chute\"]).value_counts()\n",
    "eficiencia=numero_acerto[True]/len(dftw)\n",
    "print(\"O classificador acertou as previsões em {} dos casos\".format(eficiencia*100))\n"
   ]
  },
  {
   "cell_type": "code",
   "execution_count": 35,
   "metadata": {},
   "outputs": [],
   "source": [
    "\n",
    "zero = dftw.loc[(dftw[\"Categoria\"]==0)&(dftw[\"Chute\"]==0), [\"Categoria\", \"Chute\"]]\n",
    "zeroC = dftw.loc[(dftw[\"Categoria\"]!=0)&(dftw[\"Chute\"]==0), [\"Categoria\", \"Chute\"]]\n",
    "\n",
    "um = dftw.loc[(dftw[\"Categoria\"]==1)&(dftw[\"Chute\"]==1), [\"Categoria\", \"Chute\"]]\n",
    "umC = dftw.loc[(dftw[\"Categoria\"]!=1)&(dftw[\"Chute\"]==1), [\"Categoria\", \"Chute\"]]\n",
    "\n",
    "dois = dftw.loc[(dftw[\"Categoria\"]==2)&(dftw[\"Chute\"]==2), [\"Categoria\", \"Chute\"]]\n",
    "doisC = dftw.loc[(dftw[\"Categoria\"]!=2)&(dftw[\"Chute\"]==2), [\"Categoria\", \"Chute\"]]\n",
    "\n",
    "tres = dftw.loc[(dftw[\"Categoria\"]==3)&(dftw[\"Chute\"]==3), [\"Categoria\", \"Chute\"]]\n",
    "tresC= dftw.loc[(dftw[\"Categoria\"]!=3)&(dftw[\"Chute\"]==3), [\"Categoria\", \"Chute\"]]\n"
   ]
  },
  {
   "cell_type": "markdown",
   "metadata": {},
   "source": [
    "### Resumindo:"
   ]
  },
  {
   "cell_type": "code",
   "execution_count": 36,
   "metadata": {
    "scrolled": false
   },
   "outputs": [
    {
     "name": "stdout",
     "output_type": "stream",
     "text": [
      "Confusion Matrix:\n",
      "\n",
      "Predicted        Irrelevante  Muito relevante  Pouco relevante  Relevante  \\\n",
      "Actual                                                                      \n",
      "Irrelevante              331               14               23         30   \n",
      "Muito relevante            7                3                0          0   \n",
      "Pouco relevante           21                0                0          2   \n",
      "Relevante                 17                0                0          2   \n",
      "__all__                  376               17               23         34   \n",
      "\n",
      "Predicted        __all__  \n",
      "Actual                    \n",
      "Irrelevante          398  \n",
      "Muito relevante       10  \n",
      "Pouco relevante       23  \n",
      "Relevante             19  \n",
      "__all__              450  \n",
      "\n",
      "\n",
      "Overall Statistics:\n",
      "\n",
      "Accuracy: 0.7466666666666667\n",
      "95% CI: (0.7038297171969113, 0.7862266476404638)\n",
      "No Information Rate: ToDo\n",
      "P-Value [Acc > NIR]: 0.9999994103536078\n",
      "Kappa: 0.004018871221387524\n",
      "Mcnemar's Test P-Value: ToDo\n",
      "\n",
      "\n",
      "Class Statistics:\n",
      "\n",
      "Classes                               Irrelevante Muito relevante  \\\n",
      "Population                                    450             450   \n",
      "P: Condition positive                         398              10   \n",
      "N: Condition negative                          52             440   \n",
      "Test outcome positive                         376              17   \n",
      "Test outcome negative                          74             433   \n",
      "TP: True Positive                             331               3   \n",
      "TN: True Negative                               7             426   \n",
      "FP: False Positive                             45              14   \n",
      "FN: False Negative                             67               7   \n",
      "TPR: (Sensitivity, hit rate, recall)     0.831658             0.3   \n",
      "TNR=SPC: (Specificity)                   0.134615        0.968182   \n",
      "PPV: Pos Pred Value (Precision)          0.880319        0.176471   \n",
      "NPV: Neg Pred Value                     0.0945946        0.983834   \n",
      "FPR: False-out                           0.865385       0.0318182   \n",
      "FDR: False Discovery Rate                0.119681        0.823529   \n",
      "FNR: Miss Rate                           0.168342             0.7   \n",
      "ACC: Accuracy                            0.751111        0.953333   \n",
      "F1 score                                 0.855297        0.222222   \n",
      "MCC: Matthews correlation coefficient  -0.0290872        0.207342   \n",
      "Informedness                           -0.0337263        0.268182   \n",
      "Markedness                             -0.0250863        0.160304   \n",
      "Prevalence                               0.884444       0.0222222   \n",
      "LR+: Positive likelihood ratio           0.961027         9.42857   \n",
      "LR-: Negative likelihood ratio            1.25054        0.723005   \n",
      "DOR: Diagnostic odds ratio               0.768491         13.0408   \n",
      "FOR: False omission rate                 0.905405       0.0161663   \n",
      "\n",
      "Classes                               Pouco relevante  Relevante  \n",
      "Population                                        450        450  \n",
      "P: Condition positive                              23         19  \n",
      "N: Condition negative                             427        431  \n",
      "Test outcome positive                              23         34  \n",
      "Test outcome negative                             427        416  \n",
      "TP: True Positive                                   0          2  \n",
      "TN: True Negative                                 404        399  \n",
      "FP: False Positive                                 23         32  \n",
      "FN: False Negative                                 23         17  \n",
      "TPR: (Sensitivity, hit rate, recall)                0   0.105263  \n",
      "TNR=SPC: (Specificity)                       0.946136   0.925754  \n",
      "PPV: Pos Pred Value (Precision)                     0  0.0588235  \n",
      "NPV: Neg Pred Value                          0.946136   0.959135  \n",
      "FPR: False-out                              0.0538642  0.0742459  \n",
      "FDR: False Discovery Rate                           1   0.941176  \n",
      "FNR: Miss Rate                                      1   0.894737  \n",
      "ACC: Accuracy                                0.897778   0.891111  \n",
      "F1 score                                            0  0.0754717  \n",
      "MCC: Matthews correlation coefficient      -0.0538642  0.0236011  \n",
      "Informedness                               -0.0538642  0.0310172  \n",
      "Markedness                                 -0.0538642  0.0179581  \n",
      "Prevalence                                  0.0511111  0.0422222  \n",
      "LR+: Positive likelihood ratio                      0    1.41776  \n",
      "LR-: Negative likelihood ratio                1.05693   0.966495  \n",
      "DOR: Diagnostic odds ratio                          0    1.46691  \n",
      "FOR: False omission rate                    0.0538642  0.0408654  \n"
     ]
    },
    {
     "name": "stderr",
     "output_type": "stream",
     "text": [
      "C:\\Users\\gabic\\Anaconda3\\lib\\site-packages\\pandas_ml\\confusion_matrix\\stats.py:60: FutureWarning: supplying multiple axes to axis is deprecated and will be removed in a future version.\n",
      "  num = df[df > 1].dropna(axis=[0, 1], thresh=1).applymap(lambda n: choose(n, 2)).sum().sum() - np.float64(nis2 * njs2) / n2\n"
     ]
    }
   ],
   "source": [
    "from sklearn.metrics import confusion_matrix\n",
    "from pandas_ml import ConfusionMatrix\n",
    "Confusion_Matrix=ConfusionMatrix(dftw[\"Categoria\"], dftw[\"Chute\"])\n",
    "Confusion_Matrix.print_stats()"
   ]
  },
  {
   "cell_type": "markdown",
   "metadata": {},
   "source": [
    "Com a ConfusionMatrix é possível ter as informações gerais dos dados do sistema explorado, entretanto, há mais informações do que o necessáio. Por isso, essa Matrix auxilia a análise, mas a análise é melhor esclarecida com o Heatmap e a Tabela de distribuição conjunta."
   ]
  },
  {
   "cell_type": "markdown",
   "metadata": {},
   "source": [
    "### Tabela de distribuição conjunta - previsão do programa e classificação real"
   ]
  },
  {
   "cell_type": "code",
   "execution_count": 37,
   "metadata": {},
   "outputs": [
    {
     "data": {
      "text/html": [
       "<div>\n",
       "<style scoped>\n",
       "    .dataframe tbody tr th:only-of-type {\n",
       "        vertical-align: middle;\n",
       "    }\n",
       "\n",
       "    .dataframe tbody tr th {\n",
       "        vertical-align: top;\n",
       "    }\n",
       "\n",
       "    .dataframe thead th {\n",
       "        text-align: right;\n",
       "    }\n",
       "</style>\n",
       "<table border=\"1\" class=\"dataframe\">\n",
       "  <thead>\n",
       "    <tr style=\"text-align: right;\">\n",
       "      <th>Predito</th>\n",
       "      <th>Irrelevante</th>\n",
       "      <th>Muito relevante</th>\n",
       "      <th>Pouco relevante</th>\n",
       "      <th>Relevante</th>\n",
       "      <th>All</th>\n",
       "    </tr>\n",
       "    <tr>\n",
       "      <th>Real</th>\n",
       "      <th></th>\n",
       "      <th></th>\n",
       "      <th></th>\n",
       "      <th></th>\n",
       "      <th></th>\n",
       "    </tr>\n",
       "  </thead>\n",
       "  <tbody>\n",
       "    <tr>\n",
       "      <th>Irrelevante</th>\n",
       "      <td>0.735556</td>\n",
       "      <td>0.031111</td>\n",
       "      <td>0.051111</td>\n",
       "      <td>0.066667</td>\n",
       "      <td>0.884444</td>\n",
       "    </tr>\n",
       "    <tr>\n",
       "      <th>Muito relevante</th>\n",
       "      <td>0.015556</td>\n",
       "      <td>0.006667</td>\n",
       "      <td>0.000000</td>\n",
       "      <td>0.000000</td>\n",
       "      <td>0.022222</td>\n",
       "    </tr>\n",
       "    <tr>\n",
       "      <th>Pouco relevante</th>\n",
       "      <td>0.046667</td>\n",
       "      <td>0.000000</td>\n",
       "      <td>0.000000</td>\n",
       "      <td>0.004444</td>\n",
       "      <td>0.051111</td>\n",
       "    </tr>\n",
       "    <tr>\n",
       "      <th>Relevante</th>\n",
       "      <td>0.037778</td>\n",
       "      <td>0.000000</td>\n",
       "      <td>0.000000</td>\n",
       "      <td>0.004444</td>\n",
       "      <td>0.042222</td>\n",
       "    </tr>\n",
       "    <tr>\n",
       "      <th>All</th>\n",
       "      <td>0.835556</td>\n",
       "      <td>0.037778</td>\n",
       "      <td>0.051111</td>\n",
       "      <td>0.075556</td>\n",
       "      <td>1.000000</td>\n",
       "    </tr>\n",
       "  </tbody>\n",
       "</table>\n",
       "</div>"
      ],
      "text/plain": [
       "Predito          Irrelevante  Muito relevante  Pouco relevante  Relevante  \\\n",
       "Real                                                                        \n",
       "Irrelevante         0.735556         0.031111         0.051111   0.066667   \n",
       "Muito relevante     0.015556         0.006667         0.000000   0.000000   \n",
       "Pouco relevante     0.046667         0.000000         0.000000   0.004444   \n",
       "Relevante           0.037778         0.000000         0.000000   0.004444   \n",
       "All                 0.835556         0.037778         0.051111   0.075556   \n",
       "\n",
       "Predito               All  \n",
       "Real                       \n",
       "Irrelevante      0.884444  \n",
       "Muito relevante  0.022222  \n",
       "Pouco relevante  0.051111  \n",
       "Relevante        0.042222  \n",
       "All              1.000000  "
      ]
     },
     "execution_count": 37,
     "metadata": {},
     "output_type": "execute_result"
    }
   ],
   "source": [
    "matriz = pd.crosstab(dftw[\"Categoria\"], dftw[\"Chute\"], margins=True, normalize=True, rownames=[\"Real\"], colnames=[\"Predito\"])\n",
    "matriz"
   ]
  },
  {
   "cell_type": "markdown",
   "metadata": {},
   "source": [
    "### Heatmap"
   ]
  },
  {
   "cell_type": "code",
   "execution_count": 38,
   "metadata": {},
   "outputs": [
    {
     "data": {
      "text/plain": [
       "<matplotlib.axes._subplots.AxesSubplot at 0x1fe527ec780>"
      ]
     },
     "execution_count": 38,
     "metadata": {},
     "output_type": "execute_result"
    },
    {
     "data": {
      "image/png": "[encoded data removed]",
      "text/plain": [
       "<Figure size 432x288 with 2 Axes>"
      ]
     },
     "metadata": {
      "needs_background": "light"
     },
     "output_type": "display_data"
    }
   ],
   "source": [
    "sn.heatmap(matriz, annot=True)"
   ]
  },
  {
   "cell_type": "markdown",
   "metadata": {},
   "source": []
  },
  {
   "cell_type": "code",
   "execution_count": null,
   "metadata": {},
   "outputs": [],
   "source": []
  },
  {
   "cell_type": "markdown",
   "metadata": {},
   "source": [
    "___\n",
    "### Concluindo"
   ]
  },
  {
   "cell_type": "markdown",
   "metadata": {},
   "source": [
    "Através da análise realizada, é possível afirmar que o classificador demonstrou um bom desemprnho. Porém, ainda há pontos a serem melhorados. Uma complicação enfrentada consiste no fato de que alguns tweets apresentam sarcasmo, algo que pode ser bastante complicado para ensinar ao classificador identificar e categorizar.\n",
    "\n"
   ]
  },
  {
   "cell_type": "markdown",
   "metadata": {},
   "source": [
    "A análise demonstrou que o classificador Naive Bayes é uma ótima ferramenta para prever possibilidades baseadas em dados previamente processados. Por conta de sua eficácia, essa ferramenta de Machine Learning é usada em cenários distintos. Dentre eles:\n",
    "- Filtro Spam em emails\n",
    "- Classificação de gostos para recomendações personalizadas (por exemplo filmes ou músicas)\n",
    "- Reconhecimento facial \n",
    "- Diagnósticos médicos"
   ]
  },
  {
   "cell_type": "markdown",
   "metadata": {},
   "source": [
    "___\n",
    "### Como podemos melhorar?"
   ]
  },
  {
   "cell_type": "markdown",
   "metadata": {},
   "source": [
    "Os resultados mostram que o desempenho do classificador foi muito superior para as amostras consideradas irrelevantes.\n",
    "Isso é compreensível, já que a quantidade de amostras irrelevantes no treinamento era muito maior que a de outras categorias. Assim, o classificador tinha um melhor embasamento para o aprendizado. \n",
    "Além disso as críticas nos tweets categorizados como muito relevantes, além de serem poucas, tinham assuntos muito diversos, pois forneciam feedback de características bastante distintas. O mesmo aconteceu com os tweets pouco relevantes, que se referiam a opiniões pessoais diversificadas acerca do produto. Desse modo, comentários extremamente diferentes numa amostra pequena prejudicaram a identificação de padrões de repetição pelo classificador."
   ]
  },
  {
   "cell_type": "markdown",
   "metadata": {},
   "source": [
    "Um maior número de amostras no treinamento, principalmente nas categorias relevantes, seria benéfico para o aumento da precisão do classificador. \n",
    "Isso porque o Naive Bayes utiliza a amostra de treinamento para \"aprender\" e identificar padrões para previsões posteriores.\n",
    "É por esse motivo que o próprio classificador não pode ser usado para gerar mais amostras de treinamento. \n",
    "Quando uma previsão é feita, ela é baseada no conhecimento adquirido pelo classificador no treinamento, porém o resultado dessa previsão não é perfeito e possui uma margem de erro. \n",
    "Se o classificador considerasse os dados gerados como certeiros, por estarem na planilha de treinamento, seu desempenho em classificações futuras seria prejudicado.\n"
   ]
  },
  {
   "cell_type": "markdown",
   "metadata": {},
   "source": [
    "Para o aperfeiçoamento do machine learning, pode-se tomar como possibilidade o aumento da base de treinamento e classificá-la com critérios mais rígidos, promovendo resultados com maior proximidade com a realidade."
   ]
  },
  {
   "cell_type": "markdown",
   "metadata": {},
   "source": [
    "O índice de acerto geral resultante pode ser considerado alto.\n",
    "Entretanto, nota-se que nas categorias de maior relevância, o classificador obteve um pequeno acerto percentual.\n",
    "Uma metodologia interessante para melhorar tal indice foi proposta no artigo \"Indonesian News Classification Using Naïve Bayes and Two-Phase Feature Selection Model\"\n",
    ", da Faculty of Information Technology, Institut Teknologi Sepuluh Nopember.\n",
    "O estudo propõe implementar o classificador Naive Bayes em duas fases. Na primeira, são classificados dois grupos: relevante e irrelevante. Depois, o grupo considerado relevante é dividido em mais categorias, os níveis de relevância. Segundo o artigo publicado, tal metodologia melhora a precisão do classificador, principalmente nas subcategorias."
   ]
  },
  {
   "cell_type": "markdown",
   "metadata": {},
   "source": [
    "Um grande problema na implementação do classificador é a presença de sarcasmo em alguns comentários, podendo ocasionar falsos positivos \n",
    "O artigo 'Sentiment Analysis Using Naïve Bayes Classifier' propõe uma solução para essa situação. Tal solução consiste em uma abordagem multifacetada, composta pelos seguintes procedimentos: \n",
    "- Marcação de tags #sarcastico ou #sarcasmo nos tweets;\n",
    "- Análise de contrastes na densidade lexical (proporção entre adjetivos, substantivos, etc.);\n",
    "- Identificação de hipérboles (exclamações, repetição de palavras intensificadoras (como muito, demais, etc) e palavras extendidas (como muuuuuuuito));\n",
    "- Consideração de emojis \n"
   ]
  },
  {
   "cell_type": "markdown",
   "metadata": {},
   "source": [
    "Segundo o artigo, outro classificador Naive Bayes poderia ser usado para identificar o sarcasmo. O mesmo procedimento do projeto deveria ser seguido, em que o classificador \"aprenderia\" a identificar mensagens sarcásticas por meio de uma amostra classificada"
   ]
  },
  {
   "cell_type": "markdown",
   "metadata": {},
   "source": [
    "___\n",
    "### Material de pesquisa"
   ]
  },
  {
   "cell_type": "markdown",
   "metadata": {},
   "source": [
    "- Material disponível nos slides e jupyter no Blackboard\n",
    "\n",
    "- https://stackoverflow.com/questions/12286607/making-heatmap-from-pandas-dataframe\n",
    "\n",
    "- https://twitter.com/home?lang=pt-br\n",
    "\n",
    "- [Naive Bayes and Text Classification](https://arxiv.org/pdf/1410.5329.pdf)  **Mais completo**\n",
    "\n",
    "- [A practical explanation of a Naive Bayes Classifier](https://monkeylearn.com/blog/practical-explanation-naive-bayes-classifier/) **Mais simples**\n",
    "\n",
    "https://www.google.com/url?sa=t&source=web&rct=j&url=https://www.ijitee.org/wp-content/uploads/papers/v8i8/H6330068819.pdf&ved=2ahUKEwiv1smT8NLkAhXkHrkGHSaGD_4QFjACegQIDhAH&usg=AOvVaw0famfei5kKkpmWVm8AqKIr\n",
    "Indonesian News Classification Using Naïve Bayes and Two-Phase Feature Selection Model \n",
    " \n",
    " \n",
    "M. Ali Fauzi*1, Agus Zainal Arifin2, Sonny Christiano Gosaria3, Isnan Suryo Prabowo4 1Faculty of Computer Science, Universitas Brawijaya, Malang, Indonesia 2,3,4Faculty of Information Technology, Institut Teknologi Sepuluh Nopember, Surabaya, Indonesia *Corresponding author, e-mail: moch.ali.fauzi@ub.ac.id "
   ]
  }
 ],
 "metadata": {
  "kernelspec": {
   "display_name": "Python 3",
   "language": "python",
   "name": "python3"
  },
  "language_info": {
   "codemirror_mode": {
    "name": "ipython",
    "version": 3
   },
   "file_extension": ".py",
   "mimetype": "text/x-python",
   "name": "python",
   "nbconvert_exporter": "python",
   "pygments_lexer": "ipython3",
   "version": "3.7.1"
  }
 },
 "nbformat": 4,
 "nbformat_minor": 4
}
