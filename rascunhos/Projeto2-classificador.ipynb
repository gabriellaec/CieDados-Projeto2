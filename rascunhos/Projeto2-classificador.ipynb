{
 "cells": [
  {
   "cell_type": "markdown",
   "metadata": {},
   "source": [
    "# Projeto 2 - Ciência dos Dados"
   ]
  },
  {
   "cell_type": "markdown",
   "metadata": {},
   "source": [
    "Nome: Gabriela Yukari Mitu\n",
    "\n",
    "Nome: Gabriella Escobar Cukier"
   ]
  },
  {
   "cell_type": "markdown",
   "metadata": {},
   "source": [
    "___\n",
    "# Classificador automático de sentimento\n"
   ]
  },
  {
   "cell_type": "markdown",
   "metadata": {},
   "source": [
    "## Preparando o ambiente no jupyter:"
   ]
  },
  {
   "cell_type": "code",
   "execution_count": 164,
   "metadata": {},
   "outputs": [],
   "source": [
    "%%capture\n",
    "\n",
    "#Instalando o tweepy\n",
    "!pip install tweepy"
   ]
  },
  {
   "cell_type": "code",
   "execution_count": 165,
   "metadata": {
    "jupyter": {
     "outputs_hidden": true
    }
   },
   "outputs": [],
   "source": [
    "import tweepy\n",
    "import math\n",
    "import os.path\n",
    "import pandas as pd\n",
    "import json\n",
    "from random import shuffle\n",
    "import nltk\n",
    "from nltk.corpus import stopwords"
   ]
  },
  {
   "cell_type": "markdown",
   "metadata": {},
   "source": [
    "___\n",
    "### Montando o Classificador Naive-Bayes\n",
    "\n",
    "Considerando apenas as mensagens da planilha Treinamento, ensine  seu classificador."
   ]
  },
  {
   "cell_type": "markdown",
   "metadata": {},
   "source": [
    "## Metodologia"
   ]
  },
  {
   "cell_type": "markdown",
   "metadata": {},
   "source": [
    "### Teorema de Bayes"
   ]
  },
  {
   "cell_type": "markdown",
   "metadata": {},
   "source": []
  },
  {
   "cell_type": "markdown",
   "metadata": {},
   "source": [
    "### Suavização de Laplace"
   ]
  },
  {
   "cell_type": "markdown",
   "metadata": {},
   "source": [
    "Como algumas palavras não existem nos tweets irrelevantes, se o Teorema de Bayes fosse seguido normalmente, haveria uma multiplicação de probabilidades por zero. Para evitar tal problema, foi utilizada a técnica de suavização de Laplace. Ela consiste no seguinte procedimento:\n"
   ]
  },
  {
   "cell_type": "markdown",
   "metadata": {},
   "source": []
  },
  {
   "cell_type": "code",
   "execution_count": 334,
   "metadata": {},
   "outputs": [
    {
     "data": {
      "text/html": [
       "<div>\n",
       "<style scoped>\n",
       "    .dataframe tbody tr th:only-of-type {\n",
       "        vertical-align: middle;\n",
       "    }\n",
       "\n",
       "    .dataframe tbody tr th {\n",
       "        vertical-align: top;\n",
       "    }\n",
       "\n",
       "    .dataframe thead th {\n",
       "        text-align: right;\n",
       "    }\n",
       "</style>\n",
       "<table border=\"1\" class=\"dataframe\">\n",
       "  <thead>\n",
       "    <tr style=\"text-align: right;\">\n",
       "      <th></th>\n",
       "      <th>Treinamento</th>\n",
       "      <th>Relevância</th>\n",
       "      <th>Categoria</th>\n",
       "    </tr>\n",
       "  </thead>\n",
       "  <tbody>\n",
       "    <tr>\n",
       "      <th>645</th>\n",
       "      <td>android 10 acabou silenciosamente com uma func...</td>\n",
       "      <td>Relevante</td>\n",
       "      <td>Muito relevante</td>\n",
       "    </tr>\n",
       "    <tr>\n",
       "      <th>646</th>\n",
       "      <td>@toodivaforyou abo twitter for android sai só,...</td>\n",
       "      <td>Irrelevante</td>\n",
       "      <td>Irrelevante</td>\n",
       "    </tr>\n",
       "    <tr>\n",
       "      <th>647</th>\n",
       "      <td>vir pra casa da mazao e deixar o carregador em...</td>\n",
       "      <td>Irrelevante</td>\n",
       "      <td>Irrelevante</td>\n",
       "    </tr>\n",
       "    <tr>\n",
       "      <th>648</th>\n",
       "      <td>@dmpedrovieira @diogoafsimoes @androidgeekpt @...</td>\n",
       "      <td>Irrelevante</td>\n",
       "      <td>Irrelevante</td>\n",
       "    </tr>\n",
       "    <tr>\n",
       "      <th>649</th>\n",
       "      <td>@tunaosabesnd o android será sempre melhor só ...</td>\n",
       "      <td>Relevante</td>\n",
       "      <td>Muito relevante</td>\n",
       "    </tr>\n",
       "  </tbody>\n",
       "</table>\n",
       "</div>"
      ],
      "text/plain": [
       "                                           Treinamento   Relevância  \\\n",
       "645  android 10 acabou silenciosamente com uma func...    Relevante   \n",
       "646  @toodivaforyou abo twitter for android sai só,...  Irrelevante   \n",
       "647  vir pra casa da mazao e deixar o carregador em...  Irrelevante   \n",
       "648  @dmpedrovieira @diogoafsimoes @androidgeekpt @...  Irrelevante   \n",
       "649  @tunaosabesnd o android será sempre melhor só ...    Relevante   \n",
       "\n",
       "           Categoria  \n",
       "645  Muito relevante  \n",
       "646      Irrelevante  \n",
       "647      Irrelevante  \n",
       "648      Irrelevante  \n",
       "649  Muito relevante  "
      ]
     },
     "execution_count": 334,
     "metadata": {},
     "output_type": "execute_result"
    }
   ],
   "source": [
    "tweets_treinamento = pd.read_excel('Android.xlsx',sheet_name=0)\n",
    "tweets_treinamento[\"Categoria\"] = tweets_treinamento[\"Categoria\"].replace(0,\"Irrelevante\")\n",
    "tweets_treinamento[\"Categoria\"] = tweets_treinamento[\"Categoria\"].replace(1,\"Pouco relevante\")\n",
    "tweets_treinamento[\"Categoria\"] = tweets_treinamento[\"Categoria\"].replace(2,\"Relevante\")\n",
    "tweets_treinamento[\"Categoria\"] = tweets_treinamento[\"Categoria\"].replace(3,\"Muito relevante\")\n",
    "\n",
    "\n",
    "tweets_treinamento[\"Relevância\"] = tweets_treinamento[\"Relevância\"].replace(0,\"Irrelevante\")\n",
    "tweets_treinamento[\"Relevância\"] = tweets_treinamento[\"Relevância\"].replace(1,\"Relevante\")\n",
    "\n",
    "\n",
    "tweets_treinamento.tail()"
   ]
  },
  {
   "cell_type": "code",
   "execution_count": 335,
   "metadata": {},
   "outputs": [
    {
     "data": {
      "text/html": [
       "<div>\n",
       "<style scoped>\n",
       "    .dataframe tbody tr th:only-of-type {\n",
       "        vertical-align: middle;\n",
       "    }\n",
       "\n",
       "    .dataframe tbody tr th {\n",
       "        vertical-align: top;\n",
       "    }\n",
       "\n",
       "    .dataframe thead th {\n",
       "        text-align: right;\n",
       "    }\n",
       "</style>\n",
       "<table border=\"1\" class=\"dataframe\">\n",
       "  <thead>\n",
       "    <tr style=\"text-align: right;\">\n",
       "      <th></th>\n",
       "      <th>Teste</th>\n",
       "      <th>Relevância</th>\n",
       "      <th>Categoria</th>\n",
       "    </tr>\n",
       "  </thead>\n",
       "  <tbody>\n",
       "    <tr>\n",
       "      <th>0</th>\n",
       "      <td>@caldasm16 nao tanto quanto android pode ter ctz</td>\n",
       "      <td>Irrelevante</td>\n",
       "      <td>Irrelevante</td>\n",
       "    </tr>\n",
       "    <tr>\n",
       "      <th>1</th>\n",
       "      <td>libertei-me do iphone. agora, tenho bateria du...</td>\n",
       "      <td>Relevante</td>\n",
       "      <td>Relevante</td>\n",
       "    </tr>\n",
       "    <tr>\n",
       "      <th>2</th>\n",
       "      <td>responda a breves pesquisas e seja recompensad...</td>\n",
       "      <td>Irrelevante</td>\n",
       "      <td>Irrelevante</td>\n",
       "    </tr>\n",
       "    <tr>\n",
       "      <th>3</th>\n",
       "      <td>uber e lyft são acusados de cobrança de taxa a...</td>\n",
       "      <td>Irrelevante</td>\n",
       "      <td>Irrelevante</td>\n",
       "    </tr>\n",
       "    <tr>\n",
       "      <th>4</th>\n",
       "      <td>@luisscp_1906 sim para android, em qualidade e...</td>\n",
       "      <td>Relevante</td>\n",
       "      <td>Pouco relevante</td>\n",
       "    </tr>\n",
       "  </tbody>\n",
       "</table>\n",
       "</div>"
      ],
      "text/plain": [
       "                                               Teste   Relevância  \\\n",
       "0   @caldasm16 nao tanto quanto android pode ter ctz  Irrelevante   \n",
       "1  libertei-me do iphone. agora, tenho bateria du...    Relevante   \n",
       "2  responda a breves pesquisas e seja recompensad...  Irrelevante   \n",
       "3  uber e lyft são acusados de cobrança de taxa a...  Irrelevante   \n",
       "4  @luisscp_1906 sim para android, em qualidade e...    Relevante   \n",
       "\n",
       "         Categoria  \n",
       "0      Irrelevante  \n",
       "1        Relevante  \n",
       "2      Irrelevante  \n",
       "3      Irrelevante  \n",
       "4  Pouco relevante  "
      ]
     },
     "execution_count": 335,
     "metadata": {},
     "output_type": "execute_result"
    }
   ],
   "source": [
    "tweets_teste= pd.read_excel(\"Android.xlsx\",sheet_name=1) \n",
    "tweets_teste[\"Categoria\"] = tweets_teste[\"Categoria\"].replace(0,\"Irrelevante\")\n",
    "tweets_teste[\"Categoria\"] = tweets_teste[\"Categoria\"].replace(1,\"Pouco relevante\")\n",
    "tweets_teste[\"Categoria\"] = tweets_teste[\"Categoria\"].replace(2,\"Relevante\")\n",
    "tweets_teste[\"Categoria\"] = tweets_teste[\"Categoria\"].replace(3,\"Muito relevante\")\n",
    "\n",
    "tweets_teste[\"Relevância\"] = tweets_teste[\"Relevância\"].replace(0,\"Irrelevante\")\n",
    "tweets_teste[\"Relevância\"] = tweets_teste[\"Relevância\"].replace(1,\"Relevante\")\n",
    "\n",
    "tweets_teste.head()"
   ]
  },
  {
   "cell_type": "markdown",
   "metadata": {},
   "source": [
    "## Limpeza das bases"
   ]
  },
  {
   "cell_type": "code",
   "execution_count": 336,
   "metadata": {},
   "outputs": [],
   "source": [
    "def limpeza(tweets, coluna):\n",
    "    tweets[coluna] = tweets[coluna].apply(lambda x: x.lower())\n",
    "\n",
    "    for frase in tweets[coluna]:\n",
    "        frase_split = frase.split(\" \")\n",
    "        for palavra in frase_split:\n",
    "            if len(palavra) == 1:\n",
    "                frase_split.remove(palavra)\n",
    "\n",
    "\n",
    "\n",
    "    nltk.download('stopwords')\n",
    "    stop = stopwords.words('portuguese')\n",
    "    stop_list = [\"?\", \"de\", \"é\", \"á\", \"à\", \"ao\", \"a\", \"o\", \"é\", \"rt\", '\"', \"“\", \"'\", \",\", \":\", \".\", \"(\", \")\", \"!\", \"$\", \"%\", \"*\", \"&\", \"-\", \"+\", \"=\", \"/\"]\n",
    "    stop.extend(stop_list)\n",
    "    tweets[coluna] = [' '.join([w for w in x.lower().split() if w not in stop]) \n",
    "        for x in tweets[coluna].tolist()]\n",
    "    \n",
    "    \n",
    "        \n",
    "\n",
    "    tweets[coluna] = tweets[coluna].str.replace(\"  \",\" \")\n",
    "    tweets[coluna] = tweets[coluna].str.replace(\",\",\"\")\n",
    "    tweets[coluna] = tweets[coluna].str.replace(\"?\",\"\")\n",
    "    tweets[coluna] = tweets[coluna].str.replace(\"'\",\"\")\n",
    "    tweets[coluna] = tweets[coluna].str.replace('\"',\"\")\n",
    "    tweets[coluna] = tweets[coluna].str.replace(\"“\",\"\")\n",
    "    tweets[coluna] = tweets[coluna].str.replace(\":\",\"\")\n",
    "    tweets[coluna] = tweets[coluna].str.replace(\".\",\"\")\n",
    "    tweets[coluna] = tweets[coluna].str.replace(\")\",\"\")\n",
    "    tweets[coluna] = tweets[coluna].str.replace(\"(\",\"\")\n",
    "    tweets[coluna] = tweets[coluna].str.replace(\"!\",\"\")\n",
    "    tweets[coluna] = tweets[coluna].str.replace(\"$\",\"\")\n",
    "    tweets[coluna] = tweets[coluna].str.replace(\"%\",\"\")\n",
    "    tweets[coluna] = tweets[coluna].str.replace(\"*\",\"\")\n",
    "    tweets[coluna] = tweets[coluna].str.replace(\"&\",\"\")\n",
    "    tweets[coluna] = tweets[coluna].str.replace(\"-\",\"\")\n",
    "    tweets[coluna] = tweets[coluna].str.replace(\"+\",\"\")\n",
    "    tweets[coluna] = tweets[coluna].str.replace(\"=\",\"\")\n",
    "    tweets[coluna] = tweets[coluna].str.replace(\"/\",\"\")\n",
    "    tweets[coluna] = tweets[coluna].str.replace(\"@\",\"\")\n",
    "    tweets[coluna] = tweets[coluna].str.replace(\"|\",\"\")\n",
    "\n",
    "    return pd.DataFrame(tweets)"
   ]
  },
  {
   "cell_type": "code",
   "execution_count": 337,
   "metadata": {},
   "outputs": [
    {
     "name": "stderr",
     "output_type": "stream",
     "text": [
      "[nltk_data] Downloading package stopwords to\n",
      "[nltk_data]     C:\\Users\\gabri\\AppData\\Roaming\\nltk_data...\n",
      "[nltk_data]   Package stopwords is already up-to-date!\n"
     ]
    }
   ],
   "source": [
    "tweets = limpeza(tweets_treinamento, \"Treinamento\")\n",
    "\n",
    "irrel=tweets['Treinamento'][tweets['Relevância'] == \"Irrelevante\"]\n",
    "rele=tweets['Treinamento'][tweets['Relevância'] == \"Relevante\"]\n"
   ]
  },
  {
   "cell_type": "markdown",
   "metadata": {},
   "source": [
    "### Frequência absoluta - relevante e irrelevante"
   ]
  },
  {
   "cell_type": "code",
   "execution_count": 338,
   "metadata": {},
   "outputs": [
    {
     "name": "stdout",
     "output_type": "stream",
     "text": [
      "Frequência absoluta (relevante e irrelevante):  7531\n"
     ]
    }
   ],
   "source": [
    "conteudo = []\n",
    "for t in tweets[\"Treinamento\"]: \n",
    "    pal = t.split()\n",
    "    for p in pal:\n",
    "            conteudo.append(p)\n",
    "            \n",
    "texto=\" \".join(conteudo)\n",
    "series= pd.Series(texto.split())\n",
    "freq = series.value_counts()\n",
    "totalt=freq.sum()\n",
    "print(\"Frequência absoluta (relevante e irrelevante): \", totalt)\n",
    "dict_tot =freq.to_dict()\n"
   ]
  },
  {
   "cell_type": "markdown",
   "metadata": {},
   "source": [
    "## Dicionário da categoria relevante, frequência absoluta e relativa"
   ]
  },
  {
   "cell_type": "code",
   "execution_count": 339,
   "metadata": {},
   "outputs": [
    {
     "name": "stdout",
     "output_type": "stream",
     "text": [
      "Frequência absoluta:  874\n",
      "Frequência relativa:  0.11605364493427167\n"
     ]
    }
   ],
   "source": [
    "conteudo = []\n",
    "for t in rele: \n",
    "    pal = t.split()\n",
    "    for p in pal:\n",
    "            conteudo.append(p)\n",
    "texto=\" \".join(conteudo)\n",
    "series= pd.Series(texto.split())\n",
    "freq = series.value_counts()\n",
    "totrele=freq.sum()\n",
    "print(\"Frequência absoluta: \",totrele)\n",
    "di_rele=freq.to_dict()\n",
    "frele=totrele/totalt\n",
    "print(\"Frequência relativa: \",frele)"
   ]
  },
  {
   "cell_type": "code",
   "execution_count": 348,
   "metadata": {},
   "outputs": [
    {
     "name": "stdout",
     "output_type": "stream",
     "text": [
      "Dicionário - categoria relevante:\n",
      "Termo mais utilizado:  android: 79 vezes\n"
     ]
    }
   ],
   "source": [
    "dicionario_relevante={}\n",
    "for p in dict_tot.keys():\n",
    "    dicionario_relevante[p]=1\n",
    "for palavra in di_rele:\n",
    "    dicionario_relevante[palavra]+=di_rele[palavra]\n",
    "print(\"Dicionário - categoria relevante:\")\n",
    "\n",
    "m=0\n",
    "for k in dicionario_relevante:\n",
    "    while m<1:\n",
    "        print (\"Termo mais utilizado do dicionário: \",k + \": \" + str(dicionario_relevante[k]) + \" vezes\")\n",
    "        m+=1\n",
    "        \n",
    "#dicionario_relevante"
   ]
  },
  {
   "cell_type": "markdown",
   "metadata": {},
   "source": [
    "## Dicionário da categoria irrelevante, frequência absoluta e relativa"
   ]
  },
  {
   "cell_type": "code",
   "execution_count": 343,
   "metadata": {},
   "outputs": [
    {
     "name": "stdout",
     "output_type": "stream",
     "text": [
      "Frequência absoluta:  6657\n",
      "Frequência relativa:  0.8839463550657283\n"
     ]
    }
   ],
   "source": [
    "conteudo = []\n",
    "for t in irrel: \n",
    "    pal = t.split()\n",
    "    for p in pal:\n",
    "            conteudo.append(p)\n",
    "texto=\" \".join(conteudo)\n",
    "series= pd.Series(texto.split())\n",
    "freq = series.value_counts()\n",
    "totirr=freq.sum()\n",
    "print(\"Frequência absoluta: \",totirr)\n",
    "di_irr=freq.to_dict()\n",
    "firr=totirr/totalt\n",
    "print(\"Frequência relativa: \",firr)"
   ]
  },
  {
   "cell_type": "code",
   "execution_count": 349,
   "metadata": {},
   "outputs": [
    {
     "name": "stdout",
     "output_type": "stream",
     "text": [
      "Dicionário - categoria irrelevante\n",
      "Termo mais utilizado dicionário:  android: 494 vezes\n"
     ]
    }
   ],
   "source": [
    "dicionario_irrelevante={}\n",
    "for p in dict_tot.keys():\n",
    "    dicionario_irrelevante[p]=1\n",
    "for palavra in di_irr:\n",
    "    dicionario_irrelevante[palavra]+=di_irr[palavra]\n",
    "print(\"Dicionário - categoria irrelevante\")\n",
    "\n",
    "m=0\n",
    "for k in dicionario_irrelevante:\n",
    "    while m<1:\n",
    "        print (\"Termo mais utilizado dicionário: \", k + \": \" + str(dicionario_irrelevante[k]) + \" vezes\")\n",
    "        m+=1\n",
    "\n",
    "#dicionario_irrelevante"
   ]
  },
  {
   "cell_type": "markdown",
   "metadata": {},
   "source": [
    "## Verificação da performance"
   ]
  },
  {
   "cell_type": "code",
   "execution_count": 345,
   "metadata": {},
   "outputs": [],
   "source": [
    "irrel ={}\n",
    "rel ={}\n",
    "\n",
    "todas_palavras=dict_tot.keys()\n",
    "for palavra in todas_palavras:\n",
    "    irrel[palavra]= dicionario_irrelevante[palavra]/(len(todas_palavras)+(totirr+1))\n",
    "    rel[palavra]= dicionario_relevante[palavra]/(len(todas_palavras)+(totrele+1))\n"
   ]
  },
  {
   "cell_type": "code",
   "execution_count": 346,
   "metadata": {},
   "outputs": [
    {
     "name": "stderr",
     "output_type": "stream",
     "text": [
      "[nltk_data] Downloading package stopwords to\n",
      "[nltk_data]     C:\\Users\\gabri\\AppData\\Roaming\\nltk_data...\n",
      "[nltk_data]   Package stopwords is already up-to-date!\n"
     ]
    },
    {
     "data": {
      "text/html": [
       "<div>\n",
       "<style scoped>\n",
       "    .dataframe tbody tr th:only-of-type {\n",
       "        vertical-align: middle;\n",
       "    }\n",
       "\n",
       "    .dataframe tbody tr th {\n",
       "        vertical-align: top;\n",
       "    }\n",
       "\n",
       "    .dataframe thead th {\n",
       "        text-align: right;\n",
       "    }\n",
       "</style>\n",
       "<table border=\"1\" class=\"dataframe\">\n",
       "  <thead>\n",
       "    <tr style=\"text-align: right;\">\n",
       "      <th></th>\n",
       "      <th>Teste</th>\n",
       "      <th>Relevância</th>\n",
       "      <th>Categoria</th>\n",
       "      <th>Chute</th>\n",
       "    </tr>\n",
       "  </thead>\n",
       "  <tbody>\n",
       "    <tr>\n",
       "      <th>0</th>\n",
       "      <td>caldasm16 nao tanto quanto android pode ter ctz</td>\n",
       "      <td>Irrelevante</td>\n",
       "      <td>Irrelevante</td>\n",
       "      <td>Irrelevante</td>\n",
       "    </tr>\n",
       "    <tr>\n",
       "      <th>1</th>\n",
       "      <td>liberteime iphone agora bateria durante dia me...</td>\n",
       "      <td>Relevante</td>\n",
       "      <td>Relevante</td>\n",
       "      <td>Irrelevante</td>\n",
       "    </tr>\n",
       "    <tr>\n",
       "      <th>2</th>\n",
       "      <td>responda breves pesquisas recompensado faça do...</td>\n",
       "      <td>Irrelevante</td>\n",
       "      <td>Irrelevante</td>\n",
       "      <td>Irrelevante</td>\n",
       "    </tr>\n",
       "    <tr>\n",
       "      <th>3</th>\n",
       "      <td>uber lyft acusados cobrança taxa acima prometi...</td>\n",
       "      <td>Irrelevante</td>\n",
       "      <td>Irrelevante</td>\n",
       "      <td>Irrelevante</td>\n",
       "    </tr>\n",
       "    <tr>\n",
       "      <th>4</th>\n",
       "      <td>luisscp_1906 sim android qualidade melhor dois...</td>\n",
       "      <td>Relevante</td>\n",
       "      <td>Pouco relevante</td>\n",
       "      <td>Irrelevante</td>\n",
       "    </tr>\n",
       "  </tbody>\n",
       "</table>\n",
       "</div>"
      ],
      "text/plain": [
       "                                               Teste   Relevância  \\\n",
       "0    caldasm16 nao tanto quanto android pode ter ctz  Irrelevante   \n",
       "1  liberteime iphone agora bateria durante dia me...    Relevante   \n",
       "2  responda breves pesquisas recompensado faça do...  Irrelevante   \n",
       "3  uber lyft acusados cobrança taxa acima prometi...  Irrelevante   \n",
       "4  luisscp_1906 sim android qualidade melhor dois...    Relevante   \n",
       "\n",
       "         Categoria        Chute  \n",
       "0      Irrelevante  Irrelevante  \n",
       "1        Relevante  Irrelevante  \n",
       "2      Irrelevante  Irrelevante  \n",
       "3      Irrelevante  Irrelevante  \n",
       "4  Pouco relevante  Irrelevante  "
      ]
     },
     "execution_count": 346,
     "metadata": {},
     "output_type": "execute_result"
    }
   ],
   "source": [
    "dftw = limpeza(tweets_teste,\"Teste\")\n",
    "tweets=dftw[\"Teste\"]\n",
    "chute = []\n",
    "\n",
    "for frase in tweets:\n",
    "    prob_irrel=1\n",
    "    prob_rel=1\n",
    "    y = frase.split(\" \")\n",
    "    for palavra in y: \n",
    "        if palavra in irrel:\n",
    "            prob_irrel *= irrel[palavra]\n",
    "        else:\n",
    "            prob_irrel *= 1/ (len(todas_palavras)+(totirr+1))\n",
    "        \n",
    "        if palavra in rel:\n",
    "            prob_rel *= rel[palavra]\n",
    "        else:\n",
    "            prob_rel *= 1/ (len(todas_palavras)+(totrele+1))\n",
    "       \n",
    "    PI= (firr*prob_irrel)\n",
    "    PR = (frele*prob_rel)\n",
    "\n",
    "    if PR>=PI:\n",
    "        chute.append(\"Relevante\")\n",
    "    else:\n",
    "        chute.append(\"Irrelevante\")\n",
    "\n",
    "\n",
    "dftw[\"Chute\"]=chute\n",
    "dftw.head()"
   ]
  },
  {
   "cell_type": "markdown",
   "metadata": {},
   "source": [
    "### Tabela de distribuição conjunta - previsão do programa e classificação real"
   ]
  },
  {
   "cell_type": "code",
   "execution_count": 175,
   "metadata": {},
   "outputs": [
    {
     "data": {
      "text/html": [
       "<div>\n",
       "<style scoped>\n",
       "    .dataframe tbody tr th:only-of-type {\n",
       "        vertical-align: middle;\n",
       "    }\n",
       "\n",
       "    .dataframe tbody tr th {\n",
       "        vertical-align: top;\n",
       "    }\n",
       "\n",
       "    .dataframe thead th {\n",
       "        text-align: right;\n",
       "    }\n",
       "</style>\n",
       "<table border=\"1\" class=\"dataframe\">\n",
       "  <thead>\n",
       "    <tr style=\"text-align: right;\">\n",
       "      <th>Predito</th>\n",
       "      <th>Irrelevante</th>\n",
       "      <th>Relevante</th>\n",
       "      <th>All</th>\n",
       "    </tr>\n",
       "    <tr>\n",
       "      <th>Real</th>\n",
       "      <th></th>\n",
       "      <th></th>\n",
       "      <th></th>\n",
       "    </tr>\n",
       "  </thead>\n",
       "  <tbody>\n",
       "    <tr>\n",
       "      <th>Irrelevante</th>\n",
       "      <td>0.666667</td>\n",
       "      <td>0.217778</td>\n",
       "      <td>0.884444</td>\n",
       "    </tr>\n",
       "    <tr>\n",
       "      <th>Relevante</th>\n",
       "      <td>0.088889</td>\n",
       "      <td>0.026667</td>\n",
       "      <td>0.115556</td>\n",
       "    </tr>\n",
       "    <tr>\n",
       "      <th>All</th>\n",
       "      <td>0.755556</td>\n",
       "      <td>0.244444</td>\n",
       "      <td>1.000000</td>\n",
       "    </tr>\n",
       "  </tbody>\n",
       "</table>\n",
       "</div>"
      ],
      "text/plain": [
       "Predito      Irrelevante  Relevante       All\n",
       "Real                                         \n",
       "Irrelevante     0.666667   0.217778  0.884444\n",
       "Relevante       0.088889   0.026667  0.115556\n",
       "All             0.755556   0.244444  1.000000"
      ]
     },
     "execution_count": 175,
     "metadata": {},
     "output_type": "execute_result"
    }
   ],
   "source": [
    "matriz = pd.crosstab(dftw[\"Relevância\"], dftw[\"Chute\"], margins=True, normalize=True, rownames=[\"Real\"], colnames=[\"Predito\"])\n",
    "matriz"
   ]
  },
  {
   "cell_type": "markdown",
   "metadata": {},
   "source": [
    "### Previsão:"
   ]
  },
  {
   "cell_type": "code",
   "execution_count": 176,
   "metadata": {},
   "outputs": [
    {
     "name": "stdout",
     "output_type": "stream",
     "text": [
      "O classificador acertou as previsões em 69.33333333333334 dos casos\n"
     ]
    }
   ],
   "source": [
    "numero_acerto = (dftw[\"Relevância\"] == dftw[\"Chute\"]).value_counts()\n",
    "eficiencia=numero_acerto[True]/len(dftw)\n",
    "print(\"O classificador acertou as previsões em {} dos casos\".format(eficiencia*100))\n"
   ]
  },
  {
   "cell_type": "markdown",
   "metadata": {},
   "source": [
    "### Heatmap"
   ]
  },
  {
   "cell_type": "code",
   "execution_count": 177,
   "metadata": {},
   "outputs": [
    {
     "data": {
      "text/plain": [
       "<matplotlib.axes._subplots.AxesSubplot at 0x20acea29eb8>"
      ]
     },
     "execution_count": 177,
     "metadata": {},
     "output_type": "execute_result"
    },
    {
     "data": {
      "image/png": "[encoded data removed]",
      "text/plain": [
       "<Figure size 432x288 with 2 Axes>"
      ]
     },
     "metadata": {
      "needs_background": "light"
     },
     "output_type": "display_data"
    }
   ],
   "source": [
    "sn.heatmap(matriz, annot=True)"
   ]
  },
  {
   "cell_type": "markdown",
   "metadata": {},
   "source": [
    "A fim de melhorar a visualização de dados, foi criado um heatmap com as informações adquiridas com os códigos anteriores. Desta forma, há a presença de todo um data set com ambas as variáveis instantaneamente, ou seja, há melhor visualização da correlação da matriz (tabela de distribuição conjunta).\n",
    "\n",
    "Como resposta do classficador, houve cerca de 69,3% de acertos. Entretanto, para melhorar o desempenho dele, foi feito um outro teste, porém, desta vez, acrescentando uma nova variável categórica, assim determinadas palavras se tornariam mais específicas para cada categoria definida."
   ]
  },
  {
   "cell_type": "markdown",
   "metadata": {},
   "source": [
    "## Categoria Naive-Bayes com 3 categorias"
   ]
  },
  {
   "cell_type": "markdown",
   "metadata": {},
   "source": [
    "### Limpeza:"
   ]
  },
  {
   "cell_type": "code",
   "execution_count": 275,
   "metadata": {},
   "outputs": [
    {
     "name": "stderr",
     "output_type": "stream",
     "text": [
      "[nltk_data] Downloading package stopwords to\n",
      "[nltk_data]     C:\\Users\\gabri\\AppData\\Roaming\\nltk_data...\n",
      "[nltk_data]   Package stopwords is already up-to-date!\n"
     ]
    }
   ],
   "source": [
    "tweets = limpeza(tweets_treinamento, \"Treinamento\")"
   ]
  },
  {
   "cell_type": "code",
   "execution_count": 276,
   "metadata": {},
   "outputs": [
    {
     "data": {
      "text/html": [
       "<div>\n",
       "<style scoped>\n",
       "    .dataframe tbody tr th:only-of-type {\n",
       "        vertical-align: middle;\n",
       "    }\n",
       "\n",
       "    .dataframe tbody tr th {\n",
       "        vertical-align: top;\n",
       "    }\n",
       "\n",
       "    .dataframe thead th {\n",
       "        text-align: right;\n",
       "    }\n",
       "</style>\n",
       "<table border=\"1\" class=\"dataframe\">\n",
       "  <thead>\n",
       "    <tr style=\"text-align: right;\">\n",
       "      <th></th>\n",
       "      <th>Treinamento</th>\n",
       "      <th>Relevância</th>\n",
       "      <th>Categoria</th>\n",
       "    </tr>\n",
       "  </thead>\n",
       "  <tbody>\n",
       "    <tr>\n",
       "      <th>31</th>\n",
       "      <td>eeveeevolution sistema android muitos muitos b...</td>\n",
       "      <td>Relevante</td>\n",
       "      <td>Muito relevante</td>\n",
       "    </tr>\n",
       "    <tr>\n",
       "      <th>47</th>\n",
       "      <td>android atualizou ficou foda</td>\n",
       "      <td>Relevante</td>\n",
       "      <td>Pouco relevante</td>\n",
       "    </tr>\n",
       "    <tr>\n",
       "      <th>52</th>\n",
       "      <td>tava vendo uns print antigos usava android aí ...</td>\n",
       "      <td>Relevante</td>\n",
       "      <td>Pouco relevante</td>\n",
       "    </tr>\n",
       "    <tr>\n",
       "      <th>53</th>\n",
       "      <td>tunaosabesnd mano preço exorbitante podes pega...</td>\n",
       "      <td>Relevante</td>\n",
       "      <td>Relevante</td>\n",
       "    </tr>\n",
       "    <tr>\n",
       "      <th>58</th>\n",
       "      <td>android ruim mano saudades iphone 😪</td>\n",
       "      <td>Relevante</td>\n",
       "      <td>Relevante</td>\n",
       "    </tr>\n",
       "  </tbody>\n",
       "</table>\n",
       "</div>"
      ],
      "text/plain": [
       "                                          Treinamento Relevância  \\\n",
       "31  eeveeevolution sistema android muitos muitos b...  Relevante   \n",
       "47                       android atualizou ficou foda  Relevante   \n",
       "52  tava vendo uns print antigos usava android aí ...  Relevante   \n",
       "53  tunaosabesnd mano preço exorbitante podes pega...  Relevante   \n",
       "58                android ruim mano saudades iphone 😪  Relevante   \n",
       "\n",
       "          Categoria  \n",
       "31  Muito relevante  \n",
       "47  Pouco relevante  \n",
       "52  Pouco relevante  \n",
       "53        Relevante  \n",
       "58        Relevante  "
      ]
     },
     "execution_count": 276,
     "metadata": {},
     "output_type": "execute_result"
    }
   ],
   "source": [
    "tweets=tweets[tweets['Relevância']==\"Relevante\"]\n",
    "tweets.head()"
   ]
  },
  {
   "cell_type": "markdown",
   "metadata": {},
   "source": [
    "### Definindo as categorias:"
   ]
  },
  {
   "cell_type": "code",
   "execution_count": 277,
   "metadata": {},
   "outputs": [],
   "source": [
    "npr=tweets['Treinamento'][tweets['Categoria'] == \"Pouco relevante\"]\n",
    "nr=tweets['Treinamento'][tweets['Categoria'] == \"Relevante\"]\n",
    "nmr=tweets['Treinamento'][tweets['Categoria'] == \"Muito relevante\"]"
   ]
  },
  {
   "cell_type": "markdown",
   "metadata": {},
   "source": [
    "### Frequências absoluta e relativa (desta vez, em apenas um código):"
   ]
  },
  {
   "cell_type": "code",
   "execution_count": 281,
   "metadata": {},
   "outputs": [
    {
     "name": "stdout",
     "output_type": "stream",
     "text": [
      "Frequência absoluta Total (Pouco Relevante, Relevante, muito Relevante:  868\n",
      "-------------------------\n",
      "Frequência absoluta (Pouco Relevante):  258\n",
      "Frequência relativa (Pouco Relevante):  0.29723502304147464\n",
      "-------------------------\n",
      "Frequência absoluta (Relevante):  373\n",
      "Frequência relativa (Relevante):  0.42972350230414746\n",
      "-------------------------\n",
      "Frequência absoluta (Muito Relevante):  237\n",
      "Frequência absoluta (Muito Relevante):  0.2730414746543779\n"
     ]
    }
   ],
   "source": [
    "conteudo = []\n",
    "for t in tweets[\"Treinamento\"]: \n",
    "    pal = t.split()\n",
    "    for p in pal:\n",
    "            conteudo.append(p)\n",
    "            \n",
    "texto=\" \".join(conteudo)\n",
    "series= pd.Series(texto.split())\n",
    "freq = series.value_counts()\n",
    "totalt=freq.sum()\n",
    "print(\"Frequência absoluta Total (Pouco Relevante, Relevante, muito Relevante: \",totalt)\n",
    "dict_tot =freq.to_dict()\n",
    "\n",
    "print('-'*25)\n",
    "\n",
    "conteudo = []\n",
    "for t in npr: \n",
    "    pal = t.split()\n",
    "    for p in pal:\n",
    "            conteudo.append(p)\n",
    "texto=\" \".join(conteudo)\n",
    "series= pd.Series(texto.split())\n",
    "freq = series.value_counts()\n",
    "tnpr=freq.sum()\n",
    "print(\"Frequência absoluta (Pouco Relevante): \",tnpr)\n",
    "dnpr=freq.to_dict()\n",
    "fnpr=tnpr/totalt\n",
    "print(\"Frequência relativa (Pouco Relevante): \",fnpr)\n",
    "\n",
    "dinpr={}\n",
    "for p in dict_tot.keys():\n",
    "    dinpr[p]=1\n",
    "for palavra in dnpr:\n",
    "    dinpr[palavra]+=dnpr[palavra]\n",
    "\n",
    "    \n",
    "print('-'*25)\n",
    "    \n",
    "conteudo = []\n",
    "for t in nr: \n",
    "    pal = t.split()\n",
    "    for p in pal:\n",
    "            conteudo.append(p)\n",
    "texto=\" \".join(conteudo)\n",
    "series= pd.Series(texto.split())\n",
    "freq = series.value_counts()\n",
    "tnr=freq.sum()\n",
    "print(\"Frequência absoluta (Relevante): \",tnr)\n",
    "dnr=freq.to_dict()\n",
    "fnr=tnr/totalt\n",
    "print(\"Frequência relativa (Relevante): \",fnr)\n",
    "\n",
    "dinr={}\n",
    "for p in dict_tot.keys():\n",
    "    dinr[p]=1\n",
    "for palavra in dnr:\n",
    "    dinr[palavra]+=dnr[palavra]\n",
    "\n",
    "    \n",
    "print('-'*25)\n",
    "\n",
    "\n",
    "conteudo = []\n",
    "for t in nmr: \n",
    "    pal = t.split()\n",
    "    for p in pal:\n",
    "            conteudo.append(p)\n",
    "texto=\" \".join(conteudo)\n",
    "series= pd.Series(texto.split())\n",
    "freq = series.value_counts()\n",
    "tnmr=freq.sum()\n",
    "print(\"Frequência absoluta (Muito Relevante): \",tnmr)\n",
    "dnmr=freq.to_dict()\n",
    "fnmr=tnmr/totalt\n",
    "print(\"Frequência absoluta (Muito Relevante): \", fnmr)\n",
    "\n",
    "dinmr={}\n",
    "for p in dict_tot.keys():\n",
    "    dinmr[p]=1\n",
    "for palavra in dnmr:\n",
    "    dinmr[palavra]+=dnmr[palavra]"
   ]
  },
  {
   "cell_type": "code",
   "execution_count": 182,
   "metadata": {},
   "outputs": [],
   "source": [
    "pourel ={}\n",
    "rel ={}\n",
    "muirel = {}\n",
    "\n",
    "todas_palavras=dict_tot.keys()\n",
    "for palavra in todas_palavras:\n",
    "    pourel[palavra]= dinpr[palavra]/(len(todas_palavras)+(tnpr+1))\n",
    "    rel[palavra]= dinr[palavra]/(len(todas_palavras)+(tnr+1))\n",
    "    muirel[palavra]= dinmr[palavra]/(len(todas_palavras)+(tnmr+1))\n",
    "\n"
   ]
  },
  {
   "cell_type": "code",
   "execution_count": 183,
   "metadata": {},
   "outputs": [
    {
     "name": "stderr",
     "output_type": "stream",
     "text": [
      "[nltk_data] Downloading package stopwords to\n",
      "[nltk_data]     C:\\Users\\gabri\\AppData\\Roaming\\nltk_data...\n",
      "[nltk_data]   Package stopwords is already up-to-date!\n"
     ]
    }
   ],
   "source": [
    "dftw = limpeza(tweets_teste,\"Teste\")\n",
    "dftw=dftw[dftw['Relevância']==\"Relevante\"]\n",
    "dftw.head()\n",
    "tweets=dftw[\"Teste\"]\n"
   ]
  },
  {
   "cell_type": "code",
   "execution_count": 184,
   "metadata": {},
   "outputs": [
    {
     "data": {
      "text/html": [
       "<div>\n",
       "<style scoped>\n",
       "    .dataframe tbody tr th:only-of-type {\n",
       "        vertical-align: middle;\n",
       "    }\n",
       "\n",
       "    .dataframe tbody tr th {\n",
       "        vertical-align: top;\n",
       "    }\n",
       "\n",
       "    .dataframe thead th {\n",
       "        text-align: right;\n",
       "    }\n",
       "</style>\n",
       "<table border=\"1\" class=\"dataframe\">\n",
       "  <thead>\n",
       "    <tr style=\"text-align: right;\">\n",
       "      <th></th>\n",
       "      <th>Teste</th>\n",
       "      <th>Relevância</th>\n",
       "      <th>Categoria</th>\n",
       "      <th>Chute</th>\n",
       "    </tr>\n",
       "  </thead>\n",
       "  <tbody>\n",
       "    <tr>\n",
       "      <th>375</th>\n",
       "      <td>android atualizou ta horriveeeeeeel</td>\n",
       "      <td>Relevante</td>\n",
       "      <td>Pouco relevante</td>\n",
       "      <td>Pouco relevante</td>\n",
       "    </tr>\n",
       "    <tr>\n",
       "      <th>380</th>\n",
       "      <td>adoro android</td>\n",
       "      <td>Relevante</td>\n",
       "      <td>Pouco relevante</td>\n",
       "      <td>Pouco relevante</td>\n",
       "    </tr>\n",
       "    <tr>\n",
       "      <th>385</th>\n",
       "      <td>2 dias to iphone vi nunca volto pro android</td>\n",
       "      <td>Relevante</td>\n",
       "      <td>Relevante</td>\n",
       "      <td>Relevante</td>\n",
       "    </tr>\n",
       "    <tr>\n",
       "      <th>388</th>\n",
       "      <td>unica coisa prende apple neste momento câmera ...</td>\n",
       "      <td>Relevante</td>\n",
       "      <td>Relevante</td>\n",
       "      <td>Relevante</td>\n",
       "    </tr>\n",
       "    <tr>\n",
       "      <th>404</th>\n",
       "      <td>souzalucas14345 allissonrey wassupmor trava ce...</td>\n",
       "      <td>Relevante</td>\n",
       "      <td>Muito relevante</td>\n",
       "      <td>Muito relevante</td>\n",
       "    </tr>\n",
       "    <tr>\n",
       "      <th>411</th>\n",
       "      <td>diegofadul usei tbm mt tempo desde 2012 ios an...</td>\n",
       "      <td>Relevante</td>\n",
       "      <td>Relevante</td>\n",
       "      <td>Relevante</td>\n",
       "    </tr>\n",
       "    <tr>\n",
       "      <th>422</th>\n",
       "      <td>5g revolução chegando novo android suporta tec...</td>\n",
       "      <td>Relevante</td>\n",
       "      <td>Relevante</td>\n",
       "      <td>Relevante</td>\n",
       "    </tr>\n",
       "    <tr>\n",
       "      <th>435</th>\n",
       "      <td>android 9 eh absurdo questão eh bateria google...</td>\n",
       "      <td>Relevante</td>\n",
       "      <td>Muito relevante</td>\n",
       "      <td>Pouco relevante</td>\n",
       "    </tr>\n",
       "    <tr>\n",
       "      <th>440</th>\n",
       "      <td>android 10 perfeito defeitos httpstcokaigppdnse</td>\n",
       "      <td>Relevante</td>\n",
       "      <td>Pouco relevante</td>\n",
       "      <td>Muito relevante</td>\n",
       "    </tr>\n",
       "  </tbody>\n",
       "</table>\n",
       "</div>"
      ],
      "text/plain": [
       "                                                 Teste Relevância  \\\n",
       "375                android atualizou ta horriveeeeeeel  Relevante   \n",
       "380                                      adoro android  Relevante   \n",
       "385        2 dias to iphone vi nunca volto pro android  Relevante   \n",
       "388  unica coisa prende apple neste momento câmera ...  Relevante   \n",
       "404  souzalucas14345 allissonrey wassupmor trava ce...  Relevante   \n",
       "411  diegofadul usei tbm mt tempo desde 2012 ios an...  Relevante   \n",
       "422  5g revolução chegando novo android suporta tec...  Relevante   \n",
       "435  android 9 eh absurdo questão eh bateria google...  Relevante   \n",
       "440    android 10 perfeito defeitos httpstcokaigppdnse  Relevante   \n",
       "\n",
       "           Categoria            Chute  \n",
       "375  Pouco relevante  Pouco relevante  \n",
       "380  Pouco relevante  Pouco relevante  \n",
       "385        Relevante        Relevante  \n",
       "388        Relevante        Relevante  \n",
       "404  Muito relevante  Muito relevante  \n",
       "411        Relevante        Relevante  \n",
       "422        Relevante        Relevante  \n",
       "435  Muito relevante  Pouco relevante  \n",
       "440  Pouco relevante  Muito relevante  "
      ]
     },
     "execution_count": 184,
     "metadata": {},
     "output_type": "execute_result"
    }
   ],
   "source": [
    "\n",
    "chute = []\n",
    "\n",
    "for frase in tweets:\n",
    "    prob_irrel=1\n",
    "    prob_prel=1\n",
    "    prob_rel=1\n",
    "    prob_mrel=1\n",
    "    y = frase.split(\" \")\n",
    "    for palavra in y: \n",
    "        \n",
    "        if palavra in pourel:\n",
    "            prob_prel *= pourel[palavra]\n",
    "        else:\n",
    "            prob_prel *= 1/ (len(todas_palavras)+(tnpr+1))\n",
    "            \n",
    "        if palavra in rel:\n",
    "            prob_rel *= rel[palavra]\n",
    "        else:\n",
    "            prob_rel *= 1/ (len(todas_palavras)+(tnr+1))\n",
    "            \n",
    "        if palavra in muirel:\n",
    "            prob_mrel*= muirel[palavra]\n",
    "        else:\n",
    "            prob_mrel *= 1/(len(todas_palavras)+(tnmr+1))\n",
    "         \n",
    "    PPR =(freq_rel_pr*prob_prel)\n",
    "    PR = (freq_rel_r*prob_rel)\n",
    "    PMR=( freq_rel_mr*prob_mrel)\n",
    "\n",
    "    if PMR >= PR and PMR>=PPR:\n",
    "        chute.append(\"Muito relevante\")\n",
    "\n",
    "    elif PR>=PPR:\n",
    "        chute.append(\"Relevante\")\n",
    "\n",
    "    else:\n",
    "        chute.append(\"Pouco relevante\")\n",
    "    \n",
    "dftw[\"Chute\"]=chute\n",
    "dftw.tail(9)"
   ]
  },
  {
   "cell_type": "markdown",
   "metadata": {},
   "source": [
    "### Previsão:"
   ]
  },
  {
   "cell_type": "code",
   "execution_count": 185,
   "metadata": {},
   "outputs": [
    {
     "name": "stdout",
     "output_type": "stream",
     "text": [
      "O classificador acertou as previsões em 71.15384615384616 dos casos\n"
     ]
    }
   ],
   "source": [
    "numero_acerto = (dftw[\"Categoria\"] == dftw[\"Chute\"]).value_counts()\n",
    "eficiencia=numero_acerto[True]/len(dftw)\n",
    "print(\"O classificador acertou as previsões em {} dos casos\".format(eficiencia*100))"
   ]
  },
  {
   "cell_type": "code",
   "execution_count": 186,
   "metadata": {},
   "outputs": [
    {
     "data": {
      "text/html": [
       "<div>\n",
       "<style scoped>\n",
       "    .dataframe tbody tr th:only-of-type {\n",
       "        vertical-align: middle;\n",
       "    }\n",
       "\n",
       "    .dataframe tbody tr th {\n",
       "        vertical-align: top;\n",
       "    }\n",
       "\n",
       "    .dataframe thead th {\n",
       "        text-align: right;\n",
       "    }\n",
       "</style>\n",
       "<table border=\"1\" class=\"dataframe\">\n",
       "  <thead>\n",
       "    <tr style=\"text-align: right;\">\n",
       "      <th>Predito</th>\n",
       "      <th>Muito relevante</th>\n",
       "      <th>Pouco relevante</th>\n",
       "      <th>Relevante</th>\n",
       "      <th>All</th>\n",
       "    </tr>\n",
       "    <tr>\n",
       "      <th>Real</th>\n",
       "      <th></th>\n",
       "      <th></th>\n",
       "      <th></th>\n",
       "      <th></th>\n",
       "    </tr>\n",
       "  </thead>\n",
       "  <tbody>\n",
       "    <tr>\n",
       "      <th>Muito relevante</th>\n",
       "      <td>0.115385</td>\n",
       "      <td>0.057692</td>\n",
       "      <td>0.019231</td>\n",
       "      <td>0.192308</td>\n",
       "    </tr>\n",
       "    <tr>\n",
       "      <th>Pouco relevante</th>\n",
       "      <td>0.115385</td>\n",
       "      <td>0.269231</td>\n",
       "      <td>0.057692</td>\n",
       "      <td>0.442308</td>\n",
       "    </tr>\n",
       "    <tr>\n",
       "      <th>Relevante</th>\n",
       "      <td>0.019231</td>\n",
       "      <td>0.019231</td>\n",
       "      <td>0.326923</td>\n",
       "      <td>0.365385</td>\n",
       "    </tr>\n",
       "    <tr>\n",
       "      <th>All</th>\n",
       "      <td>0.250000</td>\n",
       "      <td>0.346154</td>\n",
       "      <td>0.403846</td>\n",
       "      <td>1.000000</td>\n",
       "    </tr>\n",
       "  </tbody>\n",
       "</table>\n",
       "</div>"
      ],
      "text/plain": [
       "Predito          Muito relevante  Pouco relevante  Relevante       All\n",
       "Real                                                                  \n",
       "Muito relevante         0.115385         0.057692   0.019231  0.192308\n",
       "Pouco relevante         0.115385         0.269231   0.057692  0.442308\n",
       "Relevante               0.019231         0.019231   0.326923  0.365385\n",
       "All                     0.250000         0.346154   0.403846  1.000000"
      ]
     },
     "execution_count": 186,
     "metadata": {},
     "output_type": "execute_result"
    }
   ],
   "source": [
    "matriz = pd.crosstab(dftw[\"Categoria\"], dftw[\"Chute\"], margins=True, normalize=True, rownames=[\"Real\"], colnames=[\"Predito\"])\n",
    "matriz"
   ]
  },
  {
   "cell_type": "markdown",
   "metadata": {},
   "source": [
    "### Heatmap"
   ]
  },
  {
   "cell_type": "code",
   "execution_count": 187,
   "metadata": {},
   "outputs": [
    {
     "data": {
      "text/plain": [
       "<matplotlib.axes._subplots.AxesSubplot at 0x20acea8ae80>"
      ]
     },
     "execution_count": 187,
     "metadata": {},
     "output_type": "execute_result"
    },
    {
     "data": {
      "image/png": "[encoded data removed]",
      "text/plain": [
       "<Figure size 432x288 with 2 Axes>"
      ]
     },
     "metadata": {
      "needs_background": "light"
     },
     "output_type": "display_data"
    }
   ],
   "source": [
    "import pandas as pd\n",
    "import seaborn as sn\n",
    "\n",
    "\n",
    "sn.heatmap(matriz, annot=True)"
   ]
  },
  {
   "cell_type": "markdown",
   "metadata": {},
   "source": [
    "Com o mesmo objetivo de melhor visualização de dados do heatmap anterior, foi platado este com a diferença de uma terceira categoria. Como foi previsto, o desempenho do classificador foi otimizado, acertando agora cerca de 71,1% as previsões."
   ]
  },
  {
   "cell_type": "markdown",
   "metadata": {},
   "source": [
    "## Categoria Naive-Bayes com 4 categorias"
   ]
  },
  {
   "cell_type": "code",
   "execution_count": 351,
   "metadata": {},
   "outputs": [
    {
     "name": "stderr",
     "output_type": "stream",
     "text": [
      "[nltk_data] Downloading package stopwords to\n",
      "[nltk_data]     C:\\Users\\gabri\\AppData\\Roaming\\nltk_data...\n",
      "[nltk_data]   Package stopwords is already up-to-date!\n"
     ]
    }
   ],
   "source": [
    "tweets = limpeza(tweets_treinamento, \"Treinamento\")\n",
    "\n",
    "tweets_irrel=tweets['Treinamento'][tweets['Categoria'] == \"Irrelevante\"]\n",
    "tweets_rel=tweets['Treinamento'][tweets['Categoria'] == \"Relevante\"]\n",
    "tweets_prel=tweets['Treinamento'][tweets['Categoria'] == \"Pouco relevante\"]\n",
    "tweets_mrel=tweets['Treinamento'][tweets['Categoria'] == \"Muito relevante\"]\n",
    "\n"
   ]
  },
  {
   "cell_type": "markdown",
   "metadata": {},
   "source": [
    "## Frequência absoluta"
   ]
  },
  {
   "cell_type": "code",
   "execution_count": 354,
   "metadata": {},
   "outputs": [
    {
     "name": "stdout",
     "output_type": "stream",
     "text": [
      "Frequência absoluta (Irrelevante, Relevante, Pouco Relevante, Muito Relevante):  7472\n"
     ]
    }
   ],
   "source": [
    "conteudo = []\n",
    "for t in tweets[\"Treinamento\"]: \n",
    "    pal = t.split()\n",
    "    for p in pal:\n",
    "            conteudo.append(p)\n",
    "            \n",
    "texto=\" \".join(conteudo)\n",
    "series= pd.Series(texto.split())\n",
    "freq = series.value_counts()\n",
    "totalt=freq.sum()\n",
    "print(\"Frequência absoluta (Irrelevante, Relevante, Pouco Relevante, Muito Relevante): \",totalt)\n",
    "dict_tot =freq.to_dict()\n"
   ]
  },
  {
   "cell_type": "markdown",
   "metadata": {},
   "source": [
    "## Frequências absoluta e relativa \"irrelevante\""
   ]
  },
  {
   "cell_type": "code",
   "execution_count": 358,
   "metadata": {},
   "outputs": [
    {
     "name": "stdout",
     "output_type": "stream",
     "text": [
      "Frequência absoluta (Irrelevante):  6604\n",
      "Frequência relativa (Irrelevante):  0.8838329764453962\n"
     ]
    }
   ],
   "source": [
    "conteudo = []\n",
    "for t in tweets_irrel: \n",
    "    pal = t.split()\n",
    "    for p in pal:\n",
    "            conteudo.append(p)\n",
    "texto=\" \".join(conteudo)\n",
    "series= pd.Series(texto.split())\n",
    "freq = series.value_counts()\n",
    "totalir=freq.sum()\n",
    "print(\"Frequência absoluta (Irrelevante): \",totalir)\n",
    "dict_irrel=freq.to_dict()\n",
    "freq_rel_irr=totalir/totalt\n",
    "print(\"Frequência relativa (Irrelevante): \",freq_rel_irr)\n"
   ]
  },
  {
   "cell_type": "code",
   "execution_count": 362,
   "metadata": {},
   "outputs": [
    {
     "name": "stdout",
     "output_type": "stream",
     "text": [
      "Dicionário - categoria irrelevante\n",
      "Termo mais utilizado dicionário:  android: 494 vezes\n"
     ]
    }
   ],
   "source": [
    "dicionario_irrel={}\n",
    "for p in dict_tot.keys():\n",
    "    dicionario_irrel[p]=1\n",
    "for palavra in dict_irrel:\n",
    "    dicionario_irrel[palavra]+=dict_irrel[palavra]\n",
    "\n",
    "print(\"Dicionário - categoria irrelevante\")\n",
    "m=0\n",
    "for k in dicionario_irrel:\n",
    "    while m<1:\n",
    "        print (\"Termo mais utilizado dicionário: \", k + \": \" + str(dicionario_irrel[k]) + \" vezes\")\n",
    "        m+=1"
   ]
  },
  {
   "cell_type": "markdown",
   "metadata": {},
   "source": [
    "## Palavras na categoria \"pouco relevantes\""
   ]
  },
  {
   "cell_type": "code",
   "execution_count": 361,
   "metadata": {},
   "outputs": [
    {
     "name": "stdout",
     "output_type": "stream",
     "text": [
      "Frequência absoluta (Pouco Relevante):  258\n",
      "Frequência relativa (Pouco Relevante):  0.0345289079229122\n"
     ]
    }
   ],
   "source": [
    "conteudo = []\n",
    "for t in tweets_prel: \n",
    "    pal = t.split()\n",
    "    for p in pal:\n",
    "            conteudo.append(p)\n",
    "texto=\" \".join(conteudo)\n",
    "series= pd.Series(texto.split())\n",
    "freq = series.value_counts()\n",
    "totalpr=freq.sum()\n",
    "print(\"Frequência absoluta (Pouco Relevante): \",totalpr)\n",
    "dict_prel=freq.to_dict()\n",
    "freq_rel_pr=totalpr/totalt\n",
    "print(\"Frequência relativa (Pouco Relevante): \",freq_rel_pr)\n",
    "\n"
   ]
  },
  {
   "cell_type": "code",
   "execution_count": 363,
   "metadata": {},
   "outputs": [
    {
     "name": "stdout",
     "output_type": "stream",
     "text": [
      "Dicionário - categoria pouco relevante\n",
      "Termo mais utilizado dicionário:  android: 494 vezes\n"
     ]
    }
   ],
   "source": [
    "dicionario_prel={}\n",
    "for p in dict_tot.keys():\n",
    "    dicionario_prel[p]=1\n",
    "for palavra in dict_prel:\n",
    "    dicionario_prel[palavra]+=dict_prel[palavra]\n",
    "dicionario_prel\n",
    "\n",
    "print(\"Dicionário - categoria pouco relevante\")\n",
    "\n",
    "m=0\n",
    "for k in dicionario_irrelevante:\n",
    "    while m<1:\n",
    "        print (\"Termo mais utilizado dicionário: \", k + \": \" + str(dicionario_irrelevante[k]) + \" vezes\")\n",
    "        m+=1"
   ]
  },
  {
   "cell_type": "markdown",
   "metadata": {},
   "source": [
    "## Palavras na categoria \"relevante\""
   ]
  },
  {
   "cell_type": "code",
   "execution_count": 365,
   "metadata": {},
   "outputs": [
    {
     "name": "stdout",
     "output_type": "stream",
     "text": [
      "Frequência absoluta (Relevante):  373\n",
      "Frequência relativa (Relevante):  0.049919700214132764\n"
     ]
    }
   ],
   "source": [
    "conteudo = []\n",
    "for t in tweets_rel: \n",
    "    pal = t.split()\n",
    "    for p in pal:\n",
    "            conteudo.append(p)\n",
    "texto=\" \".join(conteudo)\n",
    "series= pd.Series(texto.split())\n",
    "freq = series.value_counts()\n",
    "totalr=freq.sum()\n",
    "print(\"Frequência absoluta (Relevante): \",totalr)\n",
    "dict_rel=freq.to_dict()\n",
    "freq_rel_r=totalr/totalt\n",
    "print(\"Frequência relativa (Relevante): \",freq_rel_r)\n"
   ]
  },
  {
   "cell_type": "code",
   "execution_count": 366,
   "metadata": {},
   "outputs": [
    {
     "name": "stdout",
     "output_type": "stream",
     "text": [
      "Dicionário - categoria relevante\n",
      "Termo mais utilizado dicionário:  android: 27 vezes\n"
     ]
    }
   ],
   "source": [
    "dicionario_rel={}\n",
    "for p in dict_tot.keys():\n",
    "    dicionario_rel[p]=1\n",
    "for palavra in dict_rel:\n",
    "    dicionario_rel[palavra]+=dict_rel[palavra]\n",
    "print(\"Dicionário - categoria relevante\")\n",
    "\n",
    "m=0\n",
    "for k in dicionario_rel:\n",
    "    while m<1:\n",
    "        print (\"Termo mais utilizado dicionário: \", k + \": \" + str(dicionario_rel[k]) + \" vezes\")\n",
    "        m+=1"
   ]
  },
  {
   "cell_type": "markdown",
   "metadata": {},
   "source": [
    "## Palavras na categoria \"muito relevantes\""
   ]
  },
  {
   "cell_type": "code",
   "execution_count": 369,
   "metadata": {},
   "outputs": [
    {
     "name": "stdout",
     "output_type": "stream",
     "text": [
      "Frequência relativa (Muito Relevante):  0.05661134903640257\n"
     ]
    }
   ],
   "source": [
    "conteudo = []\n",
    "for t in tweets_mrel: \n",
    "    pal = t.split()\n",
    "    for p in pal:\n",
    "            conteudo.append(p)\n",
    "texto=\" \".join(conteudo)\n",
    "series= pd.Series(texto.split())\n",
    "freq = series.value_counts()+1\n",
    "totalmr=freq.sum()\n",
    "dict_mrel=freq.to_dict()\n",
    "freq_rel_mr=totalmr/totalt\n",
    "print(\"Frequência relativa (Muito Relevante): \",freq_rel_mr)\n"
   ]
  },
  {
   "cell_type": "code",
   "execution_count": 370,
   "metadata": {},
   "outputs": [
    {
     "name": "stdout",
     "output_type": "stream",
     "text": [
      "Dicionário - categoria muito relevante:\n",
      "Termo mais utilizado do dicionário:  android: 20 vezes\n"
     ]
    }
   ],
   "source": [
    "dicionario_mrel={}\n",
    "for p in dict_tot.keys():\n",
    "    dicionario_mrel[p]=1\n",
    "for palavra in dict_mrel:\n",
    "    dicionario_mrel[palavra]+=dict_mrel[palavra]\n",
    "print(\"Dicionário - categoria muito relevante:\")\n",
    "\n",
    "m=0\n",
    "for k in dicionario_mrel:\n",
    "    while m<1:\n",
    "        print (\"Termo mais utilizado do dicionário: \",k + \": \" + str(dicionario_mrel[k]) + \" vezes\")\n",
    "        m+=1"
   ]
  },
  {
   "cell_type": "markdown",
   "metadata": {},
   "source": [
    "## Implementação do classificador Naive Bayes"
   ]
  },
  {
   "cell_type": "code",
   "execution_count": 198,
   "metadata": {},
   "outputs": [],
   "source": [
    "irrel ={}\n",
    "pourel ={}\n",
    "rel ={}\n",
    "muirel = {}\n",
    "\n",
    "todas_palavras=dict_tot.keys()\n",
    "for palavra in todas_palavras:\n",
    "    irrel[palavra]= dicionario_irrel[palavra]/(len(todas_palavras)+(totalir+1))\n",
    "    pourel[palavra]= dicionario_prel[palavra]/(len(todas_palavras)+(totalpr+1))\n",
    "    rel[palavra]= dicionario_rel[palavra]/(len(todas_palavras)+(totalr+1))\n",
    "    muirel[palavra]= dicionario_mrel[palavra]/(len(todas_palavras)+(totalmr+1))\n",
    "\n"
   ]
  },
  {
   "cell_type": "code",
   "execution_count": 199,
   "metadata": {},
   "outputs": [
    {
     "name": "stderr",
     "output_type": "stream",
     "text": [
      "[nltk_data] Downloading package stopwords to\n",
      "[nltk_data]     C:\\Users\\gabri\\AppData\\Roaming\\nltk_data...\n",
      "[nltk_data]   Package stopwords is already up-to-date!\n"
     ]
    },
    {
     "data": {
      "text/html": [
       "<div>\n",
       "<style scoped>\n",
       "    .dataframe tbody tr th:only-of-type {\n",
       "        vertical-align: middle;\n",
       "    }\n",
       "\n",
       "    .dataframe tbody tr th {\n",
       "        vertical-align: top;\n",
       "    }\n",
       "\n",
       "    .dataframe thead th {\n",
       "        text-align: right;\n",
       "    }\n",
       "</style>\n",
       "<table border=\"1\" class=\"dataframe\">\n",
       "  <thead>\n",
       "    <tr style=\"text-align: right;\">\n",
       "      <th></th>\n",
       "      <th>Teste</th>\n",
       "      <th>Relevância</th>\n",
       "      <th>Categoria</th>\n",
       "      <th>Chute</th>\n",
       "    </tr>\n",
       "  </thead>\n",
       "  <tbody>\n",
       "    <tr>\n",
       "      <th>0</th>\n",
       "      <td>caldasm16 nao tanto quanto android pode ter ctz</td>\n",
       "      <td>Irrelevante</td>\n",
       "      <td>Irrelevante</td>\n",
       "      <td>Irrelevante</td>\n",
       "    </tr>\n",
       "    <tr>\n",
       "      <th>1</th>\n",
       "      <td>liberteime iphone agora bateria durante dia me...</td>\n",
       "      <td>Relevante</td>\n",
       "      <td>Relevante</td>\n",
       "      <td>Irrelevante</td>\n",
       "    </tr>\n",
       "    <tr>\n",
       "      <th>2</th>\n",
       "      <td>responda breves pesquisas recompensado faça do...</td>\n",
       "      <td>Irrelevante</td>\n",
       "      <td>Irrelevante</td>\n",
       "      <td>Irrelevante</td>\n",
       "    </tr>\n",
       "    <tr>\n",
       "      <th>3</th>\n",
       "      <td>uber lyft acusados cobrança taxa acima prometi...</td>\n",
       "      <td>Irrelevante</td>\n",
       "      <td>Irrelevante</td>\n",
       "      <td>Relevante</td>\n",
       "    </tr>\n",
       "    <tr>\n",
       "      <th>4</th>\n",
       "      <td>luisscp_1906 sim android qualidade melhor dois...</td>\n",
       "      <td>Relevante</td>\n",
       "      <td>Pouco relevante</td>\n",
       "      <td>Irrelevante</td>\n",
       "    </tr>\n",
       "  </tbody>\n",
       "</table>\n",
       "</div>"
      ],
      "text/plain": [
       "                                               Teste   Relevância  \\\n",
       "0    caldasm16 nao tanto quanto android pode ter ctz  Irrelevante   \n",
       "1  liberteime iphone agora bateria durante dia me...    Relevante   \n",
       "2  responda breves pesquisas recompensado faça do...  Irrelevante   \n",
       "3  uber lyft acusados cobrança taxa acima prometi...  Irrelevante   \n",
       "4  luisscp_1906 sim android qualidade melhor dois...    Relevante   \n",
       "\n",
       "         Categoria        Chute  \n",
       "0      Irrelevante  Irrelevante  \n",
       "1        Relevante  Irrelevante  \n",
       "2      Irrelevante  Irrelevante  \n",
       "3      Irrelevante    Relevante  \n",
       "4  Pouco relevante  Irrelevante  "
      ]
     },
     "execution_count": 199,
     "metadata": {},
     "output_type": "execute_result"
    }
   ],
   "source": [
    "dftw = limpeza(tweets_teste,\"Teste\")\n",
    "tweets=dftw[\"Teste\"]\n",
    "chute = []\n",
    "\n",
    "for frase in tweets:\n",
    "    prob_irrel=1\n",
    "    prob_prel=1\n",
    "    prob_rel=1\n",
    "    prob_mrel=1\n",
    "    y = frase.split(\" \")\n",
    "    for palavra in y: \n",
    "        if palavra in irrel:\n",
    "            prob_irrel *= irrel[palavra]\n",
    "        else:\n",
    "            prob_irrel *= 1/ (len(todas_palavras)+(totalir+1))\n",
    "        \n",
    "        if palavra in pourel:\n",
    "            prob_prel *= pourel[palavra]\n",
    "        else:\n",
    "            prob_prel *= 1/ (len(todas_palavras)+(totalpr+1))\n",
    "            \n",
    "        if palavra in rel:\n",
    "            prob_rel *= rel[palavra]\n",
    "        else:\n",
    "            prob_rel *= 1/ (len(todas_palavras)+(totalr+1))\n",
    "            \n",
    "        if palavra in muirel:\n",
    "            prob_mrel*= muirel[palavra]\n",
    "        else:\n",
    "            prob_mrel *= 1/(len(todas_palavras)+(totalmr+1))\n",
    "         \n",
    "    PI= (freq_rel_irr*prob_irrel)\n",
    "    PPR =(freq_rel_pr*prob_prel)\n",
    "    PR = (freq_rel_r*prob_rel)\n",
    "    PMR=( freq_rel_mr*prob_mrel)\n",
    "\n",
    "    if PMR >= PR and PMR>=PPR and PMR>=PI:\n",
    "        chute.append(\"Muito relevante\")\n",
    "\n",
    "    elif PR>=PI and PR>=PPR:\n",
    "        chute.append(\"Relevante\")\n",
    "\n",
    "    elif PPR>=PI:\n",
    "        chute.append(\"Pouco relevante\")\n",
    "    else:\n",
    "        chute.append(\"Irrelevante\")\n",
    "\n",
    "\n",
    "dftw[\"Chute\"]=chute\n",
    "dftw.head()"
   ]
  },
  {
   "cell_type": "code",
   "execution_count": 200,
   "metadata": {},
   "outputs": [
    {
     "data": {
      "text/html": [
       "<div>\n",
       "<style scoped>\n",
       "    .dataframe tbody tr th:only-of-type {\n",
       "        vertical-align: middle;\n",
       "    }\n",
       "\n",
       "    .dataframe tbody tr th {\n",
       "        vertical-align: top;\n",
       "    }\n",
       "\n",
       "    .dataframe thead th {\n",
       "        text-align: right;\n",
       "    }\n",
       "</style>\n",
       "<table border=\"1\" class=\"dataframe\">\n",
       "  <thead>\n",
       "    <tr style=\"text-align: right;\">\n",
       "      <th></th>\n",
       "      <th>Teste</th>\n",
       "      <th>Relevância</th>\n",
       "      <th>Categoria</th>\n",
       "      <th>Chute</th>\n",
       "    </tr>\n",
       "  </thead>\n",
       "  <tbody>\n",
       "    <tr>\n",
       "      <th>0</th>\n",
       "      <td>caldasm16 nao tanto quanto android pode ter ctz</td>\n",
       "      <td>Irrelevante</td>\n",
       "      <td>Irrelevante</td>\n",
       "      <td>Irrelevante</td>\n",
       "    </tr>\n",
       "    <tr>\n",
       "      <th>1</th>\n",
       "      <td>liberteime iphone agora bateria durante dia me...</td>\n",
       "      <td>Relevante</td>\n",
       "      <td>Relevante</td>\n",
       "      <td>Irrelevante</td>\n",
       "    </tr>\n",
       "    <tr>\n",
       "      <th>2</th>\n",
       "      <td>responda breves pesquisas recompensado faça do...</td>\n",
       "      <td>Irrelevante</td>\n",
       "      <td>Irrelevante</td>\n",
       "      <td>Irrelevante</td>\n",
       "    </tr>\n",
       "    <tr>\n",
       "      <th>3</th>\n",
       "      <td>uber lyft acusados cobrança taxa acima prometi...</td>\n",
       "      <td>Irrelevante</td>\n",
       "      <td>Irrelevante</td>\n",
       "      <td>Relevante</td>\n",
       "    </tr>\n",
       "    <tr>\n",
       "      <th>4</th>\n",
       "      <td>luisscp_1906 sim android qualidade melhor dois...</td>\n",
       "      <td>Relevante</td>\n",
       "      <td>Pouco relevante</td>\n",
       "      <td>Irrelevante</td>\n",
       "    </tr>\n",
       "  </tbody>\n",
       "</table>\n",
       "</div>"
      ],
      "text/plain": [
       "                                               Teste   Relevância  \\\n",
       "0    caldasm16 nao tanto quanto android pode ter ctz  Irrelevante   \n",
       "1  liberteime iphone agora bateria durante dia me...    Relevante   \n",
       "2  responda breves pesquisas recompensado faça do...  Irrelevante   \n",
       "3  uber lyft acusados cobrança taxa acima prometi...  Irrelevante   \n",
       "4  luisscp_1906 sim android qualidade melhor dois...    Relevante   \n",
       "\n",
       "         Categoria        Chute  \n",
       "0      Irrelevante  Irrelevante  \n",
       "1        Relevante  Irrelevante  \n",
       "2      Irrelevante  Irrelevante  \n",
       "3      Irrelevante    Relevante  \n",
       "4  Pouco relevante  Irrelevante  "
      ]
     },
     "execution_count": 200,
     "metadata": {},
     "output_type": "execute_result"
    }
   ],
   "source": [
    "dftw.head()"
   ]
  },
  {
   "cell_type": "markdown",
   "metadata": {},
   "source": [
    "## Resultados do teste e verificação de performance"
   ]
  },
  {
   "cell_type": "code",
   "execution_count": 377,
   "metadata": {},
   "outputs": [
    {
     "name": "stdout",
     "output_type": "stream",
     "text": [
      "O classificador acertou as previsões em 9.615384615384617 dos casos\n"
     ]
    }
   ],
   "source": [
    "\n",
    "numero_acerto = (dftw[\"Categoria\"] == dftw[\"Chute\"]).value_counts()\n",
    "eficiencia=numero_acerto[True]/len(dftw)\n",
    "print(\"O classificador acertou as previsões em {} dos casos\".format(eficiencia*100))\n"
   ]
  },
  {
   "cell_type": "code",
   "execution_count": 378,
   "metadata": {},
   "outputs": [],
   "source": [
    "\n",
    "zero = dftw.loc[(dftw[\"Categoria\"]==0)&(dftw[\"Chute\"]==0), [\"Categoria\", \"Chute\"]]\n",
    "zeroC = dftw.loc[(dftw[\"Categoria\"]!=0)&(dftw[\"Chute\"]==0), [\"Categoria\", \"Chute\"]]\n",
    "\n",
    "um = dftw.loc[(dftw[\"Categoria\"]==1)&(dftw[\"Chute\"]==1), [\"Categoria\", \"Chute\"]]\n",
    "umC = dftw.loc[(dftw[\"Categoria\"]!=1)&(dftw[\"Chute\"]==1), [\"Categoria\", \"Chute\"]]\n",
    "\n",
    "dois = dftw.loc[(dftw[\"Categoria\"]==2)&(dftw[\"Chute\"]==2), [\"Categoria\", \"Chute\"]]\n",
    "doisC = dftw.loc[(dftw[\"Categoria\"]!=2)&(dftw[\"Chute\"]==2), [\"Categoria\", \"Chute\"]]\n",
    "\n",
    "tres = dftw.loc[(dftw[\"Categoria\"]==3)&(dftw[\"Chute\"]==3), [\"Categoria\", \"Chute\"]]\n",
    "tresC= dftw.loc[(dftw[\"Categoria\"]!=3)&(dftw[\"Chute\"]==3), [\"Categoria\", \"Chute\"]]\n"
   ]
  },
  {
   "cell_type": "markdown",
   "metadata": {},
   "source": [
    "### Resumindo:"
   ]
  },
  {
   "cell_type": "code",
   "execution_count": 379,
   "metadata": {
    "scrolled": false
   },
   "outputs": [
    {
     "name": "stderr",
     "output_type": "stream",
     "text": [
      "C:\\Users\\gabri\\Anaconda3\\lib\\site-packages\\pandas_ml\\confusion_matrix\\abstract.py:66: FutureWarning: \n",
      "Passing list-likes to .loc or [] with any missing label will raise\n",
      "KeyError in the future, you can use .reindex() as an alternative.\n",
      "\n",
      "See the documentation here:\n",
      "https://pandas.pydata.org/pandas-docs/stable/indexing.html#deprecate-loc-reindex-listlike\n",
      "  df = df.loc[idx, idx.copy()].fillna(0)  # if some columns or rows are missing\n",
      "C:\\Users\\gabri\\Anaconda3\\lib\\site-packages\\pandas_ml\\confusion_matrix\\stats.py:60: FutureWarning: supplying multiple axes to axis is deprecated and will be removed in a future version.\n",
      "  num = df[df > 1].dropna(axis=[0, 1], thresh=1).applymap(lambda n: choose(n, 2)).sum().sum() - np.float64(nis2 * njs2) / n2\n",
      "C:\\Users\\gabri\\Anaconda3\\lib\\site-packages\\pandas_ml\\confusion_matrix\\bcm.py:191: RuntimeWarning: invalid value encountered in double_scalars\n",
      "  return(np.float64(self.TP) / self.P)\n",
      "C:\\Users\\gabri\\Anaconda3\\lib\\site-packages\\pandas_ml\\confusion_matrix\\bcm.py:276: RuntimeWarning: invalid value encountered in double_scalars\n",
      "  return(np.float64(self.FN) / self.P)\n",
      "C:\\Users\\gabri\\Anaconda3\\lib\\site-packages\\pandas_ml\\confusion_matrix\\bcm.py:302: RuntimeWarning: invalid value encountered in true_divide\n",
      "  * (self.TN + self.FP) * (self.TN + self.FN)))\n",
      "C:\\Users\\gabri\\Anaconda3\\lib\\site-packages\\pandas_ml\\confusion_matrix\\bcm.py:236: RuntimeWarning: invalid value encountered in double_scalars\n",
      "  return(np.float64(self.TP) / self.PositiveTest)\n",
      "C:\\Users\\gabri\\Anaconda3\\lib\\site-packages\\pandas_ml\\confusion_matrix\\bcm.py:267: RuntimeWarning: invalid value encountered in double_scalars\n",
      "  return(np.float64(self.FP) / self.PositiveTest)\n",
      "C:\\Users\\gabri\\Anaconda3\\lib\\site-packages\\pandas_ml\\confusion_matrix\\bcm.py:330: RuntimeWarning: invalid value encountered in double_scalars\n",
      "  return(np.float64(self.TPR) / self.FPR)\n"
     ]
    },
    {
     "name": "stdout",
     "output_type": "stream",
     "text": [
      "Confusion Matrix:\n",
      "\n",
      "Predicted        Irrelevante  Muito relevante  Pouco relevante  Relevante  \\\n",
      "Actual                                                                      \n",
      "Irrelevante                0                0                0          0   \n",
      "Muito relevante            6                0                0          4   \n",
      "Pouco relevante           20                0                0          3   \n",
      "Relevante                 14                0                0          5   \n",
      "__all__                   40                0                0         12   \n",
      "\n",
      "Predicted        __all__  \n",
      "Actual                    \n",
      "Irrelevante            0  \n",
      "Muito relevante       10  \n",
      "Pouco relevante       23  \n",
      "Relevante             19  \n",
      "__all__               52  \n",
      "\n",
      "\n",
      "Overall Statistics:\n",
      "\n",
      "Accuracy: 0.09615384615384616\n",
      "95% CI: (0.03196423637692168, 0.21029747193932524)\n",
      "No Information Rate: ToDo\n",
      "P-Value [Acc > NIR]: 0.9999999999999999\n",
      "Kappa: 0.01292407108239096\n",
      "Mcnemar's Test P-Value: ToDo\n",
      "\n",
      "\n",
      "Class Statistics:\n",
      "\n",
      "Classes                               Irrelevante Muito relevante  \\\n",
      "Population                                     52              52   \n",
      "P: Condition positive                           0              10   \n",
      "N: Condition negative                          52              42   \n",
      "Test outcome positive                          40               0   \n",
      "Test outcome negative                          12              52   \n",
      "TP: True Positive                               0               0   \n",
      "TN: True Negative                              12              42   \n",
      "FP: False Positive                             40               0   \n",
      "FN: False Negative                              0              10   \n",
      "TPR: (Sensitivity, hit rate, recall)          NaN               0   \n",
      "TNR=SPC: (Specificity)                   0.230769               1   \n",
      "PPV: Pos Pred Value (Precision)                 0             NaN   \n",
      "NPV: Neg Pred Value                             1        0.807692   \n",
      "FPR: False-out                           0.769231               0   \n",
      "FDR: False Discovery Rate                       1             NaN   \n",
      "FNR: Miss Rate                                NaN               1   \n",
      "ACC: Accuracy                            0.230769        0.807692   \n",
      "F1 score                                        0               0   \n",
      "MCC: Matthews correlation coefficient         NaN             NaN   \n",
      "Informedness                                  NaN               0   \n",
      "Markedness                                      0             NaN   \n",
      "Prevalence                                      0        0.192308   \n",
      "LR+: Positive likelihood ratio                NaN             NaN   \n",
      "LR-: Negative likelihood ratio                NaN               1   \n",
      "DOR: Diagnostic odds ratio                    NaN             NaN   \n",
      "FOR: False omission rate                        0        0.192308   \n",
      "\n",
      "Classes                               Pouco relevante  Relevante  \n",
      "Population                                         52         52  \n",
      "P: Condition positive                              23         19  \n",
      "N: Condition negative                              29         33  \n",
      "Test outcome positive                               0         12  \n",
      "Test outcome negative                              52         40  \n",
      "TP: True Positive                                   0          5  \n",
      "TN: True Negative                                  29         26  \n",
      "FP: False Positive                                  0          7  \n",
      "FN: False Negative                                 23         14  \n",
      "TPR: (Sensitivity, hit rate, recall)                0   0.263158  \n",
      "TNR=SPC: (Specificity)                              1   0.787879  \n",
      "PPV: Pos Pred Value (Precision)                   NaN   0.416667  \n",
      "NPV: Neg Pred Value                          0.557692       0.65  \n",
      "FPR: False-out                                      0   0.212121  \n",
      "FDR: False Discovery Rate                         NaN   0.583333  \n",
      "FNR: Miss Rate                                      1   0.736842  \n",
      "ACC: Accuracy                                0.557692   0.596154  \n",
      "F1 score                                            0   0.322581  \n",
      "MCC: Matthews correlation coefficient             NaN  0.0583305  \n",
      "Informedness                                        0  0.0510367  \n",
      "Markedness                                        NaN  0.0666667  \n",
      "Prevalence                                   0.442308   0.365385  \n",
      "LR+: Positive likelihood ratio                    NaN     1.2406  \n",
      "LR-: Negative likelihood ratio                      1   0.935223  \n",
      "DOR: Diagnostic odds ratio                        NaN    1.32653  \n",
      "FOR: False omission rate                     0.442308       0.35  \n"
     ]
    }
   ],
   "source": [
    "from sklearn.metrics import confusion_matrix\n",
    "from pandas_ml import ConfusionMatrix\n",
    "Confusion_Matrix=ConfusionMatrix(dftw[\"Categoria\"], dftw[\"Chute\"])\n",
    "Confusion_Matrix.print_stats()"
   ]
  },
  {
   "cell_type": "markdown",
   "metadata": {},
   "source": [
    "Com a ConfusionMatrix é possível ter as informações gerais dos dados do sistema explorado, entretanto, há mais informações do que o necessáio. Por isso, essa Matrix auxilia a análise, mas a análise é melhor esclarecida com o Heatmap e a Tabela de distribuição conjunta."
   ]
  },
  {
   "cell_type": "markdown",
   "metadata": {},
   "source": [
    "### Tabela de distribuição conjunta - previsão do programa e classificação real"
   ]
  },
  {
   "cell_type": "code",
   "execution_count": 380,
   "metadata": {},
   "outputs": [
    {
     "data": {
      "text/html": [
       "<div>\n",
       "<style scoped>\n",
       "    .dataframe tbody tr th:only-of-type {\n",
       "        vertical-align: middle;\n",
       "    }\n",
       "\n",
       "    .dataframe tbody tr th {\n",
       "        vertical-align: top;\n",
       "    }\n",
       "\n",
       "    .dataframe thead th {\n",
       "        text-align: right;\n",
       "    }\n",
       "</style>\n",
       "<table border=\"1\" class=\"dataframe\">\n",
       "  <thead>\n",
       "    <tr style=\"text-align: right;\">\n",
       "      <th>Predito</th>\n",
       "      <th>Irrelevante</th>\n",
       "      <th>Relevante</th>\n",
       "      <th>All</th>\n",
       "    </tr>\n",
       "    <tr>\n",
       "      <th>Real</th>\n",
       "      <th></th>\n",
       "      <th></th>\n",
       "      <th></th>\n",
       "    </tr>\n",
       "  </thead>\n",
       "  <tbody>\n",
       "    <tr>\n",
       "      <th>Muito relevante</th>\n",
       "      <td>0.115385</td>\n",
       "      <td>0.076923</td>\n",
       "      <td>0.192308</td>\n",
       "    </tr>\n",
       "    <tr>\n",
       "      <th>Pouco relevante</th>\n",
       "      <td>0.384615</td>\n",
       "      <td>0.057692</td>\n",
       "      <td>0.442308</td>\n",
       "    </tr>\n",
       "    <tr>\n",
       "      <th>Relevante</th>\n",
       "      <td>0.269231</td>\n",
       "      <td>0.096154</td>\n",
       "      <td>0.365385</td>\n",
       "    </tr>\n",
       "    <tr>\n",
       "      <th>All</th>\n",
       "      <td>0.769231</td>\n",
       "      <td>0.230769</td>\n",
       "      <td>1.000000</td>\n",
       "    </tr>\n",
       "  </tbody>\n",
       "</table>\n",
       "</div>"
      ],
      "text/plain": [
       "Predito          Irrelevante  Relevante       All\n",
       "Real                                             \n",
       "Muito relevante     0.115385   0.076923  0.192308\n",
       "Pouco relevante     0.384615   0.057692  0.442308\n",
       "Relevante           0.269231   0.096154  0.365385\n",
       "All                 0.769231   0.230769  1.000000"
      ]
     },
     "execution_count": 380,
     "metadata": {},
     "output_type": "execute_result"
    }
   ],
   "source": [
    "matriz = pd.crosstab(dftw[\"Categoria\"], dftw[\"Chute\"], margins=True, normalize=True, rownames=[\"Real\"], colnames=[\"Predito\"])\n",
    "matriz"
   ]
  },
  {
   "cell_type": "markdown",
   "metadata": {},
   "source": [
    "### Heatmap"
   ]
  },
  {
   "cell_type": "code",
   "execution_count": 381,
   "metadata": {},
   "outputs": [
    {
     "data": {
      "text/plain": [
       "<matplotlib.axes._subplots.AxesSubplot at 0x20acec18710>"
      ]
     },
     "execution_count": 381,
     "metadata": {},
     "output_type": "execute_result"
    },
    {
     "data": {
      "image/png": "[encoded data removed]",
      "text/plain": [
       "<Figure size 432x288 with 2 Axes>"
      ]
     },
     "metadata": {
      "needs_background": "light"
     },
     "output_type": "display_data"
    }
   ],
   "source": [
    "import pandas as pd\n",
    "import seaborn as sn\n",
    "\n",
    "\n",
    "sn.heatmap(matriz, annot=True)"
   ]
  },
  {
   "cell_type": "code",
   "execution_count": null,
   "metadata": {},
   "outputs": [],
   "source": []
  },
  {
   "cell_type": "code",
   "execution_count": null,
   "metadata": {},
   "outputs": [],
   "source": []
  },
  {
   "cell_type": "markdown",
   "metadata": {},
   "source": [
    "O índice de acerto geral resultante pode ser considerado alto\n",
    "Entretanto, nota-se que nas categorias de maior relevância, o classificador obteve um pequeno acerto percentual.\n",
    "Uma metodologia interessante para melhorar tal indice foi proposta no artigo\n",
    ", da Faculty of Information Technology, Institut Teknologi Sepuluh Nopember.\n",
    "O estudo propõe implementar o classificador Naive Bayes em duas fases. Na primeira, são classificados dois grupos: relevante e irrelevante. Depois, o grupo considerado relevante é dividido em mais categorias, os níveis de relevância."
   ]
  },
  {
   "cell_type": "code",
   "execution_count": null,
   "metadata": {},
   "outputs": [],
   "source": []
  },
  {
   "cell_type": "code",
   "execution_count": 382,
   "metadata": {},
   "outputs": [
    {
     "name": "stderr",
     "output_type": "stream",
     "text": [
      "[nltk_data] Downloading package stopwords to\n",
      "[nltk_data]     C:\\Users\\gabri\\AppData\\Roaming\\nltk_data...\n",
      "[nltk_data]   Package stopwords is already up-to-date!\n"
     ]
    },
    {
     "data": {
      "text/html": [
       "<div>\n",
       "<style scoped>\n",
       "    .dataframe tbody tr th:only-of-type {\n",
       "        vertical-align: middle;\n",
       "    }\n",
       "\n",
       "    .dataframe tbody tr th {\n",
       "        vertical-align: top;\n",
       "    }\n",
       "\n",
       "    .dataframe thead th {\n",
       "        text-align: right;\n",
       "    }\n",
       "</style>\n",
       "<table border=\"1\" class=\"dataframe\">\n",
       "  <thead>\n",
       "    <tr style=\"text-align: right;\">\n",
       "      <th></th>\n",
       "      <th>Teste</th>\n",
       "      <th>Relevância</th>\n",
       "      <th>Categoria</th>\n",
       "      <th>Chute</th>\n",
       "    </tr>\n",
       "  </thead>\n",
       "  <tbody>\n",
       "    <tr>\n",
       "      <th>0</th>\n",
       "      <td>caldasm16 nao tanto quanto android pode ter ctz</td>\n",
       "      <td>Irrelevante</td>\n",
       "      <td>Irrelevante</td>\n",
       "      <td>Irrelevante</td>\n",
       "    </tr>\n",
       "    <tr>\n",
       "      <th>1</th>\n",
       "      <td>liberteime iphone agora bateria durante dia me...</td>\n",
       "      <td>Relevante</td>\n",
       "      <td>Relevante</td>\n",
       "      <td>Irrelevante</td>\n",
       "    </tr>\n",
       "    <tr>\n",
       "      <th>2</th>\n",
       "      <td>responda breves pesquisas recompensado faça do...</td>\n",
       "      <td>Irrelevante</td>\n",
       "      <td>Irrelevante</td>\n",
       "      <td>Irrelevante</td>\n",
       "    </tr>\n",
       "    <tr>\n",
       "      <th>3</th>\n",
       "      <td>uber lyft acusados cobrança taxa acima prometi...</td>\n",
       "      <td>Irrelevante</td>\n",
       "      <td>Irrelevante</td>\n",
       "      <td>Irrelevante</td>\n",
       "    </tr>\n",
       "    <tr>\n",
       "      <th>4</th>\n",
       "      <td>luisscp_1906 sim android qualidade melhor dois...</td>\n",
       "      <td>Relevante</td>\n",
       "      <td>Pouco relevante</td>\n",
       "      <td>Irrelevante</td>\n",
       "    </tr>\n",
       "  </tbody>\n",
       "</table>\n",
       "</div>"
      ],
      "text/plain": [
       "                                               Teste   Relevância  \\\n",
       "0    caldasm16 nao tanto quanto android pode ter ctz  Irrelevante   \n",
       "1  liberteime iphone agora bateria durante dia me...    Relevante   \n",
       "2  responda breves pesquisas recompensado faça do...  Irrelevante   \n",
       "3  uber lyft acusados cobrança taxa acima prometi...  Irrelevante   \n",
       "4  luisscp_1906 sim android qualidade melhor dois...    Relevante   \n",
       "\n",
       "         Categoria        Chute  \n",
       "0      Irrelevante  Irrelevante  \n",
       "1        Relevante  Irrelevante  \n",
       "2      Irrelevante  Irrelevante  \n",
       "3      Irrelevante  Irrelevante  \n",
       "4  Pouco relevante  Irrelevante  "
      ]
     },
     "execution_count": 382,
     "metadata": {},
     "output_type": "execute_result"
    }
   ],
   "source": [
    "dftw = limpeza(tweets_teste,\"Teste\")\n",
    "dftw.head()"
   ]
  },
  {
   "cell_type": "code",
   "execution_count": 383,
   "metadata": {},
   "outputs": [
    {
     "data": {
      "text/html": [
       "<div>\n",
       "<style scoped>\n",
       "    .dataframe tbody tr th:only-of-type {\n",
       "        vertical-align: middle;\n",
       "    }\n",
       "\n",
       "    .dataframe tbody tr th {\n",
       "        vertical-align: top;\n",
       "    }\n",
       "\n",
       "    .dataframe thead th {\n",
       "        text-align: right;\n",
       "    }\n",
       "</style>\n",
       "<table border=\"1\" class=\"dataframe\">\n",
       "  <thead>\n",
       "    <tr style=\"text-align: right;\">\n",
       "      <th></th>\n",
       "      <th>Teste</th>\n",
       "      <th>Relevância</th>\n",
       "      <th>Categoria</th>\n",
       "      <th>Chute</th>\n",
       "    </tr>\n",
       "  </thead>\n",
       "  <tbody>\n",
       "    <tr>\n",
       "      <th>1</th>\n",
       "      <td>liberteime iphone agora bateria durante dia me...</td>\n",
       "      <td>Relevante</td>\n",
       "      <td>Relevante</td>\n",
       "      <td>Irrelevante</td>\n",
       "    </tr>\n",
       "    <tr>\n",
       "      <th>4</th>\n",
       "      <td>luisscp_1906 sim android qualidade melhor dois...</td>\n",
       "      <td>Relevante</td>\n",
       "      <td>Pouco relevante</td>\n",
       "      <td>Irrelevante</td>\n",
       "    </tr>\n",
       "    <tr>\n",
       "      <th>13</th>\n",
       "      <td>plzkillmeaaaaaa realmente compro android pq fo...</td>\n",
       "      <td>Relevante</td>\n",
       "      <td>Relevante</td>\n",
       "      <td>Irrelevante</td>\n",
       "    </tr>\n",
       "    <tr>\n",
       "      <th>14</th>\n",
       "      <td>ios 13 vem funcionalidades todo android simple...</td>\n",
       "      <td>Relevante</td>\n",
       "      <td>Relevante</td>\n",
       "      <td>Irrelevante</td>\n",
       "    </tr>\n",
       "    <tr>\n",
       "      <th>15</th>\n",
       "      <td>wassupmor c vc gosta android ir pro ios meio r...</td>\n",
       "      <td>Relevante</td>\n",
       "      <td>Relevante</td>\n",
       "      <td>Irrelevante</td>\n",
       "    </tr>\n",
       "  </tbody>\n",
       "</table>\n",
       "</div>"
      ],
      "text/plain": [
       "                                                Teste Relevância  \\\n",
       "1   liberteime iphone agora bateria durante dia me...  Relevante   \n",
       "4   luisscp_1906 sim android qualidade melhor dois...  Relevante   \n",
       "13  plzkillmeaaaaaa realmente compro android pq fo...  Relevante   \n",
       "14  ios 13 vem funcionalidades todo android simple...  Relevante   \n",
       "15  wassupmor c vc gosta android ir pro ios meio r...  Relevante   \n",
       "\n",
       "          Categoria        Chute  \n",
       "1         Relevante  Irrelevante  \n",
       "4   Pouco relevante  Irrelevante  \n",
       "13        Relevante  Irrelevante  \n",
       "14        Relevante  Irrelevante  \n",
       "15        Relevante  Irrelevante  "
      ]
     },
     "execution_count": 383,
     "metadata": {},
     "output_type": "execute_result"
    }
   ],
   "source": [
    "dftw=dftw[dftw['Relevância']==\"Relevante\"]\n",
    "dftw.head()"
   ]
  },
  {
   "cell_type": "code",
   "execution_count": 384,
   "metadata": {},
   "outputs": [
    {
     "ename": "KeyError",
     "evalue": "'Treinamento'",
     "output_type": "error",
     "traceback": [
      "\u001b[1;31m---------------------------------------------------------------------------\u001b[0m",
      "\u001b[1;31mKeyError\u001b[0m                                  Traceback (most recent call last)",
      "\u001b[1;32m~\\Anaconda3\\lib\\site-packages\\pandas\\core\\indexes\\base.py\u001b[0m in \u001b[0;36mget_loc\u001b[1;34m(self, key, method, tolerance)\u001b[0m\n\u001b[0;32m   3077\u001b[0m             \u001b[1;32mtry\u001b[0m\u001b[1;33m:\u001b[0m\u001b[1;33m\u001b[0m\u001b[1;33m\u001b[0m\u001b[0m\n\u001b[1;32m-> 3078\u001b[1;33m                 \u001b[1;32mreturn\u001b[0m \u001b[0mself\u001b[0m\u001b[1;33m.\u001b[0m\u001b[0m_engine\u001b[0m\u001b[1;33m.\u001b[0m\u001b[0mget_loc\u001b[0m\u001b[1;33m(\u001b[0m\u001b[0mkey\u001b[0m\u001b[1;33m)\u001b[0m\u001b[1;33m\u001b[0m\u001b[1;33m\u001b[0m\u001b[0m\n\u001b[0m\u001b[0;32m   3079\u001b[0m             \u001b[1;32mexcept\u001b[0m \u001b[0mKeyError\u001b[0m\u001b[1;33m:\u001b[0m\u001b[1;33m\u001b[0m\u001b[1;33m\u001b[0m\u001b[0m\n",
      "\u001b[1;32mpandas\\_libs\\index.pyx\u001b[0m in \u001b[0;36mpandas._libs.index.IndexEngine.get_loc\u001b[1;34m()\u001b[0m\n",
      "\u001b[1;32mpandas\\_libs\\index.pyx\u001b[0m in \u001b[0;36mpandas._libs.index.IndexEngine.get_loc\u001b[1;34m()\u001b[0m\n",
      "\u001b[1;32mpandas\\_libs\\hashtable_class_helper.pxi\u001b[0m in \u001b[0;36mpandas._libs.hashtable.PyObjectHashTable.get_item\u001b[1;34m()\u001b[0m\n",
      "\u001b[1;32mpandas\\_libs\\hashtable_class_helper.pxi\u001b[0m in \u001b[0;36mpandas._libs.hashtable.PyObjectHashTable.get_item\u001b[1;34m()\u001b[0m\n",
      "\u001b[1;31mKeyError\u001b[0m: 'Treinamento'",
      "\nDuring handling of the above exception, another exception occurred:\n",
      "\u001b[1;31mKeyError\u001b[0m                                  Traceback (most recent call last)",
      "\u001b[1;32m<ipython-input-384-2cec91acbef3>\u001b[0m in \u001b[0;36m<module>\u001b[1;34m\u001b[0m\n\u001b[0;32m      1\u001b[0m \u001b[0mconteudo\u001b[0m \u001b[1;33m=\u001b[0m \u001b[1;33m[\u001b[0m\u001b[1;33m]\u001b[0m\u001b[1;33m\u001b[0m\u001b[1;33m\u001b[0m\u001b[0m\n\u001b[1;32m----> 2\u001b[1;33m \u001b[1;32mfor\u001b[0m \u001b[0mt\u001b[0m \u001b[1;32min\u001b[0m \u001b[0mdftw\u001b[0m\u001b[1;33m[\u001b[0m\u001b[1;34m\"Treinamento\"\u001b[0m\u001b[1;33m]\u001b[0m\u001b[1;33m:\u001b[0m\u001b[1;33m\u001b[0m\u001b[1;33m\u001b[0m\u001b[0m\n\u001b[0m\u001b[0;32m      3\u001b[0m     \u001b[0mpal\u001b[0m \u001b[1;33m=\u001b[0m \u001b[0mt\u001b[0m\u001b[1;33m.\u001b[0m\u001b[0msplit\u001b[0m\u001b[1;33m(\u001b[0m\u001b[1;33m)\u001b[0m\u001b[1;33m\u001b[0m\u001b[1;33m\u001b[0m\u001b[0m\n\u001b[0;32m      4\u001b[0m     \u001b[1;32mfor\u001b[0m \u001b[0mp\u001b[0m \u001b[1;32min\u001b[0m \u001b[0mpal\u001b[0m\u001b[1;33m:\u001b[0m\u001b[1;33m\u001b[0m\u001b[1;33m\u001b[0m\u001b[0m\n\u001b[0;32m      5\u001b[0m             \u001b[0mconteudo\u001b[0m\u001b[1;33m.\u001b[0m\u001b[0mappend\u001b[0m\u001b[1;33m(\u001b[0m\u001b[0mp\u001b[0m\u001b[1;33m)\u001b[0m\u001b[1;33m\u001b[0m\u001b[1;33m\u001b[0m\u001b[0m\n",
      "\u001b[1;32m~\\Anaconda3\\lib\\site-packages\\pandas\\core\\frame.py\u001b[0m in \u001b[0;36m__getitem__\u001b[1;34m(self, key)\u001b[0m\n\u001b[0;32m   2686\u001b[0m             \u001b[1;32mreturn\u001b[0m \u001b[0mself\u001b[0m\u001b[1;33m.\u001b[0m\u001b[0m_getitem_multilevel\u001b[0m\u001b[1;33m(\u001b[0m\u001b[0mkey\u001b[0m\u001b[1;33m)\u001b[0m\u001b[1;33m\u001b[0m\u001b[1;33m\u001b[0m\u001b[0m\n\u001b[0;32m   2687\u001b[0m         \u001b[1;32melse\u001b[0m\u001b[1;33m:\u001b[0m\u001b[1;33m\u001b[0m\u001b[1;33m\u001b[0m\u001b[0m\n\u001b[1;32m-> 2688\u001b[1;33m             \u001b[1;32mreturn\u001b[0m \u001b[0mself\u001b[0m\u001b[1;33m.\u001b[0m\u001b[0m_getitem_column\u001b[0m\u001b[1;33m(\u001b[0m\u001b[0mkey\u001b[0m\u001b[1;33m)\u001b[0m\u001b[1;33m\u001b[0m\u001b[1;33m\u001b[0m\u001b[0m\n\u001b[0m\u001b[0;32m   2689\u001b[0m \u001b[1;33m\u001b[0m\u001b[0m\n\u001b[0;32m   2690\u001b[0m     \u001b[1;32mdef\u001b[0m \u001b[0m_getitem_column\u001b[0m\u001b[1;33m(\u001b[0m\u001b[0mself\u001b[0m\u001b[1;33m,\u001b[0m \u001b[0mkey\u001b[0m\u001b[1;33m)\u001b[0m\u001b[1;33m:\u001b[0m\u001b[1;33m\u001b[0m\u001b[1;33m\u001b[0m\u001b[0m\n",
      "\u001b[1;32m~\\Anaconda3\\lib\\site-packages\\pandas\\core\\frame.py\u001b[0m in \u001b[0;36m_getitem_column\u001b[1;34m(self, key)\u001b[0m\n\u001b[0;32m   2693\u001b[0m         \u001b[1;31m# get column\u001b[0m\u001b[1;33m\u001b[0m\u001b[1;33m\u001b[0m\u001b[1;33m\u001b[0m\u001b[0m\n\u001b[0;32m   2694\u001b[0m         \u001b[1;32mif\u001b[0m \u001b[0mself\u001b[0m\u001b[1;33m.\u001b[0m\u001b[0mcolumns\u001b[0m\u001b[1;33m.\u001b[0m\u001b[0mis_unique\u001b[0m\u001b[1;33m:\u001b[0m\u001b[1;33m\u001b[0m\u001b[1;33m\u001b[0m\u001b[0m\n\u001b[1;32m-> 2695\u001b[1;33m             \u001b[1;32mreturn\u001b[0m \u001b[0mself\u001b[0m\u001b[1;33m.\u001b[0m\u001b[0m_get_item_cache\u001b[0m\u001b[1;33m(\u001b[0m\u001b[0mkey\u001b[0m\u001b[1;33m)\u001b[0m\u001b[1;33m\u001b[0m\u001b[1;33m\u001b[0m\u001b[0m\n\u001b[0m\u001b[0;32m   2696\u001b[0m \u001b[1;33m\u001b[0m\u001b[0m\n\u001b[0;32m   2697\u001b[0m         \u001b[1;31m# duplicate columns & possible reduce dimensionality\u001b[0m\u001b[1;33m\u001b[0m\u001b[1;33m\u001b[0m\u001b[1;33m\u001b[0m\u001b[0m\n",
      "\u001b[1;32m~\\Anaconda3\\lib\\site-packages\\pandas\\core\\generic.py\u001b[0m in \u001b[0;36m_get_item_cache\u001b[1;34m(self, item)\u001b[0m\n\u001b[0;32m   2487\u001b[0m         \u001b[0mres\u001b[0m \u001b[1;33m=\u001b[0m \u001b[0mcache\u001b[0m\u001b[1;33m.\u001b[0m\u001b[0mget\u001b[0m\u001b[1;33m(\u001b[0m\u001b[0mitem\u001b[0m\u001b[1;33m)\u001b[0m\u001b[1;33m\u001b[0m\u001b[1;33m\u001b[0m\u001b[0m\n\u001b[0;32m   2488\u001b[0m         \u001b[1;32mif\u001b[0m \u001b[0mres\u001b[0m \u001b[1;32mis\u001b[0m \u001b[1;32mNone\u001b[0m\u001b[1;33m:\u001b[0m\u001b[1;33m\u001b[0m\u001b[1;33m\u001b[0m\u001b[0m\n\u001b[1;32m-> 2489\u001b[1;33m             \u001b[0mvalues\u001b[0m \u001b[1;33m=\u001b[0m \u001b[0mself\u001b[0m\u001b[1;33m.\u001b[0m\u001b[0m_data\u001b[0m\u001b[1;33m.\u001b[0m\u001b[0mget\u001b[0m\u001b[1;33m(\u001b[0m\u001b[0mitem\u001b[0m\u001b[1;33m)\u001b[0m\u001b[1;33m\u001b[0m\u001b[1;33m\u001b[0m\u001b[0m\n\u001b[0m\u001b[0;32m   2490\u001b[0m             \u001b[0mres\u001b[0m \u001b[1;33m=\u001b[0m \u001b[0mself\u001b[0m\u001b[1;33m.\u001b[0m\u001b[0m_box_item_values\u001b[0m\u001b[1;33m(\u001b[0m\u001b[0mitem\u001b[0m\u001b[1;33m,\u001b[0m \u001b[0mvalues\u001b[0m\u001b[1;33m)\u001b[0m\u001b[1;33m\u001b[0m\u001b[1;33m\u001b[0m\u001b[0m\n\u001b[0;32m   2491\u001b[0m             \u001b[0mcache\u001b[0m\u001b[1;33m[\u001b[0m\u001b[0mitem\u001b[0m\u001b[1;33m]\u001b[0m \u001b[1;33m=\u001b[0m \u001b[0mres\u001b[0m\u001b[1;33m\u001b[0m\u001b[1;33m\u001b[0m\u001b[0m\n",
      "\u001b[1;32m~\\Anaconda3\\lib\\site-packages\\pandas\\core\\internals.py\u001b[0m in \u001b[0;36mget\u001b[1;34m(self, item, fastpath)\u001b[0m\n\u001b[0;32m   4113\u001b[0m \u001b[1;33m\u001b[0m\u001b[0m\n\u001b[0;32m   4114\u001b[0m             \u001b[1;32mif\u001b[0m \u001b[1;32mnot\u001b[0m \u001b[0misna\u001b[0m\u001b[1;33m(\u001b[0m\u001b[0mitem\u001b[0m\u001b[1;33m)\u001b[0m\u001b[1;33m:\u001b[0m\u001b[1;33m\u001b[0m\u001b[1;33m\u001b[0m\u001b[0m\n\u001b[1;32m-> 4115\u001b[1;33m                 \u001b[0mloc\u001b[0m \u001b[1;33m=\u001b[0m \u001b[0mself\u001b[0m\u001b[1;33m.\u001b[0m\u001b[0mitems\u001b[0m\u001b[1;33m.\u001b[0m\u001b[0mget_loc\u001b[0m\u001b[1;33m(\u001b[0m\u001b[0mitem\u001b[0m\u001b[1;33m)\u001b[0m\u001b[1;33m\u001b[0m\u001b[1;33m\u001b[0m\u001b[0m\n\u001b[0m\u001b[0;32m   4116\u001b[0m             \u001b[1;32melse\u001b[0m\u001b[1;33m:\u001b[0m\u001b[1;33m\u001b[0m\u001b[1;33m\u001b[0m\u001b[0m\n\u001b[0;32m   4117\u001b[0m                 \u001b[0mindexer\u001b[0m \u001b[1;33m=\u001b[0m \u001b[0mnp\u001b[0m\u001b[1;33m.\u001b[0m\u001b[0marange\u001b[0m\u001b[1;33m(\u001b[0m\u001b[0mlen\u001b[0m\u001b[1;33m(\u001b[0m\u001b[0mself\u001b[0m\u001b[1;33m.\u001b[0m\u001b[0mitems\u001b[0m\u001b[1;33m)\u001b[0m\u001b[1;33m)\u001b[0m\u001b[1;33m[\u001b[0m\u001b[0misna\u001b[0m\u001b[1;33m(\u001b[0m\u001b[0mself\u001b[0m\u001b[1;33m.\u001b[0m\u001b[0mitems\u001b[0m\u001b[1;33m)\u001b[0m\u001b[1;33m]\u001b[0m\u001b[1;33m\u001b[0m\u001b[1;33m\u001b[0m\u001b[0m\n",
      "\u001b[1;32m~\\Anaconda3\\lib\\site-packages\\pandas\\core\\indexes\\base.py\u001b[0m in \u001b[0;36mget_loc\u001b[1;34m(self, key, method, tolerance)\u001b[0m\n\u001b[0;32m   3078\u001b[0m                 \u001b[1;32mreturn\u001b[0m \u001b[0mself\u001b[0m\u001b[1;33m.\u001b[0m\u001b[0m_engine\u001b[0m\u001b[1;33m.\u001b[0m\u001b[0mget_loc\u001b[0m\u001b[1;33m(\u001b[0m\u001b[0mkey\u001b[0m\u001b[1;33m)\u001b[0m\u001b[1;33m\u001b[0m\u001b[1;33m\u001b[0m\u001b[0m\n\u001b[0;32m   3079\u001b[0m             \u001b[1;32mexcept\u001b[0m \u001b[0mKeyError\u001b[0m\u001b[1;33m:\u001b[0m\u001b[1;33m\u001b[0m\u001b[1;33m\u001b[0m\u001b[0m\n\u001b[1;32m-> 3080\u001b[1;33m                 \u001b[1;32mreturn\u001b[0m \u001b[0mself\u001b[0m\u001b[1;33m.\u001b[0m\u001b[0m_engine\u001b[0m\u001b[1;33m.\u001b[0m\u001b[0mget_loc\u001b[0m\u001b[1;33m(\u001b[0m\u001b[0mself\u001b[0m\u001b[1;33m.\u001b[0m\u001b[0m_maybe_cast_indexer\u001b[0m\u001b[1;33m(\u001b[0m\u001b[0mkey\u001b[0m\u001b[1;33m)\u001b[0m\u001b[1;33m)\u001b[0m\u001b[1;33m\u001b[0m\u001b[1;33m\u001b[0m\u001b[0m\n\u001b[0m\u001b[0;32m   3081\u001b[0m \u001b[1;33m\u001b[0m\u001b[0m\n\u001b[0;32m   3082\u001b[0m         \u001b[0mindexer\u001b[0m \u001b[1;33m=\u001b[0m \u001b[0mself\u001b[0m\u001b[1;33m.\u001b[0m\u001b[0mget_indexer\u001b[0m\u001b[1;33m(\u001b[0m\u001b[1;33m[\u001b[0m\u001b[0mkey\u001b[0m\u001b[1;33m]\u001b[0m\u001b[1;33m,\u001b[0m \u001b[0mmethod\u001b[0m\u001b[1;33m=\u001b[0m\u001b[0mmethod\u001b[0m\u001b[1;33m,\u001b[0m \u001b[0mtolerance\u001b[0m\u001b[1;33m=\u001b[0m\u001b[0mtolerance\u001b[0m\u001b[1;33m)\u001b[0m\u001b[1;33m\u001b[0m\u001b[1;33m\u001b[0m\u001b[0m\n",
      "\u001b[1;32mpandas\\_libs\\index.pyx\u001b[0m in \u001b[0;36mpandas._libs.index.IndexEngine.get_loc\u001b[1;34m()\u001b[0m\n",
      "\u001b[1;32mpandas\\_libs\\index.pyx\u001b[0m in \u001b[0;36mpandas._libs.index.IndexEngine.get_loc\u001b[1;34m()\u001b[0m\n",
      "\u001b[1;32mpandas\\_libs\\hashtable_class_helper.pxi\u001b[0m in \u001b[0;36mpandas._libs.hashtable.PyObjectHashTable.get_item\u001b[1;34m()\u001b[0m\n",
      "\u001b[1;32mpandas\\_libs\\hashtable_class_helper.pxi\u001b[0m in \u001b[0;36mpandas._libs.hashtable.PyObjectHashTable.get_item\u001b[1;34m()\u001b[0m\n",
      "\u001b[1;31mKeyError\u001b[0m: 'Treinamento'"
     ]
    }
   ],
   "source": [
    "conteudo = []\n",
    "for t in dftw[\"Treinamento\"]: \n",
    "    pal = t.split()\n",
    "    for p in pal:\n",
    "            conteudo.append(p)\n",
    "            \n",
    "texto=\" \".join(conteudo)\n",
    "series= pd.Series(texto.split())\n",
    "freq = series.value_counts()\n",
    "totalt=freq.sum()\n",
    "print(totalt)\n",
    "dict_tot =freq.to_dict()\n",
    "\n",
    "\n",
    "conteudo = []\n",
    "for t in tweets_irrel: \n",
    "    pal = t.split()\n",
    "    for p in pal:\n",
    "            conteudo.append(p)\n",
    "texto=\" \".join(conteudo)\n",
    "series= pd.Series(texto.split())\n",
    "freq = series.value_counts()\n",
    "totalir=freq.sum()\n",
    "print(totalir)\n",
    "dict_irrel=freq.to_dict()\n",
    "freq_rel_irr=totalir/totalt\n",
    "print(freq_rel_irr)\n"
   ]
  },
  {
   "cell_type": "markdown",
   "metadata": {},
   "source": [
    "___\n",
    "### Concluindo"
   ]
  },
  {
   "cell_type": "markdown",
   "metadata": {},
   "source": [
    "Através da análise realizada, é possível afirmar que há pontos a serem melhorados, dentre eles, o fato de que alguns tweets apresentam sarcasmo, algo que pode ser bastante complicado para ensinar ao classificador identificar e categorizar.\n",
    "\n",
    "\n",
    "Outro ponto é o maior número de categorias, que foi confirmado por meio da análise ser uma prática eficiente para a melhoria do desempenho do programa. Entretanto, indubitavelmente, tal aplicação não deve ser utilizada de forma desnecessária. Com os três tipos de categorização feitos - duas, três e quatro tipos de categorias - é possível obervar que há uma diferença postiva mas não tão significativa a ponto de ser necessária muito mais categorias. Um número muito grande de categorias pode até aumentar a precisão, mas deixará a análsie mais desorganizada. Assim, opta-se por outras alternativas de melhorias e aperfeiçoamento.\n",
    "\n"
   ]
  },
  {
   "cell_type": "markdown",
   "metadata": {},
   "source": [
    "Filtro Spam em emails\n",
    "Classificação de gostos para recomendações personalizadas \n",
    "Reconhecimento facial \n",
    "Diagnósticos médicosv"
   ]
  },
  {
   "cell_type": "markdown",
   "metadata": {},
   "source": [
    "Ou seja, o classificador Naive Bayes pode ser usado em diversas situações em que há uma tendência intrínseca de repetição comportamental. Ele permite fazer previsões e recomendações a partir de informações semelhantes previamente conhecidas."
   ]
  },
  {
   "cell_type": "markdown",
   "metadata": {},
   "source": [
    "___\n",
    "### Como podemos melhorar?"
   ]
  },
  {
   "cell_type": "markdown",
   "metadata": {},
   "source": [
    "Para o aperfeiçoamento do machine learning, pode-se tomar como possibilidade o aumento da base de treinamento e classificá-la, promovendo maior proximidade com a realidade. Outro ponto é o aumento de categorias como já foi explicado na conclusão para a análise mais profunda."
   ]
  },
  {
   "cell_type": "markdown",
   "metadata": {},
   "source": [
    "Um grande problema na implementação do classificador é a presença de sarcasmo em alguns comentários, podendo ocasionar falsos positivos \n",
    "O artigo 'Sentiment Analysis Using Naïve Bayes Classifier' propõe uma solução para essa situação. Tal solução consiste em uma abordagem multifacetada, composta pelos seguintes procedimentos: marcação de tags #sarcastico ou #sarcasmo nos tweets;\n",
    " análise de contrastes na densidade lexical (proporção entre adjetivos, substantivos, etc.);\n",
    " identificação de hipérboles (exclamações, repetição de palavras intensificadoras (como muito, demais, etc) e palavras extendidas (como muuuuuuuito));\n",
    "consideração de emojis\n",
    "O próprio classificador Naive Bayes poderia ser usado para identificar o sarcasmo. O mesmo procedimento do projeto deveria ser seguido, em que o classificador \"aprenderia\" a identificar mensagens sarcásticas por meio de uma amostra classificada"
   ]
  },
  {
   "cell_type": "markdown",
   "metadata": {},
   "source": [
    "___\n",
    "### **Aperfeiçoamento**:\n",
    "\n",
    "Os trabalhos vão evoluir em conceito dependendo da quantidade de itens avançados:\n",
    "\n",
    "* Limpar: \\n, :, \", ', (, ), etc SEM remover emojis\n",
    "* Corrigir separação de espaços entre palavras e emojis ou emojis e emojis\n",
    "* Propor outras limpezas e transformações que não afetem a qualidade da informação ou classificação\n",
    "* Criar categorias intermediárias de relevância baseadas na probabilidade: ex.: muito relevante, relevante, neutro, irrelevante, muito irrelevante (3 categorias: C, mais categorias conta para B)\n",
    "* Explicar por que não posso usar o próprio classificador para gerar mais amostras de treinamento\n",
    "* Propor diferentes cenários para Naïve Bayes fora do contexto do projeto\n",
    "* Sugerir e explicar melhorias reais com indicações concretas de como implementar (indicar como fazer e indicar material de pesquisa)\n",
    "* Montar um dashboard que periodicamente realiza análise de sentimento e visualiza estes dados"
   ]
  },
  {
   "cell_type": "markdown",
   "metadata": {},
   "source": [
    "___\n",
    "### Material de pesquisa"
   ]
  },
  {
   "cell_type": "markdown",
   "metadata": {},
   "source": [
    "- Material disponível nos slides e jupyter no Blackboard\n",
    "\n",
    "- https://stackoverflow.com/questions/12286607/making-heatmap-from-pandas-dataframe\n",
    "\n",
    "- https://twitter.com/home?lang=pt-br\n",
    "\n",
    "- [Naive Bayes and Text Classification](https://arxiv.org/pdf/1410.5329.pdf)  **Mais completo**\n",
    "\n",
    "- [A practical explanation of a Naive Bayes Classifier](https://monkeylearn.com/blog/practical-explanation-naive-bayes-classifier/) **Mais simples**\n",
    "\n",
    "https://www.google.com/url?sa=t&source=web&rct=j&url=https://www.ijitee.org/wp-content/uploads/papers/v8i8/H6330068819.pdf&ved=2ahUKEwiv1smT8NLkAhXkHrkGHSaGD_4QFjACegQIDhAH&usg=AOvVaw0famfei5kKkpmWVm8AqKIr\n",
    "Indonesian News Classification Using Naïve Bayes and Two-Phase Feature Selection Model \n",
    " \n",
    " \n",
    "M. Ali Fauzi*1, Agus Zainal Arifin2, Sonny Christiano Gosaria3, Isnan Suryo Prabowo4 1Faculty of Computer Science, Universitas Brawijaya, Malang, Indonesia 2,3,4Faculty of Information Technology, Institut Teknologi Sepuluh Nopember, Surabaya, Indonesia *Corresponding author, e-mail: moch.ali.fauzi@ub.ac.id "
   ]
  },
  {
   "cell_type": "code",
   "execution_count": null,
   "metadata": {},
   "outputs": [],
   "source": []
  }
 ],
 "metadata": {
  "kernelspec": {
   "display_name": "Python 3",
   "language": "python",
   "name": "python3"
  },
  "language_info": {
   "codemirror_mode": {
    "name": "ipython",
    "version": 3
   },
   "file_extension": ".py",
   "mimetype": "text/x-python",
   "name": "python",
   "nbconvert_exporter": "python",
   "pygments_lexer": "ipython3",
   "version": "3.7.1"
  }
 },
 "nbformat": 4,
 "nbformat_minor": 4
}
