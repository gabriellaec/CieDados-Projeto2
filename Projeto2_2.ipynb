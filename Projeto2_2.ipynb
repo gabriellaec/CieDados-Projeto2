{
 "cells": [
  {
   "cell_type": "markdown",
   "metadata": {},
   "source": [
    "# Projeto 2 - Ciência dos Dados"
   ]
  },
  {
   "cell_type": "markdown",
   "metadata": {},
   "source": [
    "Nome: Gabriela Yukari Mitu\n",
    "\n",
    "Nome: Gabriella Escobar Cukier"
   ]
  },
  {
   "cell_type": "markdown",
   "metadata": {},
   "source": [
    "___\n",
    "# Classificador automático de sentimento\n"
   ]
  },
  {
   "cell_type": "markdown",
   "metadata": {},
   "source": [
    "## Preparando o ambiente no jupyter:"
   ]
  },
  {
   "cell_type": "code",
   "execution_count": 4,
   "metadata": {},
   "outputs": [],
   "source": [
    "%%capture\n",
    "\n",
    "#Instalando o tweepy\n",
    "!pip install tweepy"
   ]
  },
  {
   "cell_type": "code",
   "execution_count": 77,
   "metadata": {},
   "outputs": [],
   "source": [
    "import tweepy\n",
    "import matplotlib.pyplot as plt\n",
    "import math\n",
    "import os.path\n",
    "import pandas as pd\n",
    "import json\n",
    "from random import shuffle"
   ]
  },
  {
   "cell_type": "markdown",
   "metadata": {},
   "source": [
    "___\n",
    "## Autenticando no  Twitter\n",
    "\n",
    "* Conta: ***@gabriela_ymitu***"
   ]
  },
  {
   "cell_type": "code",
   "execution_count": 35,
   "metadata": {},
   "outputs": [],
   "source": [
    "#Dados de autenticação do twitter:\n",
    "\n",
    "#Coloque aqui o identificador da conta no twitter: @gabriela_ymitu\n",
    "\n",
    "#leitura do arquivo no formato JSON\n",
    "with open('auth.pass') as fp:    \n",
    "    data = json.load(fp)\n",
    "\n",
    "#Configurando a biblioteca. Não modificar\n",
    "auth = tweepy.OAuthHandler(data['consumer_key'], data['consumer_secret'])\n",
    "auth.set_access_token(data['access_token'], data['access_token_secret'])"
   ]
  },
  {
   "cell_type": "markdown",
   "metadata": {},
   "source": [
    "___\n",
    "## Etapas do projeto:"
   ]
  },
  {
   "cell_type": "markdown",
   "metadata": {},
   "source": [
    "### Escolha de um produto e coleta das mensagens\n"
   ]
  },
  {
   "cell_type": "code",
   "execution_count": 56,
   "metadata": {},
   "outputs": [],
   "source": [
    "#Produto escolhido:\n",
    "produto = 'Android'\n",
    "\n",
    "#Quantidade mínima de mensagens capturadas:\n",
    "n = 1000\n",
    "#Quantidade mínima de mensagens para a base de treinamento:\n",
    "t = 650\n",
    "\n",
    "#Filtro de língua, escolha uma na tabela ISO 639-1.\n",
    "lang = 'pt'"
   ]
  },
  {
   "cell_type": "markdown",
   "metadata": {},
   "source": [
    "Capturando os dados do twitter:"
   ]
  },
  {
   "cell_type": "code",
   "execution_count": 57,
   "metadata": {},
   "outputs": [],
   "source": [
    "#Cria um objeto para a captura\n",
    "api = tweepy.API(auth)\n",
    "\n",
    "#Inicia a captura, para mais detalhes: ver a documentação do tweepy\n",
    "i = 1\n",
    "msgs = []\n",
    "for msg in tweepy.Cursor(api.search, q=produto, lang=lang).items():    \n",
    "    msgs.append(msg.text.lower())\n",
    "    i += 1\n",
    "    if i > n:\n",
    "        break\n",
    "\n",
    "#Embaralhando as mensagens para reduzir um possível viés\n",
    "shuffle(msgs)"
   ]
  },
  {
   "cell_type": "markdown",
   "metadata": {},
   "source": [
    "Salvando os dados em uma planilha Excel:"
   ]
  },
  {
   "cell_type": "code",
   "execution_count": 58,
   "metadata": {},
   "outputs": [],
   "source": [
    "#Verifica se o arquivo não existe para não substituir um conjunto pronto\n",
    "if not os.path.isfile('./{0}.xlsx'.format(produto)):\n",
    "    \n",
    "    #Abre o arquivo para escrita\n",
    "    writer = pd.ExcelWriter('{0}.xlsx'.format(produto))\n",
    "\n",
    "    #divide o conjunto de mensagens em duas planilhas\n",
    "    dft = pd.DataFrame({'Treinamento' : pd.Series(msgs[:t])})\n",
    "    dft.to_excel(excel_writer = writer, sheet_name = 'Treinamento', index = False)\n",
    "\n",
    "    dfc = pd.DataFrame({'Teste' : pd.Series(msgs[t:])})\n",
    "    dfc.to_excel(excel_writer = writer, sheet_name = 'Teste', index = False)\n",
    "\n",
    "    #fecha o arquivo\n",
    "    writer.save()\n",
    "\n",
    "for msg in tweepy.Cursor(api.search, q=produto, lang=lang, tweet_mode=\"extended\").items():    \n",
    "    if msg.full_text.lower()[0] != 'r' and msg.full_text.lower()[1] != 't':\n",
    "        msgs.append(msg.full_text.lower())\n",
    "        i += 1\n",
    "    if i > n:\n",
    "        break"
   ]
  },
  {
   "cell_type": "markdown",
   "metadata": {},
   "source": [
    "___\n",
    "### Classificando as mensagens na coragem\n",
    "\n",
    "Esta etapa é manual. Faça a mesma pelo Excel."
   ]
  },
  {
   "cell_type": "code",
   "execution_count": 97,
   "metadata": {},
   "outputs": [],
   "source": [
    "dft=pd.read_excel('Android.xlsx','Treinamento',sep=',')\n",
    "dfc=pd.read_excel('Android.xlsx', 'Teste',sep=',')"
   ]
  },
  {
   "cell_type": "code",
   "execution_count": 98,
   "metadata": {},
   "outputs": [
    {
     "data": {
      "text/html": [
       "<div>\n",
       "<style scoped>\n",
       "    .dataframe tbody tr th:only-of-type {\n",
       "        vertical-align: middle;\n",
       "    }\n",
       "\n",
       "    .dataframe tbody tr th {\n",
       "        vertical-align: top;\n",
       "    }\n",
       "\n",
       "    .dataframe thead th {\n",
       "        text-align: right;\n",
       "    }\n",
       "</style>\n",
       "<table border=\"1\" class=\"dataframe\">\n",
       "  <thead>\n",
       "    <tr style=\"text-align: right;\">\n",
       "      <th></th>\n",
       "      <th>Treinamento</th>\n",
       "      <th>Relevância</th>\n",
       "      <th>Categoria</th>\n",
       "    </tr>\n",
       "  </thead>\n",
       "  <tbody>\n",
       "    <tr>\n",
       "      <th>0</th>\n",
       "      <td>browser do android tem explorador de ficheiros...</td>\n",
       "      <td>0</td>\n",
       "      <td>0</td>\n",
       "    </tr>\n",
       "    <tr>\n",
       "      <th>1</th>\n",
       "      <td>apps do android: google quer facilitar o traba...</td>\n",
       "      <td>0</td>\n",
       "      <td>0</td>\n",
       "    </tr>\n",
       "    <tr>\n",
       "      <th>2</th>\n",
       "      <td>esperando o android 10 chegar aqui</td>\n",
       "      <td>0</td>\n",
       "      <td>0</td>\n",
       "    </tr>\n",
       "    <tr>\n",
       "      <th>3</th>\n",
       "      <td>códigos soul knight – lista completa e gemas 2...</td>\n",
       "      <td>0</td>\n",
       "      <td>0</td>\n",
       "    </tr>\n",
       "  </tbody>\n",
       "</table>\n",
       "</div>"
      ],
      "text/plain": [
       "                                         Treinamento  Relevância  Categoria\n",
       "0  browser do android tem explorador de ficheiros...           0          0\n",
       "1  apps do android: google quer facilitar o traba...           0          0\n",
       "2                 esperando o android 10 chegar aqui           0          0\n",
       "3  códigos soul knight – lista completa e gemas 2...           0          0"
      ]
     },
     "execution_count": 98,
     "metadata": {},
     "output_type": "execute_result"
    }
   ],
   "source": [
    "dft.head(4)"
   ]
  },
  {
   "cell_type": "code",
   "execution_count": 99,
   "metadata": {},
   "outputs": [],
   "source": [
    "import re\n",
    "#limpo = re.sub(\"\\.{1,}\", \"?\", \"dft\")"
   ]
  },
  {
   "cell_type": "code",
   "execution_count": 100,
   "metadata": {},
   "outputs": [],
   "source": [
    "lista1=['  ','   ',':','(',')','`','[',']','.','/','\" ',\"'\"]\n",
    "lista2=[' ',' ',' ',' ',' ',' ',' ',' ',' ',' ',' ',' ']\n",
    "for i in range(len(lista1)):\n",
    "    dft['Treinamento']=dft.Treinamento.str.replace(lista1[i], lista2[i])\n",
    "    dfc['Teste']=dfc.Teste.str.replace(lista1[i], lista2[i])\n",
    "dft['Treinamento']=dft.Treinamento.str.lower()\n",
    "dfc['Teste']=dfc.Teste.str.lower()"
   ]
  },
  {
   "cell_type": "code",
   "execution_count": 101,
   "metadata": {},
   "outputs": [
    {
     "data": {
      "text/plain": [
       "0    [browser, do, android, tem, explorador, de, fi...\n",
       "1    [apps, do, android, google, quer, facilitar, o...\n",
       "2            [esperando, o, android, 10, chegar, aqui]\n",
       "3    [códigos, soul, knight, –, lista, completa, e,...\n",
       "4    [ter, dois, celulares, é, mo, missão, kkkkk, f...\n",
       "Name: Treinamento, dtype: object"
      ]
     },
     "execution_count": 101,
     "metadata": {},
     "output_type": "execute_result"
    }
   ],
   "source": [
    "dft['Treinamento']=dft['Treinamento'].str.split()\n",
    "dfc['Teste']=dfc['Teste'].str.split()\n",
    "dft['Treinamento'].head()"
   ]
  },
  {
   "cell_type": "markdown",
   "metadata": {},
   "source": [
    "___\n",
    "### Montando o Classificador Naive-Bayes\n",
    "\n",
    "Considerando apenas as mensagens da planilha Treinamento, ensine  seu classificador."
   ]
  },
  {
   "cell_type": "code",
   "execution_count": 102,
   "metadata": {},
   "outputs": [],
   "source": [
    "dftLen=len(dft)\n",
    "\n",
    "dftIrre=dft[dft['Categoria']==0]\n",
    "dftIrreLen=len(dftIrre)\n",
    "\n",
    "dftNeutro=dft[dft['Categoria']==1]\n",
    "dftNeutroLen=len(dftNeutro)\n",
    "\n",
    "dftRelev=dft[dft['Categoria']==2]\n",
    "dftRelevLen=len(dftRelev)\n",
    "\n",
    "dftMtRelev=dft[dft['Categoria']==3]\n",
    "dftMtRelevLen=len(dftMtRelev)"
   ]
  },
  {
   "cell_type": "markdown",
   "metadata": {},
   "source": [
    "Na coluna de Relevância, foram separados 4 tipos de classificação: Irrelevante, Neutro, Relevante e Muito Relevante. Como critério para identificar cada tipo foi utilizada a definição a seguir:\n",
    "\n",
    "**Irrelevante**:\n",
    "- Situações pessoais\n",
    "- Críticas muito pobres\n",
    "- Comentários aleatórios não referenciais ao sistema Android\n",
    "\n",
    "\n",
    "**Neutro**:\n",
    "- Dicas/dúvidas de pessoas sobre alguma ferramenta do android ou até um app que poderia ser desenvolvido pelo android conforme a busca do usuário por tal funcionalidade. Tais pontos podem ser usados para aperfeiçoamento de alguma ferramenta ou clareza desta para os usuários se a dúvida persistir\n",
    "- Anúncio de aplicativos/ferramenta/atualizações para usuários. Desta forma, a empresa pode ter conhecimento da divulgação que está sendo feita para ela.\n",
    "- Crítica incompleta, isto é, não é compreensível apenas visualizando o tweet, há necessidade de pesquisar mais a fundo sobre o contexto - menos prático que apenas receber a crítica, mas pode ser relevante.\n",
    "\n",
    "\n",
    "**Relevante**:\n",
    "- Tweet sobre os aplicativos dominantes ou não do sistema operacional ou críticas sobre o funcionamento deles no Android\n",
    "- Críticas simples, mas que funcionam como parâmetro em conjunto, se é muito criticado ou não - grande quantidade de pessoas abordando o mesmo assunto sobre o sistema - ou mesmo como parâmetro para manter determinada característica/ferramenta.\n",
    "\n",
    "\n",
    "**Muito Relevante**: Críticas mais construtivas/Sugestão – aborda ao menos o problema/qualidade. Coleta de dados a fim de otimizar o Android"
   ]
  },
  {
   "cell_type": "code",
   "execution_count": 103,
   "metadata": {},
   "outputs": [],
   "source": [
    "# Contagem de palavras dado sua categoria\n",
    "#Irrelevante\n",
    "dftIrreProb=dftRelev[\"Treinamento\"].sum()\n",
    "dftIrreProb=pd.Series(dftIrreProb)\n",
    "dftIrreProb=dftIrreProb.value_counts()\n",
    "\n",
    "#Neutro\n",
    "dftNeutroProb=dftNeutro[\"Treinamento\"].sum()\n",
    "dftNeutroProb=pd.Series(dftNeutroProb)\n",
    "dftNeutroProb=dftNeutroProb.value_counts()\n",
    "\n",
    "#Relevante\n",
    "dftRelevProb=dftRelev[\"Treinamento\"].sum()\n",
    "dftRelevProb=pd.Series(dftRelevProb)\n",
    "dftRelevProb=dftRelevProb.value_counts()\n",
    "\n",
    "#Muito relevante\n",
    "dftMtRelevProb=dftMtRelev[\"Treinamento\"].sum()\n",
    "dftMtRelevProb=pd.Series(dftMtRelevProb)\n",
    "dftMtRelevProb=dftMtRelevProb.value_counts()\n",
    "\n",
    "#Total\n",
    "dftTotal=dft.Treinamento.sum()\n",
    "dftTotal=pd.Series(dftTotal)\n",
    "dftTotal=dftTotal.value_counts()"
   ]
  },
  {
   "cell_type": "code",
   "execution_count": 104,
   "metadata": {},
   "outputs": [],
   "source": [
    "dftPalavras=dft.Treinamento.sum()\n",
    "dftPalavras=pd.Series(dftPalavras)\n",
    "dftPalavras=len(dftPalavras)\n",
    "\n",
    "#Check de palavras\n",
    "check=dft.Treinamento.sum()\n",
    "check=pd.Series(check)"
   ]
  },
  {
   "cell_type": "code",
   "execution_count": 105,
   "metadata": {},
   "outputs": [],
   "source": [
    "#Números totais de palavras em cada categoria, mas agora em variáveis\n",
    "#Irrelevante\n",
    "IrrePalavras=dftIrre[\"Treinamento\"].sum()\n",
    "IrrePalavras=pd.Series(IrrePalavras)\n",
    "IrrePalavras=len(IrrePalavras)\n",
    "\n",
    "#Neutro\n",
    "NeutroPalavras=dftNeutro[\"Treinamento\"].sum()\n",
    "NeutroPalavras=pd.Series(NeutroPalavras)\n",
    "NeutroPalavras=len(NeutroPalavras)\n",
    "\n",
    "#Relevante\n",
    "RelevPalavras=dftRelev[\"Treinamento\"].sum()\n",
    "RelevPalavras=pd.Series(RelevPalavras)\n",
    "RelevPalavras=len(RelevPalavras)\n",
    "\n",
    "#Muito Relevante\n",
    "MtRelevPalavras=dftMtRelev[\"Treinamento\"].sum()\n",
    "MtRelevPalavras=pd.Series(MtRelevPalavras)\n",
    "MtRelevPalavras=len(MtRelevPalavras)\n"
   ]
  },
  {
   "cell_type": "code",
   "execution_count": 106,
   "metadata": {},
   "outputs": [
    {
     "name": "stdout",
     "output_type": "stream",
     "text": [
      "A probablidade de ser Irrelevante é: 88.170 %\n",
      "A probablidade de ser Neutro é: 3.281 %\n",
      "A probablidade de ser Relevante é: 5.252 %\n",
      "A probablidade de ser Irrelevante  é: 3.297 %\n"
     ]
    }
   ],
   "source": [
    "# Probabilidades base\n",
    "ProbIrre=IrrePalavras/(dftPalavras)\n",
    "ProbNeutro=NeutroPalavras/(dftPalavras)\n",
    "ProbRelev=RelevPalavras/(dftPalavras)\n",
    "ProbMtRelev=MtRelevPalavras/(dftPalavras)\n",
    "\n",
    "print('A probablidade de ser Irrelevante é: {0:.3f} %'.format(ProbIrre*100))\n",
    "print('A probablidade de ser Neutro é: {0:.3f} %'.format(ProbNeutro*100))\n",
    "print('A probablidade de ser Relevante é: {0:.3f} %'.format(ProbRelev*100))\n",
    "print('A probablidade de ser Irrelevante  é: {0:.3f} %'.format(ProbMtRelev*100))"
   ]
  },
  {
   "cell_type": "code",
   "execution_count": 107,
   "metadata": {},
   "outputs": [],
   "source": [
    "g=[]\n",
    "for i in check:\n",
    "    if i not in g:\n",
    "        g.append(i)\n",
    "lala=len(g)\n",
    "dftIrreProb2=(dftIrreProb+1)/(IrrePalavras+lala)\n",
    "dftNeutroProb2=(dftNeutroProb+1)/(NeutroPalavras+lala)\n",
    "dftRelevProb2=(dftRelevProb+1)/(RelevPalavras+lala)\n",
    "dftMtRelevProb2=(dftMtRelevProb+1)/(MtRelevPalavras+lala)"
   ]
  },
  {
   "cell_type": "code",
   "execution_count": 108,
   "metadata": {},
   "outputs": [],
   "source": [
    "resultado=[]\n",
    "def bayes(df,dfPalavras,lista):\n",
    "    laplace=(1/(lala))# obs da folha\n",
    "    for i in df: # for i in df.index:\n",
    "        c_irre=1\n",
    "        c_neutro=1\n",
    "        c_relev=1\n",
    "        c_mtrelev=1\n",
    "        for u in i:\n",
    "            #p=dfTotal[u]/len(dfTotal) #(Probabilidade da palavra no espaço amostral de todas as palavras)\n",
    "            if u not in dftIrreProb2:\n",
    "                p_irre=laplace\n",
    "            else:\n",
    "                p_irre=dftIrreProb2[u]\n",
    "            if u not in dftNeutroProb2:\n",
    "                p_neutro=laplace\n",
    "            else:\n",
    "                p_neutro=dftNeutroProb2[u]\n",
    "            if u not in dftRelevProb2:\n",
    "                p_relev=laplace\n",
    "            else:\n",
    "                p_relev=dftRelevProb2[u]\n",
    "            if u not in dftMtRelevProb2:\n",
    "                p_mtrelev=laplace\n",
    "            else:\n",
    "                p_mtrelev=dftMtRelevProb2[u]\n",
    "                \n",
    "            c_irre*=(p_irre)\n",
    "            c_neutro*=(p_neutro)\n",
    "            c_relev*=(p_relev)\n",
    "            c_mtrelev*=(p_mtrelev)\n",
    "        c_irre=c_irre*(ProbIrre)\n",
    "        #print(\"c_bom:\",c_bom)\n",
    "        c_neutro=c_neutro*(ProbNeutro)\n",
    "        #print(\"c_ruim:\",c_ruim)\n",
    "        c_relev=c_relev*(ProbRelev)\n",
    "        #print(\"c_irre:\",c_irre)\n",
    "        c_mtrelev=c_mtrelev*(ProbNeutro)\n",
    "\n",
    "        if c_irre>c_neutro and c_irre>c_relev and c_irre>c_neutro:\n",
    "            #Classifica como Irrelevante (3)\n",
    "            lista.append(3)\n",
    "\n",
    "        elif c_neutro>c_relev and c_neutro>c_relev and c_neutro>c_mtrelev:\n",
    "            #Classifica como Neutro (1)\n",
    "            lista.append(1)\n",
    "        elif c_relev>c_irre and c_relev>c_neutro and c_relev>c_mtrelev:\n",
    "            #Classifica como Relevante (0)\n",
    "            lista.append(0)\n",
    "        else:\n",
    "            #Classifica como Muito Relevante (2) \n",
    "            lista.append(2)\n",
    "    return lista"
   ]
  },
  {
   "cell_type": "code",
   "execution_count": 109,
   "metadata": {},
   "outputs": [],
   "source": [
    "a=bayes(dft[\"Treinamento\"],dftPalavras,resultado)"
   ]
  },
  {
   "cell_type": "code",
   "execution_count": 110,
   "metadata": {},
   "outputs": [],
   "source": [
    "dft[\"Resultado\"]=a"
   ]
  },
  {
   "cell_type": "code",
   "execution_count": 111,
   "metadata": {},
   "outputs": [
    {
     "data": {
      "text/html": [
       "<div>\n",
       "<style scoped>\n",
       "    .dataframe tbody tr th:only-of-type {\n",
       "        vertical-align: middle;\n",
       "    }\n",
       "\n",
       "    .dataframe tbody tr th {\n",
       "        vertical-align: top;\n",
       "    }\n",
       "\n",
       "    .dataframe thead th {\n",
       "        text-align: right;\n",
       "    }\n",
       "</style>\n",
       "<table border=\"1\" class=\"dataframe\">\n",
       "  <thead>\n",
       "    <tr style=\"text-align: right;\">\n",
       "      <th></th>\n",
       "      <th>Treinamento</th>\n",
       "      <th>Relevância</th>\n",
       "      <th>Categoria</th>\n",
       "      <th>Resultado</th>\n",
       "    </tr>\n",
       "  </thead>\n",
       "  <tbody>\n",
       "    <tr>\n",
       "      <th>0</th>\n",
       "      <td>[browser, do, android, tem, explorador, de, fi...</td>\n",
       "      <td>0</td>\n",
       "      <td>0</td>\n",
       "      <td>0</td>\n",
       "    </tr>\n",
       "    <tr>\n",
       "      <th>1</th>\n",
       "      <td>[apps, do, android, google, quer, facilitar, o...</td>\n",
       "      <td>0</td>\n",
       "      <td>0</td>\n",
       "      <td>0</td>\n",
       "    </tr>\n",
       "    <tr>\n",
       "      <th>2</th>\n",
       "      <td>[esperando, o, android, 10, chegar, aqui]</td>\n",
       "      <td>0</td>\n",
       "      <td>0</td>\n",
       "      <td>0</td>\n",
       "    </tr>\n",
       "    <tr>\n",
       "      <th>3</th>\n",
       "      <td>[códigos, soul, knight, –, lista, completa, e,...</td>\n",
       "      <td>0</td>\n",
       "      <td>0</td>\n",
       "      <td>2</td>\n",
       "    </tr>\n",
       "  </tbody>\n",
       "</table>\n",
       "</div>"
      ],
      "text/plain": [
       "                                         Treinamento  Relevância  Categoria  \\\n",
       "0  [browser, do, android, tem, explorador, de, fi...           0          0   \n",
       "1  [apps, do, android, google, quer, facilitar, o...           0          0   \n",
       "2          [esperando, o, android, 10, chegar, aqui]           0          0   \n",
       "3  [códigos, soul, knight, –, lista, completa, e,...           0          0   \n",
       "\n",
       "   Resultado  \n",
       "0          0  \n",
       "1          0  \n",
       "2          0  \n",
       "3          2  "
      ]
     },
     "execution_count": 111,
     "metadata": {},
     "output_type": "execute_result"
    }
   ],
   "source": [
    "dft.head(4)"
   ]
  },
  {
   "cell_type": "code",
   "execution_count": 112,
   "metadata": {},
   "outputs": [
    {
     "data": {
      "text/html": [
       "<div>\n",
       "<style scoped>\n",
       "    .dataframe tbody tr th:only-of-type {\n",
       "        vertical-align: middle;\n",
       "    }\n",
       "\n",
       "    .dataframe tbody tr th {\n",
       "        vertical-align: top;\n",
       "    }\n",
       "\n",
       "    .dataframe thead th {\n",
       "        text-align: right;\n",
       "    }\n",
       "</style>\n",
       "<table border=\"1\" class=\"dataframe\">\n",
       "  <thead>\n",
       "    <tr style=\"text-align: right;\">\n",
       "      <th>Resultado</th>\n",
       "      <th>0</th>\n",
       "      <th>1</th>\n",
       "      <th>2</th>\n",
       "      <th>3</th>\n",
       "    </tr>\n",
       "    <tr>\n",
       "      <th>Categoria</th>\n",
       "      <th></th>\n",
       "      <th></th>\n",
       "      <th></th>\n",
       "      <th></th>\n",
       "    </tr>\n",
       "  </thead>\n",
       "  <tbody>\n",
       "    <tr>\n",
       "      <th>0</th>\n",
       "      <td>428</td>\n",
       "      <td>37</td>\n",
       "      <td>73</td>\n",
       "      <td>36</td>\n",
       "    </tr>\n",
       "    <tr>\n",
       "      <th>1</th>\n",
       "      <td>2</td>\n",
       "      <td>30</td>\n",
       "      <td>0</td>\n",
       "      <td>0</td>\n",
       "    </tr>\n",
       "    <tr>\n",
       "      <th>2</th>\n",
       "      <td>26</td>\n",
       "      <td>0</td>\n",
       "      <td>0</td>\n",
       "      <td>0</td>\n",
       "    </tr>\n",
       "    <tr>\n",
       "      <th>3</th>\n",
       "      <td>0</td>\n",
       "      <td>0</td>\n",
       "      <td>18</td>\n",
       "      <td>0</td>\n",
       "    </tr>\n",
       "  </tbody>\n",
       "</table>\n",
       "</div>"
      ],
      "text/plain": [
       "Resultado    0   1   2   3\n",
       "Categoria                 \n",
       "0          428  37  73  36\n",
       "1            2  30   0   0\n",
       "2           26   0   0   0\n",
       "3            0   0  18   0"
      ]
     },
     "execution_count": 112,
     "metadata": {},
     "output_type": "execute_result"
    }
   ],
   "source": [
    "xx=pd.crosstab(dft['Categoria'], dft['Resultado'])\n",
    "xx"
   ]
  },
  {
   "cell_type": "code",
   "execution_count": 113,
   "metadata": {},
   "outputs": [],
   "source": [
    "acerto=(xx[0][0]+xx[1][1]+xx[2][2]+xx[3][3])/(sum(xx[0])+sum(xx[1])+sum(xx[2])+sum(xx[3]))"
   ]
  },
  {
   "cell_type": "code",
   "execution_count": 114,
   "metadata": {},
   "outputs": [
    {
     "name": "stdout",
     "output_type": "stream",
     "text": [
      "Testando no treinamento:\n",
      "\n",
      "Taxa de Irrelevante Verdadeiro: 93.860 %\n",
      "Taxa de Irrelevante Falso: 6.140 %\n",
      "-------------------------\n",
      "Taxa de Neutro Verdadeiro: 55.224 %\n",
      "Taxa de Neutro Falso: 44.776 %\n",
      "-------------------------\n",
      "Taxa de Relevante Verdadeiro: 80.220 %\n",
      "Taxa de Relevante Falso: 19.780 %\n",
      "-------------------------\n",
      "Taxa de Muito Relevante Verdadeiro: 100.000 %\n",
      "Taxa de Muito Relevante Falso: 0.000 %\n",
      "-------------------------\n"
     ]
    }
   ],
   "source": [
    "def verifica(ct, categorias): #ct = Crosstab ; categoria = 'string' (ruim, bom, etc)\n",
    "    dicio={}\n",
    "    for i in categorias:\n",
    "        if i=='Irrelevante':\n",
    "            verdadeiro=(ct[0][0])/sum(ct[0])\n",
    "            falso=(sum(ct[0])-ct[0][0])/sum(ct[0])\n",
    "        elif i=='Neutro':\n",
    "            verdadeiro=(ct[1][0])/sum(ct[1])\n",
    "            falso=(sum(ct[1])-ct[1][0])/sum(ct[1])\n",
    "        elif i=='Relevante':\n",
    "            verdadeiro=(ct[2][0])/sum(ct[2])\n",
    "            falso=(sum(ct[2])-ct[2][0])/sum(ct[2])\n",
    "        elif i=='Muito Relevante':\n",
    "            verdadeiro=(ct[3][0])/sum(ct[3])\n",
    "            falso=(sum(ct[3])-ct[3][0])/sum(ct[3])\n",
    "        print('Taxa de {0} Verdadeiro: {1:.3f} %'.format(i,verdadeiro*100))\n",
    "        print('Taxa de {0} Falso: {1:.3f} %'.format(i,falso*100))\n",
    "        print('-'*25)\n",
    "        dicio[i]=[verdadeiro,falso]\n",
    "    return(dicio)\n",
    "cat=['Irrelevante','Neutro','Relevante','Muito Relevante']\n",
    "print('Testando no treinamento:\\n')\n",
    "ver=verifica(xx,cat)"
   ]
  },
  {
   "cell_type": "code",
   "execution_count": 115,
   "metadata": {},
   "outputs": [],
   "source": [
    "nome_resultado=[]\n",
    "for i in range(len(dft[\"Treinamento\"])):\n",
    "    if dft[\"Relevância\"][i]==0 and dft[\"Resultado\"][i]==0:\n",
    "        nome_resultado.append('Irrelevante Verdadeiro')\n",
    "    if dft[\"Relevância\"][i]==1 and dft[\"Resultado\"][i]==1:\n",
    "        nome_resultado.append('Neutro Verdadeiro')\n",
    "    if dft[\"Relevância\"][i]==2 and dft[\"Resultado\"][i]==2:\n",
    "        nome_resultado.append('Relevante Verdadeiro') \n",
    "    if dft[\"Relevância\"][i]==3 and dft[\"Resultado\"][i]==3:\n",
    "        nome_resultado.append('Muito Relevante Verdadeiro')\n",
    "    if dft[\"Resultado\"][i]==0 and (dft[\"Relevância\"][i]==1 or dft[\"Relevância\"][i]==2 or dft[\"Relevância\"][i]==3):\n",
    "        nome_resultado.append('Irrelevante Falso')\n",
    "    if dft[\"Resultado\"][i]==1 and (dft[\"Relevância\"][i]==0 or dft[\"Relevância\"][i]==2 or dft[\"Relevância\"][i]==3):\n",
    "        nome_resultado.append('Neutro Falso')\n",
    "    if dft[\"Resultado\"][i]==2 and (dft[\"Relevância\"][i]==1 or dft[\"Relevância\"][i]==0 or dft[\"Relevância\"][i]==3):\n",
    "        nome_resultado.append('Relevante Falso')\n",
    "    if dft[\"Resultado\"][i]==3 and (dft[\"Relevância\"][i]==1 or dft[\"Relevância\"][i]==2 or dft[\"Relevância\"][i]==0):\n",
    "        nome_resultado.append('Muito Relevante Falso')\n",
    "        \n",
    "dft['Resultado-legenda']=nome_resultado"
   ]
  },
  {
   "cell_type": "code",
   "execution_count": 116,
   "metadata": {},
   "outputs": [
    {
     "name": "stdout",
     "output_type": "stream",
     "text": [
      "Taxa de Irrelevante Verdadeiro: 93.860 %\n",
      "Taxa de Irrelevante Falso: 6.140 %\n",
      "-------------------------\n",
      "Taxa de Neutro Verdadeiro: 55.224 %\n",
      "Taxa de Neutro Falso: 44.776 %\n",
      "-------------------------\n",
      "Taxa de Relevante Verdadeiro: 80.220 %\n",
      "Taxa de Relevante Falso: 19.780 %\n",
      "-------------------------\n",
      "Taxa de Muito Relevante Verdadeiro: 100.000 %\n",
      "Taxa de Muito Relevante Falso: 0.000 %\n",
      "-------------------------\n"
     ]
    },
    {
     "data": {
      "image/png": "[encoded data removed]",
      "text/plain": [
       "<Figure size 504x504 with 1 Axes>"
      ]
     },
     "metadata": {},
     "output_type": "display_data"
    },
    {
     "name": "stdout",
     "output_type": "stream",
     "text": [
      "Taxa de Acerto: 70.462 %\n"
     ]
    }
   ],
   "source": [
    "pelotodo = dft['Resultado-legenda'].value_counts()/len(nome_resultado)\n",
    "tododado = pelotodo.reindex(['Irrelevante Verdadeiro','Neutro Verdadeiro','Relevante Verdadeiro','Muito Relevante Verdadeiro','Irrelevante Falso','Neutro Falso','Relevante Falso','Muito Relevante Falso'])\n",
    "plot = tododado.plot(kind='pie',title='Acertos pelo Todo (%)',autopct='%.1f',figsize=(7, 7))\n",
    "ver=verifica(xx,cat)\n",
    "plt.show()\n",
    "print(\"Taxa de Acerto: {:.3f} %\".format(acerto*100))"
   ]
  },
  {
   "cell_type": "markdown",
   "metadata": {},
   "source": [
    "___\n",
    "### Verificando a performance\n",
    "\n",
    "Agora você deve testar o seu classificador com a base de Testes."
   ]
  },
  {
   "cell_type": "code",
   "execution_count": null,
   "metadata": {},
   "outputs": [],
   "source": []
  },
  {
   "cell_type": "code",
   "execution_count": null,
   "metadata": {},
   "outputs": [],
   "source": []
  },
  {
   "cell_type": "markdown",
   "metadata": {},
   "source": [
    "___\n",
    "### Concluindo"
   ]
  },
  {
   "cell_type": "code",
   "execution_count": null,
   "metadata": {},
   "outputs": [],
   "source": []
  },
  {
   "cell_type": "code",
   "execution_count": null,
   "metadata": {},
   "outputs": [],
   "source": []
  },
  {
   "cell_type": "markdown",
   "metadata": {},
   "source": [
    "## Aperfeiçoamento:\n",
    "\n",
    "Os trabalhos vão evoluir em conceito dependendo da quantidade de itens avançados:\n",
    "\n",
    "* Limpar: \\n, :, \", ', (, ), etc SEM remover emojis\n",
    "* Corrigir separação de espaços entre palavras e emojis ou emojis e emojis\n",
    "* Propor outras limpezas e transformações que não afetem a qualidade da informação ou classificação\n",
    "* Criar categorias intermediárias de relevância baseadas na probabilidade: ex.: muito relevante, relevante, neutro, irrelevante, muito irrelevante (3 categorias: C, mais categorias conta para B)\n",
    "* Explicar por que não posso usar o próprio classificador para gerar mais amostras de treinamento\n",
    "* Propor diferentes cenários para Naïve Bayes fora do contexto do projeto\n",
    "* Sugerir e explicar melhorias reais com indicações concretas de como implementar (indicar como fazer e indicar material de pesquisa)\n",
    "* Montar um dashboard que periodicamente realiza análise de sentimento e visualiza estes dados"
   ]
  },
  {
   "cell_type": "markdown",
   "metadata": {},
   "source": [
    "# Referências"
   ]
  },
  {
   "cell_type": "markdown",
   "metadata": {},
   "source": [
    "[Naive Bayes and Text Classification](https://arxiv.org/pdf/1410.5329.pdf)  **Mais completo**\n",
    "\n",
    "[A practical explanation of a Naive Bayes Classifier](https://monkeylearn.com/blog/practical-explanation-naive-bayes-classifier/) **Mais simples**"
   ]
  },
  {
   "cell_type": "code",
   "execution_count": null,
   "metadata": {},
   "outputs": [],
   "source": []
  }
 ],
 "metadata": {
  "kernelspec": {
   "display_name": "Python 3",
   "language": "python",
   "name": "python3"
  },
  "language_info": {
   "codemirror_mode": {
    "name": "ipython",
    "version": 3
   },
   "file_extension": ".py",
   "mimetype": "text/x-python",
   "name": "python",
   "nbconvert_exporter": "python",
   "pygments_lexer": "ipython3",
   "version": "3.7.1"
  }
 },
 "nbformat": 4,
 "nbformat_minor": 2
}
